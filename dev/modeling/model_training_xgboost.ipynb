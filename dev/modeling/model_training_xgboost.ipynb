{
 "cells": [
  {
   "cell_type": "code",
   "execution_count": 18,
   "metadata": {},
   "outputs": [],
   "source": [
    "import numpy as np\n",
    "import pandas as pd\n",
    "import warnings\n",
    "warnings.filterwarnings('ignore')\n",
    "from sklearn.linear_model import LinearRegression\n",
    "from sklearn.model_selection import GridSearchCV, RandomizedSearchCV, train_test_split\n",
    "from sklearn.metrics import fbeta_score, make_scorer, precision_recall_curve, auc, accuracy_score, roc_curve\n",
    "from xgboost.sklearn import XGBClassifier\n",
    "import joblib\n",
    "from modeling_helper import create_xy, search_result, get_important_feature\n",
    "import matplotlib.pyplot as plt"
   ]
  },
  {
   "cell_type": "code",
   "execution_count": 2,
   "metadata": {},
   "outputs": [],
   "source": [
    "flights = pd.read_csv('/Users/user/Documents/Github/flightstatus/data/dev/flights_processed.csv')"
   ]
  },
  {
   "cell_type": "code",
   "execution_count": 3,
   "metadata": {},
   "outputs": [],
   "source": [
    "datatrainval, datatest= train_test_split(flights, stratify = flights['TARGET'], test_size=0.25, random_state=12)\n",
    "datatrain, dataval = train_test_split(datatrainval, stratify = datatrainval['TARGET'], test_size=0.3, random_state=12)"
   ]
  },
  {
   "cell_type": "code",
   "execution_count": 4,
   "metadata": {},
   "outputs": [],
   "source": [
    "X_train, y_train = create_xy(datatrain)\n",
    "X_val, y_val = create_xy(dataval)\n",
    "X_test, y_test = create_xy(datatest)"
   ]
  },
  {
   "cell_type": "markdown",
   "metadata": {},
   "source": [
    "### Starting model\n",
    "\n",
    "`scale_pos_weight` is the ratio of number of negative class to the positive class. "
   ]
  },
  {
   "cell_type": "code",
   "execution_count": 7,
   "metadata": {},
   "outputs": [],
   "source": [
    "spw = (sum(y_train==0) + sum(y_val==0))/(sum(y_train==1)+sum(y_val==1))\n",
    "metric='aucpr'"
   ]
  },
  {
   "cell_type": "code",
   "execution_count": 8,
   "metadata": {},
   "outputs": [
    {
     "name": "stdout",
     "output_type": "stream",
     "text": [
      "[0]\tvalidation_0-aucpr:0.487414\tvalidation_1-aucpr:0.48794\n",
      "Multiple eval metrics have been passed: 'validation_1-aucpr' will be used for early stopping.\n",
      "\n",
      "Will train until validation_1-aucpr hasn't improved in 5 rounds.\n",
      "[1]\tvalidation_0-aucpr:0.501738\tvalidation_1-aucpr:0.502125\n",
      "[2]\tvalidation_0-aucpr:0.517739\tvalidation_1-aucpr:0.517958\n",
      "[3]\tvalidation_0-aucpr:0.523098\tvalidation_1-aucpr:0.523461\n",
      "[4]\tvalidation_0-aucpr:0.525676\tvalidation_1-aucpr:0.52575\n",
      "[5]\tvalidation_0-aucpr:0.528701\tvalidation_1-aucpr:0.528787\n",
      "[6]\tvalidation_0-aucpr:0.530207\tvalidation_1-aucpr:0.530201\n",
      "[7]\tvalidation_0-aucpr:0.533185\tvalidation_1-aucpr:0.532635\n",
      "[8]\tvalidation_0-aucpr:0.539912\tvalidation_1-aucpr:0.539595\n",
      "[9]\tvalidation_0-aucpr:0.54208\tvalidation_1-aucpr:0.541753\n",
      "[10]\tvalidation_0-aucpr:0.54605\tvalidation_1-aucpr:0.54554\n",
      "[11]\tvalidation_0-aucpr:0.548366\tvalidation_1-aucpr:0.547655\n",
      "[12]\tvalidation_0-aucpr:0.549435\tvalidation_1-aucpr:0.548624\n",
      "[13]\tvalidation_0-aucpr:0.551542\tvalidation_1-aucpr:0.550592\n",
      "[14]\tvalidation_0-aucpr:0.554852\tvalidation_1-aucpr:0.553668\n",
      "[15]\tvalidation_0-aucpr:0.555793\tvalidation_1-aucpr:0.554397\n",
      "[16]\tvalidation_0-aucpr:0.556742\tvalidation_1-aucpr:0.555202\n",
      "[17]\tvalidation_0-aucpr:0.557667\tvalidation_1-aucpr:0.556076\n",
      "[18]\tvalidation_0-aucpr:0.558302\tvalidation_1-aucpr:0.556704\n",
      "[19]\tvalidation_0-aucpr:0.559257\tvalidation_1-aucpr:0.55774\n",
      "[20]\tvalidation_0-aucpr:0.560619\tvalidation_1-aucpr:0.559019\n",
      "[21]\tvalidation_0-aucpr:0.562398\tvalidation_1-aucpr:0.560976\n",
      "[22]\tvalidation_0-aucpr:0.562767\tvalidation_1-aucpr:0.561234\n",
      "[23]\tvalidation_0-aucpr:0.563412\tvalidation_1-aucpr:0.561805\n",
      "[24]\tvalidation_0-aucpr:0.563793\tvalidation_1-aucpr:0.562115\n",
      "[25]\tvalidation_0-aucpr:0.563994\tvalidation_1-aucpr:0.562287\n",
      "[26]\tvalidation_0-aucpr:0.565748\tvalidation_1-aucpr:0.564019\n",
      "[27]\tvalidation_0-aucpr:0.566322\tvalidation_1-aucpr:0.564543\n",
      "[28]\tvalidation_0-aucpr:0.567159\tvalidation_1-aucpr:0.565325\n",
      "[29]\tvalidation_0-aucpr:0.567734\tvalidation_1-aucpr:0.565749\n",
      "[30]\tvalidation_0-aucpr:0.56876\tvalidation_1-aucpr:0.566664\n",
      "[31]\tvalidation_0-aucpr:0.56903\tvalidation_1-aucpr:0.566944\n",
      "[32]\tvalidation_0-aucpr:0.569434\tvalidation_1-aucpr:0.567314\n",
      "[33]\tvalidation_0-aucpr:0.569808\tvalidation_1-aucpr:0.567561\n",
      "[34]\tvalidation_0-aucpr:0.570446\tvalidation_1-aucpr:0.567945\n",
      "[35]\tvalidation_0-aucpr:0.570815\tvalidation_1-aucpr:0.568235\n",
      "[36]\tvalidation_0-aucpr:0.571134\tvalidation_1-aucpr:0.568339\n",
      "[37]\tvalidation_0-aucpr:0.571911\tvalidation_1-aucpr:0.569005\n",
      "[38]\tvalidation_0-aucpr:0.572226\tvalidation_1-aucpr:0.569297\n",
      "[39]\tvalidation_0-aucpr:0.573119\tvalidation_1-aucpr:0.570123\n",
      "[40]\tvalidation_0-aucpr:0.573776\tvalidation_1-aucpr:0.570801\n",
      "[41]\tvalidation_0-aucpr:0.573992\tvalidation_1-aucpr:0.570931\n",
      "[42]\tvalidation_0-aucpr:0.574322\tvalidation_1-aucpr:0.571186\n",
      "[43]\tvalidation_0-aucpr:0.574527\tvalidation_1-aucpr:0.571301\n",
      "[44]\tvalidation_0-aucpr:0.57517\tvalidation_1-aucpr:0.571638\n",
      "[45]\tvalidation_0-aucpr:0.575489\tvalidation_1-aucpr:0.571696\n",
      "[46]\tvalidation_0-aucpr:0.575983\tvalidation_1-aucpr:0.572213\n",
      "[47]\tvalidation_0-aucpr:0.576296\tvalidation_1-aucpr:0.57239\n",
      "[48]\tvalidation_0-aucpr:0.57648\tvalidation_1-aucpr:0.572477\n",
      "[49]\tvalidation_0-aucpr:0.577381\tvalidation_1-aucpr:0.573306\n",
      "[50]\tvalidation_0-aucpr:0.577729\tvalidation_1-aucpr:0.573605\n",
      "[51]\tvalidation_0-aucpr:0.57818\tvalidation_1-aucpr:0.5739\n",
      "[52]\tvalidation_0-aucpr:0.578444\tvalidation_1-aucpr:0.574128\n",
      "[53]\tvalidation_0-aucpr:0.578653\tvalidation_1-aucpr:0.574271\n",
      "[54]\tvalidation_0-aucpr:0.579005\tvalidation_1-aucpr:0.574628\n",
      "[55]\tvalidation_0-aucpr:0.579222\tvalidation_1-aucpr:0.574717\n",
      "[56]\tvalidation_0-aucpr:0.579335\tvalidation_1-aucpr:0.574708\n",
      "[57]\tvalidation_0-aucpr:0.579507\tvalidation_1-aucpr:0.574781\n",
      "[58]\tvalidation_0-aucpr:0.579949\tvalidation_1-aucpr:0.575168\n",
      "[59]\tvalidation_0-aucpr:0.580183\tvalidation_1-aucpr:0.575276\n",
      "[60]\tvalidation_0-aucpr:0.580509\tvalidation_1-aucpr:0.575459\n",
      "[61]\tvalidation_0-aucpr:0.580807\tvalidation_1-aucpr:0.575712\n",
      "[62]\tvalidation_0-aucpr:0.581268\tvalidation_1-aucpr:0.576107\n",
      "[63]\tvalidation_0-aucpr:0.581723\tvalidation_1-aucpr:0.576499\n",
      "[64]\tvalidation_0-aucpr:0.582312\tvalidation_1-aucpr:0.576984\n",
      "[65]\tvalidation_0-aucpr:0.582459\tvalidation_1-aucpr:0.57713\n",
      "[66]\tvalidation_0-aucpr:0.582621\tvalidation_1-aucpr:0.577313\n",
      "[67]\tvalidation_0-aucpr:0.582756\tvalidation_1-aucpr:0.577304\n",
      "[68]\tvalidation_0-aucpr:0.583031\tvalidation_1-aucpr:0.577629\n",
      "[69]\tvalidation_0-aucpr:0.583278\tvalidation_1-aucpr:0.577739\n",
      "[70]\tvalidation_0-aucpr:0.583457\tvalidation_1-aucpr:0.5778\n",
      "[71]\tvalidation_0-aucpr:0.583683\tvalidation_1-aucpr:0.578001\n",
      "[72]\tvalidation_0-aucpr:0.584241\tvalidation_1-aucpr:0.578484\n",
      "[73]\tvalidation_0-aucpr:0.584439\tvalidation_1-aucpr:0.578609\n",
      "[74]\tvalidation_0-aucpr:0.584523\tvalidation_1-aucpr:0.578611\n",
      "[75]\tvalidation_0-aucpr:0.584722\tvalidation_1-aucpr:0.578682\n",
      "[76]\tvalidation_0-aucpr:0.585181\tvalidation_1-aucpr:0.579097\n",
      "[77]\tvalidation_0-aucpr:0.58528\tvalidation_1-aucpr:0.579077\n",
      "[78]\tvalidation_0-aucpr:0.585521\tvalidation_1-aucpr:0.57918\n",
      "[79]\tvalidation_0-aucpr:0.585783\tvalidation_1-aucpr:0.57939\n",
      "[80]\tvalidation_0-aucpr:0.585857\tvalidation_1-aucpr:0.579406\n",
      "[81]\tvalidation_0-aucpr:0.586006\tvalidation_1-aucpr:0.579485\n",
      "[82]\tvalidation_0-aucpr:0.586118\tvalidation_1-aucpr:0.579472\n",
      "[83]\tvalidation_0-aucpr:0.58643\tvalidation_1-aucpr:0.579737\n",
      "[84]\tvalidation_0-aucpr:0.586884\tvalidation_1-aucpr:0.58019\n",
      "[85]\tvalidation_0-aucpr:0.587022\tvalidation_1-aucpr:0.580257\n",
      "[86]\tvalidation_0-aucpr:0.587344\tvalidation_1-aucpr:0.580389\n",
      "[87]\tvalidation_0-aucpr:0.587655\tvalidation_1-aucpr:0.580577\n",
      "[88]\tvalidation_0-aucpr:0.58804\tvalidation_1-aucpr:0.580927\n",
      "[89]\tvalidation_0-aucpr:0.588249\tvalidation_1-aucpr:0.581072\n",
      "[90]\tvalidation_0-aucpr:0.588426\tvalidation_1-aucpr:0.581131\n",
      "[91]\tvalidation_0-aucpr:0.588634\tvalidation_1-aucpr:0.581288\n",
      "[92]\tvalidation_0-aucpr:0.588939\tvalidation_1-aucpr:0.581478\n",
      "[93]\tvalidation_0-aucpr:0.589059\tvalidation_1-aucpr:0.581471\n",
      "[94]\tvalidation_0-aucpr:0.589415\tvalidation_1-aucpr:0.581689\n",
      "[95]\tvalidation_0-aucpr:0.589861\tvalidation_1-aucpr:0.582004\n",
      "[96]\tvalidation_0-aucpr:0.589993\tvalidation_1-aucpr:0.582062\n",
      "[97]\tvalidation_0-aucpr:0.590276\tvalidation_1-aucpr:0.582312\n",
      "[98]\tvalidation_0-aucpr:0.590474\tvalidation_1-aucpr:0.582386\n",
      "[99]\tvalidation_0-aucpr:0.590589\tvalidation_1-aucpr:0.582415\n",
      "[100]\tvalidation_0-aucpr:0.590756\tvalidation_1-aucpr:0.582557\n",
      "[101]\tvalidation_0-aucpr:0.590896\tvalidation_1-aucpr:0.582609\n",
      "[102]\tvalidation_0-aucpr:0.591149\tvalidation_1-aucpr:0.582834\n",
      "[103]\tvalidation_0-aucpr:0.591251\tvalidation_1-aucpr:0.582858\n",
      "[104]\tvalidation_0-aucpr:0.591288\tvalidation_1-aucpr:0.582878\n",
      "[105]\tvalidation_0-aucpr:0.591426\tvalidation_1-aucpr:0.582886\n",
      "[106]\tvalidation_0-aucpr:0.591512\tvalidation_1-aucpr:0.582963\n",
      "[107]\tvalidation_0-aucpr:0.591597\tvalidation_1-aucpr:0.582943\n",
      "[108]\tvalidation_0-aucpr:0.591687\tvalidation_1-aucpr:0.582968\n",
      "[109]\tvalidation_0-aucpr:0.591952\tvalidation_1-aucpr:0.583128\n",
      "[110]\tvalidation_0-aucpr:0.592246\tvalidation_1-aucpr:0.583353\n",
      "[111]\tvalidation_0-aucpr:0.592429\tvalidation_1-aucpr:0.583484\n",
      "[112]\tvalidation_0-aucpr:0.592646\tvalidation_1-aucpr:0.583562\n",
      "[113]\tvalidation_0-aucpr:0.592664\tvalidation_1-aucpr:0.583514\n",
      "[114]\tvalidation_0-aucpr:0.592819\tvalidation_1-aucpr:0.583605\n",
      "[115]\tvalidation_0-aucpr:0.592889\tvalidation_1-aucpr:0.583672\n",
      "[116]\tvalidation_0-aucpr:0.593038\tvalidation_1-aucpr:0.583728\n",
      "[117]\tvalidation_0-aucpr:0.593182\tvalidation_1-aucpr:0.5838\n",
      "[118]\tvalidation_0-aucpr:0.593308\tvalidation_1-aucpr:0.583871\n",
      "[119]\tvalidation_0-aucpr:0.593608\tvalidation_1-aucpr:0.584141\n",
      "[120]\tvalidation_0-aucpr:0.593736\tvalidation_1-aucpr:0.584202\n",
      "[121]\tvalidation_0-aucpr:0.59386\tvalidation_1-aucpr:0.584223\n",
      "[122]\tvalidation_0-aucpr:0.593921\tvalidation_1-aucpr:0.584198\n",
      "[123]\tvalidation_0-aucpr:0.594011\tvalidation_1-aucpr:0.584242\n",
      "[124]\tvalidation_0-aucpr:0.594138\tvalidation_1-aucpr:0.584294\n",
      "[125]\tvalidation_0-aucpr:0.594221\tvalidation_1-aucpr:0.584316\n",
      "[126]\tvalidation_0-aucpr:0.594337\tvalidation_1-aucpr:0.584331\n",
      "[127]\tvalidation_0-aucpr:0.594432\tvalidation_1-aucpr:0.584366\n",
      "[128]\tvalidation_0-aucpr:0.594752\tvalidation_1-aucpr:0.584699\n",
      "[129]\tvalidation_0-aucpr:0.594872\tvalidation_1-aucpr:0.58475\n",
      "[130]\tvalidation_0-aucpr:0.595015\tvalidation_1-aucpr:0.584837\n",
      "[131]\tvalidation_0-aucpr:0.595175\tvalidation_1-aucpr:0.584846\n"
     ]
    },
    {
     "name": "stdout",
     "output_type": "stream",
     "text": [
      "[132]\tvalidation_0-aucpr:0.59534\tvalidation_1-aucpr:0.584951\n",
      "[133]\tvalidation_0-aucpr:0.595668\tvalidation_1-aucpr:0.585201\n",
      "[134]\tvalidation_0-aucpr:0.595701\tvalidation_1-aucpr:0.585182\n",
      "[135]\tvalidation_0-aucpr:0.595798\tvalidation_1-aucpr:0.585221\n",
      "[136]\tvalidation_0-aucpr:0.595966\tvalidation_1-aucpr:0.585343\n",
      "[137]\tvalidation_0-aucpr:0.596238\tvalidation_1-aucpr:0.585577\n",
      "[138]\tvalidation_0-aucpr:0.596295\tvalidation_1-aucpr:0.585628\n",
      "[139]\tvalidation_0-aucpr:0.596339\tvalidation_1-aucpr:0.585577\n",
      "[140]\tvalidation_0-aucpr:0.596477\tvalidation_1-aucpr:0.585588\n",
      "[141]\tvalidation_0-aucpr:0.596526\tvalidation_1-aucpr:0.585559\n",
      "[142]\tvalidation_0-aucpr:0.596587\tvalidation_1-aucpr:0.585578\n",
      "[143]\tvalidation_0-aucpr:0.596672\tvalidation_1-aucpr:0.585583\n",
      "Stopping. Best iteration:\n",
      "[138]\tvalidation_0-aucpr:0.596295\tvalidation_1-aucpr:0.585628\n",
      "\n"
     ]
    },
    {
     "data": {
      "text/plain": [
       "XGBClassifier(base_score=0.5, booster='gbtree', colsample_bylevel=1,\n",
       "              colsample_bynode=1, colsample_bytree=0.8, gamma=0,\n",
       "              learning_rate=1, max_delta_step=0, max_depth=5,\n",
       "              min_child_weight=5, missing=None, n_estimators=999, n_jobs=-1,\n",
       "              nthread=None, objective='binary:logistic', random_state=123,\n",
       "              reg_alpha=0, reg_lambda=0, scale_pos_weight=1.9071632400592526,\n",
       "              seed=None, silent=None, subsample=0.8, verbosity=1)"
      ]
     },
     "execution_count": 8,
     "metadata": {},
     "output_type": "execute_result"
    }
   ],
   "source": [
    "m_xgb = XGBClassifier(max_depth=5,\n",
    "                      min_child_weight=5,\n",
    "                      subsample=0.8,\n",
    "                      colsample_bytree=0.8,\n",
    "                      learning_rate = 1,\n",
    "                      reg_alpha = 0, reg_lambda = 0, gamma=0,\n",
    "                      scale_pos_weight=spw,\n",
    "                      objective= 'binary:logistic',\n",
    "                      random_state=123,\n",
    "                      n_jobs=-1, n_estimators = 999)\n",
    "\n",
    "m_xgb.fit(X_train, y_train, eval_set=[(X_train, y_train), (X_val, y_val)], \n",
    "          eval_metric=[metric], early_stopping_rounds=5, verbose=True)"
   ]
  },
  {
   "cell_type": "code",
   "execution_count": 9,
   "metadata": {},
   "outputs": [
    {
     "data": {
      "image/png": "[encoded data removed]",
      "text/plain": [
       "<Figure size 432x288 with 1 Axes>"
      ]
     },
     "metadata": {
      "needs_background": "light"
     },
     "output_type": "display_data"
    }
   ],
   "source": [
    "# retrieve performance metrics\n",
    "results = m_xgb.evals_result()\n",
    "epochs = len(results['validation_0'][metric])\n",
    "x_axis = range(0, epochs)\n",
    "fig, ax = plt.subplots()\n",
    "ax.plot(x_axis, results['validation_0'][metric], label='Train')\n",
    "ax.plot(x_axis, results['validation_1'][metric], label='Validation')\n",
    "ax.legend()\n",
    "plt.ylabel(metric)\n",
    "plt.title('XGBoost '+metric)\n",
    "plt.show()"
   ]
  },
  {
   "cell_type": "markdown",
   "metadata": {},
   "source": [
    "### Hyperparameter Tuning with Random Search"
   ]
  },
  {
   "cell_type": "code",
   "execution_count": 22,
   "metadata": {},
   "outputs": [
    {
     "name": "stdout",
     "output_type": "stream",
     "text": [
      "[0]\tvalidation_0-aucpr:0.449992\n",
      "Will train until validation_0-aucpr hasn't improved in 5 rounds.\n",
      "[1]\tvalidation_0-aucpr:0.43587\n",
      "[2]\tvalidation_0-aucpr:0.451038\n",
      "[3]\tvalidation_0-aucpr:0.463404\n",
      "[4]\tvalidation_0-aucpr:0.458177\n",
      "[5]\tvalidation_0-aucpr:0.462092\n",
      "[6]\tvalidation_0-aucpr:0.471135\n",
      "[7]\tvalidation_0-aucpr:0.455461\n",
      "[8]\tvalidation_0-aucpr:0.457856\n",
      "[9]\tvalidation_0-aucpr:0.459778\n",
      "[10]\tvalidation_0-aucpr:0.459502\n",
      "[11]\tvalidation_0-aucpr:0.457401\n",
      "Stopping. Best iteration:\n",
      "[6]\tvalidation_0-aucpr:0.471135\n",
      "\n"
     ]
    },
    {
     "data": {
      "text/plain": [
       "RandomizedSearchCV(cv=10, error_score=nan,\n",
       "                   estimator=XGBClassifier(base_score=0.5, booster='gbtree',\n",
       "                                           colsample_bylevel=1,\n",
       "                                           colsample_bynode=1,\n",
       "                                           colsample_bytree=0.8, gamma=0,\n",
       "                                           learning_rate=1, max_delta_step=0,\n",
       "                                           max_depth=5, min_child_weight=5,\n",
       "                                           missing=None, n_estimators=999,\n",
       "                                           n_jobs=-1, nthread=None,\n",
       "                                           objective='binary:logistic',\n",
       "                                           random_state=123, reg_alpha=0,\n",
       "                                           reg_lambda=...\n",
       "                                           subsample=0.8, verbosity=1),\n",
       "                   iid='deprecated', n_iter=5, n_jobs=-1,\n",
       "                   param_distributions={'colsample_bytree': [0.8, 0.9],\n",
       "                                        'learning_rate': array([0.5  , 0.875, 1.25 , 1.625, 2.   ]),\n",
       "                                        'max_depth': [3, 4, 5],\n",
       "                                        'min_child_weight': [2, 3, 4, 5, 6],\n",
       "                                        'subsample': [0.8, 0.9]},\n",
       "                   pre_dispatch='2*n_jobs', random_state=None, refit=True,\n",
       "                   return_train_score=True, scoring='average_precision',\n",
       "                   verbose=0)"
      ]
     },
     "execution_count": 22,
     "metadata": {},
     "output_type": "execute_result"
    }
   ],
   "source": [
    "parameter_grid = {\n",
    "    'max_depth' : list(range(3,6)), \n",
    "    'min_child_weight': list(range(2,7)),\n",
    "    'subsample' : [i/10.0 for i in range(8, 10)], \n",
    "    'colsample_bytree' : [i/10.0 for i in range(8, 10)],\n",
    "    'learning_rate' : np.linspace(0.5,2,5)\n",
    "}\n",
    "\n",
    "number_models = 5\n",
    "random_XGB_class = RandomizedSearchCV(estimator = XGBClassifier(max_depth=5,\n",
    "                                      min_child_weight=5,\n",
    "                                      subsample=0.8,\n",
    "                                      colsample_bytree=0.8,\n",
    "                                      learning_rate = 1,\n",
    "                                      reg_alpha = 0, reg_lambda = 0, gamma=0,\n",
    "                                      scale_pos_weight=spw,\n",
    "                                      objective= 'binary:logistic',\n",
    "                                      random_state=123,\n",
    "                                      n_jobs=-1, n_estimators = 999), \n",
    "                                      \n",
    "                                      param_distributions = parameter_grid, n_iter = number_models, \n",
    "                                      scoring='average_precision', cv = 10, return_train_score = False,\n",
    "                                      n_jobs=-1)\n",
    "random_XGB_class.fit(X_train, y_train, eval_set= [(X_val, y_val)], eval_metric=metric, early_stopping_rounds=5)"
   ]
  },
  {
   "cell_type": "code",
   "execution_count": 23,
   "metadata": {},
   "outputs": [
    {
     "data": {
      "text/html": [
       "<div>\n",
       "<style scoped>\n",
       "    .dataframe tbody tr th:only-of-type {\n",
       "        vertical-align: middle;\n",
       "    }\n",
       "\n",
       "    .dataframe tbody tr th {\n",
       "        vertical-align: top;\n",
       "    }\n",
       "\n",
       "    .dataframe thead th {\n",
       "        text-align: right;\n",
       "    }\n",
       "</style>\n",
       "<table border=\"1\" class=\"dataframe\">\n",
       "  <thead>\n",
       "    <tr style=\"text-align: right;\">\n",
       "      <th></th>\n",
       "      <th>subsample</th>\n",
       "      <th>min_child_weight</th>\n",
       "      <th>max_depth</th>\n",
       "      <th>learning_rate</th>\n",
       "      <th>colsample_bytree</th>\n",
       "      <th>mean_score</th>\n",
       "      <th>std_score</th>\n",
       "    </tr>\n",
       "  </thead>\n",
       "  <tbody>\n",
       "    <tr>\n",
       "      <th>2</th>\n",
       "      <td>0.8</td>\n",
       "      <td>6</td>\n",
       "      <td>3</td>\n",
       "      <td>1.625</td>\n",
       "      <td>0.9</td>\n",
       "      <td>0.452064</td>\n",
       "      <td>0.035071</td>\n",
       "    </tr>\n",
       "    <tr>\n",
       "      <th>4</th>\n",
       "      <td>0.9</td>\n",
       "      <td>6</td>\n",
       "      <td>4</td>\n",
       "      <td>0.875</td>\n",
       "      <td>0.9</td>\n",
       "      <td>0.428589</td>\n",
       "      <td>0.067398</td>\n",
       "    </tr>\n",
       "    <tr>\n",
       "      <th>3</th>\n",
       "      <td>0.8</td>\n",
       "      <td>3</td>\n",
       "      <td>4</td>\n",
       "      <td>0.875</td>\n",
       "      <td>0.9</td>\n",
       "      <td>0.426026</td>\n",
       "      <td>0.061418</td>\n",
       "    </tr>\n",
       "    <tr>\n",
       "      <th>0</th>\n",
       "      <td>0.9</td>\n",
       "      <td>4</td>\n",
       "      <td>3</td>\n",
       "      <td>0.875</td>\n",
       "      <td>0.8</td>\n",
       "      <td>0.421398</td>\n",
       "      <td>0.052723</td>\n",
       "    </tr>\n",
       "    <tr>\n",
       "      <th>1</th>\n",
       "      <td>0.9</td>\n",
       "      <td>3</td>\n",
       "      <td>5</td>\n",
       "      <td>1.250</td>\n",
       "      <td>0.9</td>\n",
       "      <td>0.405512</td>\n",
       "      <td>0.060550</td>\n",
       "    </tr>\n",
       "  </tbody>\n",
       "</table>\n",
       "</div>"
      ],
      "text/plain": [
       "   subsample  min_child_weight  max_depth  learning_rate  colsample_bytree  \\\n",
       "2        0.8                 6          3          1.625               0.9   \n",
       "4        0.9                 6          4          0.875               0.9   \n",
       "3        0.8                 3          4          0.875               0.9   \n",
       "0        0.9                 4          3          0.875               0.8   \n",
       "1        0.9                 3          5          1.250               0.9   \n",
       "\n",
       "   mean_score  std_score  \n",
       "2    0.452064   0.035071  \n",
       "4    0.428589   0.067398  \n",
       "3    0.426026   0.061418  \n",
       "0    0.421398   0.052723  \n",
       "1    0.405512   0.060550  "
      ]
     },
     "execution_count": 23,
     "metadata": {},
     "output_type": "execute_result"
    }
   ],
   "source": [
    "rs_result = search_result(random_XGB_class)\n",
    "rs_result"
   ]
  },
  {
   "cell_type": "markdown",
   "metadata": {},
   "source": [
    "### Hyperparameter Tuning with Grid Search"
   ]
  },
  {
   "cell_type": "code",
   "execution_count": 10,
   "metadata": {},
   "outputs": [
    {
     "name": "stdout",
     "output_type": "stream",
     "text": [
      "[0]\tvalidation_0-aucpr:0.48794\n",
      "Will train until validation_0-aucpr hasn't improved in 5 rounds.\n",
      "[1]\tvalidation_0-aucpr:0.502125\n",
      "[2]\tvalidation_0-aucpr:0.517958\n",
      "[3]\tvalidation_0-aucpr:0.523461\n",
      "[4]\tvalidation_0-aucpr:0.52575\n",
      "[5]\tvalidation_0-aucpr:0.528787\n",
      "[6]\tvalidation_0-aucpr:0.530201\n",
      "[7]\tvalidation_0-aucpr:0.532635\n",
      "[8]\tvalidation_0-aucpr:0.539595\n",
      "[9]\tvalidation_0-aucpr:0.541753\n",
      "[10]\tvalidation_0-aucpr:0.54554\n",
      "[11]\tvalidation_0-aucpr:0.547655\n",
      "[12]\tvalidation_0-aucpr:0.548624\n",
      "[13]\tvalidation_0-aucpr:0.550592\n",
      "[14]\tvalidation_0-aucpr:0.553668\n",
      "[15]\tvalidation_0-aucpr:0.554397\n",
      "[16]\tvalidation_0-aucpr:0.555202\n",
      "[17]\tvalidation_0-aucpr:0.556076\n",
      "[18]\tvalidation_0-aucpr:0.556704\n",
      "[19]\tvalidation_0-aucpr:0.55774\n",
      "[20]\tvalidation_0-aucpr:0.559019\n",
      "[21]\tvalidation_0-aucpr:0.560976\n",
      "[22]\tvalidation_0-aucpr:0.561234\n",
      "[23]\tvalidation_0-aucpr:0.561805\n",
      "[24]\tvalidation_0-aucpr:0.562115\n",
      "[25]\tvalidation_0-aucpr:0.562287\n",
      "[26]\tvalidation_0-aucpr:0.564019\n",
      "[27]\tvalidation_0-aucpr:0.564543\n",
      "[28]\tvalidation_0-aucpr:0.565325\n",
      "[29]\tvalidation_0-aucpr:0.565749\n",
      "[30]\tvalidation_0-aucpr:0.566664\n",
      "[31]\tvalidation_0-aucpr:0.566944\n",
      "[32]\tvalidation_0-aucpr:0.567314\n",
      "[33]\tvalidation_0-aucpr:0.567561\n",
      "[34]\tvalidation_0-aucpr:0.567945\n",
      "[35]\tvalidation_0-aucpr:0.568235\n",
      "[36]\tvalidation_0-aucpr:0.568339\n",
      "[37]\tvalidation_0-aucpr:0.569005\n",
      "[38]\tvalidation_0-aucpr:0.569297\n",
      "[39]\tvalidation_0-aucpr:0.570123\n",
      "[40]\tvalidation_0-aucpr:0.570801\n",
      "[41]\tvalidation_0-aucpr:0.570931\n",
      "[42]\tvalidation_0-aucpr:0.571186\n",
      "[43]\tvalidation_0-aucpr:0.571301\n",
      "[44]\tvalidation_0-aucpr:0.571638\n",
      "[45]\tvalidation_0-aucpr:0.571696\n",
      "[46]\tvalidation_0-aucpr:0.572213\n",
      "[47]\tvalidation_0-aucpr:0.57239\n",
      "[48]\tvalidation_0-aucpr:0.572477\n",
      "[49]\tvalidation_0-aucpr:0.573306\n",
      "[50]\tvalidation_0-aucpr:0.573605\n",
      "[51]\tvalidation_0-aucpr:0.5739\n",
      "[52]\tvalidation_0-aucpr:0.574128\n",
      "[53]\tvalidation_0-aucpr:0.574271\n",
      "[54]\tvalidation_0-aucpr:0.574628\n",
      "[55]\tvalidation_0-aucpr:0.574717\n",
      "[56]\tvalidation_0-aucpr:0.574708\n",
      "[57]\tvalidation_0-aucpr:0.574781\n",
      "[58]\tvalidation_0-aucpr:0.575168\n",
      "[59]\tvalidation_0-aucpr:0.575276\n",
      "[60]\tvalidation_0-aucpr:0.575459\n",
      "[61]\tvalidation_0-aucpr:0.575712\n",
      "[62]\tvalidation_0-aucpr:0.576107\n",
      "[63]\tvalidation_0-aucpr:0.576499\n",
      "[64]\tvalidation_0-aucpr:0.576984\n",
      "[65]\tvalidation_0-aucpr:0.57713\n",
      "[66]\tvalidation_0-aucpr:0.577313\n",
      "[67]\tvalidation_0-aucpr:0.577304\n",
      "[68]\tvalidation_0-aucpr:0.577629\n",
      "[69]\tvalidation_0-aucpr:0.577739\n",
      "[70]\tvalidation_0-aucpr:0.5778\n",
      "[71]\tvalidation_0-aucpr:0.578001\n",
      "[72]\tvalidation_0-aucpr:0.578484\n",
      "[73]\tvalidation_0-aucpr:0.578609\n",
      "[74]\tvalidation_0-aucpr:0.578611\n",
      "[75]\tvalidation_0-aucpr:0.578682\n",
      "[76]\tvalidation_0-aucpr:0.579097\n",
      "[77]\tvalidation_0-aucpr:0.579077\n",
      "[78]\tvalidation_0-aucpr:0.57918\n",
      "[79]\tvalidation_0-aucpr:0.57939\n",
      "[80]\tvalidation_0-aucpr:0.579406\n",
      "[81]\tvalidation_0-aucpr:0.579485\n",
      "[82]\tvalidation_0-aucpr:0.579472\n",
      "[83]\tvalidation_0-aucpr:0.579737\n",
      "[84]\tvalidation_0-aucpr:0.58019\n",
      "[85]\tvalidation_0-aucpr:0.580257\n",
      "[86]\tvalidation_0-aucpr:0.580389\n",
      "[87]\tvalidation_0-aucpr:0.580577\n",
      "[88]\tvalidation_0-aucpr:0.580927\n",
      "[89]\tvalidation_0-aucpr:0.581072\n",
      "[90]\tvalidation_0-aucpr:0.581131\n",
      "[91]\tvalidation_0-aucpr:0.581288\n",
      "[92]\tvalidation_0-aucpr:0.581478\n",
      "[93]\tvalidation_0-aucpr:0.581471\n",
      "[94]\tvalidation_0-aucpr:0.581689\n",
      "[95]\tvalidation_0-aucpr:0.582004\n",
      "[96]\tvalidation_0-aucpr:0.582062\n",
      "[97]\tvalidation_0-aucpr:0.582312\n",
      "[98]\tvalidation_0-aucpr:0.582386\n",
      "[99]\tvalidation_0-aucpr:0.582415\n",
      "[100]\tvalidation_0-aucpr:0.582557\n",
      "[101]\tvalidation_0-aucpr:0.582609\n",
      "[102]\tvalidation_0-aucpr:0.582834\n",
      "[103]\tvalidation_0-aucpr:0.582858\n",
      "[104]\tvalidation_0-aucpr:0.582878\n",
      "[105]\tvalidation_0-aucpr:0.582886\n",
      "[106]\tvalidation_0-aucpr:0.582963\n",
      "[107]\tvalidation_0-aucpr:0.582943\n",
      "[108]\tvalidation_0-aucpr:0.582968\n",
      "[109]\tvalidation_0-aucpr:0.583128\n",
      "[110]\tvalidation_0-aucpr:0.583353\n",
      "[111]\tvalidation_0-aucpr:0.583484\n",
      "[112]\tvalidation_0-aucpr:0.583562\n",
      "[113]\tvalidation_0-aucpr:0.583514\n",
      "[114]\tvalidation_0-aucpr:0.583605\n",
      "[115]\tvalidation_0-aucpr:0.583672\n",
      "[116]\tvalidation_0-aucpr:0.583728\n",
      "[117]\tvalidation_0-aucpr:0.5838\n",
      "[118]\tvalidation_0-aucpr:0.583871\n",
      "[119]\tvalidation_0-aucpr:0.584141\n",
      "[120]\tvalidation_0-aucpr:0.584202\n",
      "[121]\tvalidation_0-aucpr:0.584223\n",
      "[122]\tvalidation_0-aucpr:0.584198\n",
      "[123]\tvalidation_0-aucpr:0.584242\n",
      "[124]\tvalidation_0-aucpr:0.584294\n",
      "[125]\tvalidation_0-aucpr:0.584316\n",
      "[126]\tvalidation_0-aucpr:0.584331\n",
      "[127]\tvalidation_0-aucpr:0.584366\n",
      "[128]\tvalidation_0-aucpr:0.584699\n",
      "[129]\tvalidation_0-aucpr:0.58475\n",
      "[130]\tvalidation_0-aucpr:0.584837\n",
      "[131]\tvalidation_0-aucpr:0.584846\n",
      "[132]\tvalidation_0-aucpr:0.584951\n",
      "[133]\tvalidation_0-aucpr:0.585201\n",
      "[134]\tvalidation_0-aucpr:0.585182\n",
      "[135]\tvalidation_0-aucpr:0.585221\n",
      "[136]\tvalidation_0-aucpr:0.585343\n",
      "[137]\tvalidation_0-aucpr:0.585577\n",
      "[138]\tvalidation_0-aucpr:0.585628\n",
      "[139]\tvalidation_0-aucpr:0.585577\n",
      "[140]\tvalidation_0-aucpr:0.585588\n",
      "[141]\tvalidation_0-aucpr:0.585559\n",
      "[142]\tvalidation_0-aucpr:0.585578\n",
      "[143]\tvalidation_0-aucpr:0.585583\n",
      "Stopping. Best iteration:\n",
      "[138]\tvalidation_0-aucpr:0.585628\n",
      "\n"
     ]
    },
    {
     "data": {
      "text/plain": [
       "GridSearchCV(cv=10, error_score=nan,\n",
       "             estimator=XGBClassifier(base_score=0.5, booster='gbtree',\n",
       "                                     colsample_bylevel=1, colsample_bynode=1,\n",
       "                                     colsample_bytree=0.8, gamma=0,\n",
       "                                     learning_rate=1, max_delta_step=0,\n",
       "                                     max_depth=5, min_child_weight=5,\n",
       "                                     missing=None, n_estimators=999, n_jobs=-1,\n",
       "                                     nthread=None, objective='binary:logistic',\n",
       "                                     random_state=123, reg_alpha=0,\n",
       "                                     reg_lambda=0,\n",
       "                                     scale_pos_weight=1.9071632400592526,\n",
       "                                     seed=None, silent=None, subsample=0.8,\n",
       "                                     verbosity=1),\n",
       "             iid='deprecated', n_jobs=-1,\n",
       "             param_grid={'learning_rate': [1.0, 1.5], 'max_depth': [3, 5]},\n",
       "             pre_dispatch='2*n_jobs', refit=True, return_train_score=False,\n",
       "             scoring='average_precision', verbose=0)"
      ]
     },
     "execution_count": 10,
     "metadata": {},
     "output_type": "execute_result"
    }
   ],
   "source": [
    "parameter_grid = {\n",
    "    'max_depth' : [3, 5], \n",
    "    'learning_rate' : [1.0, 1.5]\n",
    "}\n",
    "\n",
    "grid_XGB_class = GridSearchCV(estimator = XGBClassifier(max_depth=5,\n",
    "                                      min_child_weight=5,\n",
    "                                      subsample=0.8,\n",
    "                                      colsample_bytree=0.8,\n",
    "                                      learning_rate = 1,\n",
    "                                      reg_alpha = 0, reg_lambda = 0, gamma=0,\n",
    "                                      scale_pos_weight=spw,\n",
    "                                      objective= 'binary:logistic',\n",
    "                                      random_state=123,\n",
    "                                      n_jobs=-1, n_estimators = 999),\n",
    "                                                        \n",
    "                                      param_grid = parameter_grid, \n",
    "                                      scoring='average_precision', cv = 10, return_train_score = False,\n",
    "                                      n_jobs=-1)\n",
    "grid_XGB_class.fit(X_train, y_train, eval_set= [(X_val, y_val)], eval_metric=metric, early_stopping_rounds=5)"
   ]
  },
  {
   "cell_type": "code",
   "execution_count": 14,
   "metadata": {},
   "outputs": [
    {
     "data": {
      "text/plain": [
       "<bound method XGBModel.get_params of XGBClassifier(base_score=0.5, booster='gbtree', colsample_bylevel=1,\n",
       "              colsample_bynode=1, colsample_bytree=0.8, gamma=0,\n",
       "              learning_rate=1.0, max_delta_step=0, max_depth=5,\n",
       "              min_child_weight=5, missing=None, n_estimators=999, n_jobs=-1,\n",
       "              nthread=None, objective='binary:logistic', random_state=123,\n",
       "              reg_alpha=0, reg_lambda=0, scale_pos_weight=1.9071632400592526,\n",
       "              seed=None, silent=None, subsample=0.8, verbosity=1)>"
      ]
     },
     "execution_count": 14,
     "metadata": {},
     "output_type": "execute_result"
    }
   ],
   "source": [
    "grid_XGB_class.best_estimator_.get_params"
   ]
  },
  {
   "cell_type": "code",
   "execution_count": 6,
   "metadata": {},
   "outputs": [],
   "source": [
    "# joblib.dump(grid_XGB_class, 'grid_XGB_class')\n",
    "grid_XGB_class = joblib.load('grid_XGB_class')"
   ]
  },
  {
   "cell_type": "code",
   "execution_count": 16,
   "metadata": {},
   "outputs": [
    {
     "data": {
      "text/html": [
       "<div>\n",
       "<style scoped>\n",
       "    .dataframe tbody tr th:only-of-type {\n",
       "        vertical-align: middle;\n",
       "    }\n",
       "\n",
       "    .dataframe tbody tr th {\n",
       "        vertical-align: top;\n",
       "    }\n",
       "\n",
       "    .dataframe thead th {\n",
       "        text-align: right;\n",
       "    }\n",
       "</style>\n",
       "<table border=\"1\" class=\"dataframe\">\n",
       "  <thead>\n",
       "    <tr style=\"text-align: right;\">\n",
       "      <th></th>\n",
       "      <th>learning_rate</th>\n",
       "      <th>max_depth</th>\n",
       "      <th>mean_score</th>\n",
       "      <th>std_score</th>\n",
       "    </tr>\n",
       "  </thead>\n",
       "  <tbody>\n",
       "    <tr>\n",
       "      <th>1</th>\n",
       "      <td>1.0</td>\n",
       "      <td>5</td>\n",
       "      <td>0.582067</td>\n",
       "      <td>0.002117</td>\n",
       "    </tr>\n",
       "    <tr>\n",
       "      <th>0</th>\n",
       "      <td>1.0</td>\n",
       "      <td>3</td>\n",
       "      <td>0.576535</td>\n",
       "      <td>0.005045</td>\n",
       "    </tr>\n",
       "    <tr>\n",
       "      <th>3</th>\n",
       "      <td>1.5</td>\n",
       "      <td>5</td>\n",
       "      <td>0.561010</td>\n",
       "      <td>0.003919</td>\n",
       "    </tr>\n",
       "    <tr>\n",
       "      <th>2</th>\n",
       "      <td>1.5</td>\n",
       "      <td>3</td>\n",
       "      <td>0.557551</td>\n",
       "      <td>0.005402</td>\n",
       "    </tr>\n",
       "  </tbody>\n",
       "</table>\n",
       "</div>"
      ],
      "text/plain": [
       "   learning_rate  max_depth  mean_score  std_score\n",
       "1            1.0          5    0.582067   0.002117\n",
       "0            1.0          3    0.576535   0.005045\n",
       "3            1.5          5    0.561010   0.003919\n",
       "2            1.5          3    0.557551   0.005402"
      ]
     },
     "execution_count": 16,
     "metadata": {},
     "output_type": "execute_result"
    }
   ],
   "source": [
    "gs = search_result(grid_XGB_class)\n",
    "gs"
   ]
  },
  {
   "cell_type": "markdown",
   "metadata": {},
   "source": [
    "### Get feature importance"
   ]
  },
  {
   "cell_type": "code",
   "execution_count": 17,
   "metadata": {},
   "outputs": [
    {
     "data": {
      "text/html": [
       "<div>\n",
       "<style scoped>\n",
       "    .dataframe tbody tr th:only-of-type {\n",
       "        vertical-align: middle;\n",
       "    }\n",
       "\n",
       "    .dataframe tbody tr th {\n",
       "        vertical-align: top;\n",
       "    }\n",
       "\n",
       "    .dataframe thead th {\n",
       "        text-align: right;\n",
       "    }\n",
       "</style>\n",
       "<table border=\"1\" class=\"dataframe\">\n",
       "  <thead>\n",
       "    <tr style=\"text-align: right;\">\n",
       "      <th></th>\n",
       "      <th>feature</th>\n",
       "      <th>importance_score</th>\n",
       "    </tr>\n",
       "  </thead>\n",
       "  <tbody>\n",
       "    <tr>\n",
       "      <th>7</th>\n",
       "      <td>SCHEDULED_ARRIVAL</td>\n",
       "      <td>0.188849</td>\n",
       "    </tr>\n",
       "    <tr>\n",
       "      <th>23</th>\n",
       "      <td>AIRLINE_CAT</td>\n",
       "      <td>0.137544</td>\n",
       "    </tr>\n",
       "    <tr>\n",
       "      <th>0</th>\n",
       "      <td>MONTH</td>\n",
       "      <td>0.063733</td>\n",
       "    </tr>\n",
       "    <tr>\n",
       "      <th>16</th>\n",
       "      <td>AIRLINE_TRAFFIC</td>\n",
       "      <td>0.046381</td>\n",
       "    </tr>\n",
       "    <tr>\n",
       "      <th>6</th>\n",
       "      <td>DISTANCE</td>\n",
       "      <td>0.045211</td>\n",
       "    </tr>\n",
       "    <tr>\n",
       "      <th>14</th>\n",
       "      <td>DATE_TRAFFIC</td>\n",
       "      <td>0.038589</td>\n",
       "    </tr>\n",
       "    <tr>\n",
       "      <th>9</th>\n",
       "      <td>LONGITUDE_ORIGIN</td>\n",
       "      <td>0.038177</td>\n",
       "    </tr>\n",
       "    <tr>\n",
       "      <th>11</th>\n",
       "      <td>LONGITUDE_DESTINATION</td>\n",
       "      <td>0.034828</td>\n",
       "    </tr>\n",
       "    <tr>\n",
       "      <th>17</th>\n",
       "      <td>ORIGIN_AIRPORT_TRAFFIC</td>\n",
       "      <td>0.032723</td>\n",
       "    </tr>\n",
       "    <tr>\n",
       "      <th>1</th>\n",
       "      <td>DAY</td>\n",
       "      <td>0.031134</td>\n",
       "    </tr>\n",
       "    <tr>\n",
       "      <th>2</th>\n",
       "      <td>DAY_OF_WEEK</td>\n",
       "      <td>0.028972</td>\n",
       "    </tr>\n",
       "    <tr>\n",
       "      <th>18</th>\n",
       "      <td>DESTINATION_AIRPORT_TRAFFIC</td>\n",
       "      <td>0.026895</td>\n",
       "    </tr>\n",
       "    <tr>\n",
       "      <th>24</th>\n",
       "      <td>TAIL_NUMBER_CAT</td>\n",
       "      <td>0.025403</td>\n",
       "    </tr>\n",
       "    <tr>\n",
       "      <th>8</th>\n",
       "      <td>LATITUDE_ORIGIN</td>\n",
       "      <td>0.023779</td>\n",
       "    </tr>\n",
       "    <tr>\n",
       "      <th>27</th>\n",
       "      <td>CITY_ORIGIN_CAT</td>\n",
       "      <td>0.022284</td>\n",
       "    </tr>\n",
       "    <tr>\n",
       "      <th>15</th>\n",
       "      <td>MONTH_TRAFFIC</td>\n",
       "      <td>0.021008</td>\n",
       "    </tr>\n",
       "    <tr>\n",
       "      <th>4</th>\n",
       "      <td>SCHEDULED_DEPARTURE</td>\n",
       "      <td>0.017369</td>\n",
       "    </tr>\n",
       "    <tr>\n",
       "      <th>31</th>\n",
       "      <td>HOLIDAY_CAT</td>\n",
       "      <td>0.016962</td>\n",
       "    </tr>\n",
       "    <tr>\n",
       "      <th>25</th>\n",
       "      <td>ORIGIN_AIRPORT_CAT</td>\n",
       "      <td>0.014082</td>\n",
       "    </tr>\n",
       "    <tr>\n",
       "      <th>28</th>\n",
       "      <td>STATE_ORIGIN_CAT</td>\n",
       "      <td>0.013995</td>\n",
       "    </tr>\n",
       "    <tr>\n",
       "      <th>20</th>\n",
       "      <td>AIRPORT_DESTINATION_INTL</td>\n",
       "      <td>0.013545</td>\n",
       "    </tr>\n",
       "    <tr>\n",
       "      <th>10</th>\n",
       "      <td>LATITUDE_DESTINATION</td>\n",
       "      <td>0.012568</td>\n",
       "    </tr>\n",
       "    <tr>\n",
       "      <th>13</th>\n",
       "      <td>WEEKEND</td>\n",
       "      <td>0.012243</td>\n",
       "    </tr>\n",
       "    <tr>\n",
       "      <th>12</th>\n",
       "      <td>HOLIDAY_FLAG</td>\n",
       "      <td>0.012098</td>\n",
       "    </tr>\n",
       "    <tr>\n",
       "      <th>21</th>\n",
       "      <td>LONGITUDE_DIF</td>\n",
       "      <td>0.011922</td>\n",
       "    </tr>\n",
       "    <tr>\n",
       "      <th>3</th>\n",
       "      <td>FLIGHT_NUMBER</td>\n",
       "      <td>0.011668</td>\n",
       "    </tr>\n",
       "    <tr>\n",
       "      <th>29</th>\n",
       "      <td>CITY_DESTINATION_CAT</td>\n",
       "      <td>0.011388</td>\n",
       "    </tr>\n",
       "    <tr>\n",
       "      <th>30</th>\n",
       "      <td>STATE_DESTINATION_CAT</td>\n",
       "      <td>0.011068</td>\n",
       "    </tr>\n",
       "    <tr>\n",
       "      <th>22</th>\n",
       "      <td>LATITUDE_DIF</td>\n",
       "      <td>0.009720</td>\n",
       "    </tr>\n",
       "    <tr>\n",
       "      <th>26</th>\n",
       "      <td>DESTINATION_AIRPORT_CAT</td>\n",
       "      <td>0.009222</td>\n",
       "    </tr>\n",
       "    <tr>\n",
       "      <th>5</th>\n",
       "      <td>SCHEDULED_TIME</td>\n",
       "      <td>0.009149</td>\n",
       "    </tr>\n",
       "    <tr>\n",
       "      <th>19</th>\n",
       "      <td>AIRPORT_ORIGIN_INTL</td>\n",
       "      <td>0.007490</td>\n",
       "    </tr>\n",
       "  </tbody>\n",
       "</table>\n",
       "</div>"
      ],
      "text/plain": [
       "                        feature  importance_score\n",
       "7             SCHEDULED_ARRIVAL          0.188849\n",
       "23                  AIRLINE_CAT          0.137544\n",
       "0                         MONTH          0.063733\n",
       "16              AIRLINE_TRAFFIC          0.046381\n",
       "6                      DISTANCE          0.045211\n",
       "14                 DATE_TRAFFIC          0.038589\n",
       "9              LONGITUDE_ORIGIN          0.038177\n",
       "11        LONGITUDE_DESTINATION          0.034828\n",
       "17       ORIGIN_AIRPORT_TRAFFIC          0.032723\n",
       "1                           DAY          0.031134\n",
       "2                   DAY_OF_WEEK          0.028972\n",
       "18  DESTINATION_AIRPORT_TRAFFIC          0.026895\n",
       "24              TAIL_NUMBER_CAT          0.025403\n",
       "8               LATITUDE_ORIGIN          0.023779\n",
       "27              CITY_ORIGIN_CAT          0.022284\n",
       "15                MONTH_TRAFFIC          0.021008\n",
       "4           SCHEDULED_DEPARTURE          0.017369\n",
       "31                  HOLIDAY_CAT          0.016962\n",
       "25           ORIGIN_AIRPORT_CAT          0.014082\n",
       "28             STATE_ORIGIN_CAT          0.013995\n",
       "20     AIRPORT_DESTINATION_INTL          0.013545\n",
       "10         LATITUDE_DESTINATION          0.012568\n",
       "13                      WEEKEND          0.012243\n",
       "12                 HOLIDAY_FLAG          0.012098\n",
       "21                LONGITUDE_DIF          0.011922\n",
       "3                 FLIGHT_NUMBER          0.011668\n",
       "29         CITY_DESTINATION_CAT          0.011388\n",
       "30        STATE_DESTINATION_CAT          0.011068\n",
       "22                 LATITUDE_DIF          0.009720\n",
       "26      DESTINATION_AIRPORT_CAT          0.009222\n",
       "5                SCHEDULED_TIME          0.009149\n",
       "19          AIRPORT_ORIGIN_INTL          0.007490"
      ]
     },
     "execution_count": 17,
     "metadata": {},
     "output_type": "execute_result"
    }
   ],
   "source": [
    "imp_feat = get_important_feature(X_train.columns, grid_XGB_class.best_estimator_.feature_importances_)\n",
    "imp_feat"
   ]
  },
  {
   "cell_type": "markdown",
   "metadata": {},
   "source": [
    "### Make predictions"
   ]
  },
  {
   "cell_type": "code",
   "execution_count": 8,
   "metadata": {},
   "outputs": [],
   "source": [
    "m_xgb = grid_XGB_class.best_estimator_\n",
    "y_train_prob = m_xgb.predict_proba(X_train)[:,1]\n",
    "y_val_prob = m_xgb.predict_proba(X_val)[:,1]\n",
    "y_test_prob = m_xgb.predict_proba(X_test)[:,1]"
   ]
  },
  {
   "cell_type": "markdown",
   "metadata": {},
   "source": [
    "## ROC"
   ]
  },
  {
   "cell_type": "code",
   "execution_count": 20,
   "metadata": {},
   "outputs": [
    {
     "data": {
      "text/plain": [
       "0.7336124398234709"
      ]
     },
     "execution_count": 20,
     "metadata": {},
     "output_type": "execute_result"
    }
   ],
   "source": [
    "fpr, tpr, thresholds = roc_curve(y_train, y_train_prob)\n",
    "auc(fpr, tpr)"
   ]
  },
  {
   "cell_type": "code",
   "execution_count": 21,
   "metadata": {},
   "outputs": [
    {
     "data": {
      "text/plain": [
       "0.7249644243416972"
      ]
     },
     "execution_count": 21,
     "metadata": {},
     "output_type": "execute_result"
    }
   ],
   "source": [
    "fpr, tpr, thresholds = roc_curve(y_val, y_val_prob)\n",
    "auc(fpr, tpr)"
   ]
  },
  {
   "cell_type": "code",
   "execution_count": 19,
   "metadata": {},
   "outputs": [
    {
     "data": {
      "text/plain": [
       "0.7249959136922439"
      ]
     },
     "execution_count": 19,
     "metadata": {},
     "output_type": "execute_result"
    }
   ],
   "source": [
    "fpr, tpr, thresholds = roc_curve(y_test, y_test_prob)\n",
    "auc(fpr, tpr)"
   ]
  },
  {
   "cell_type": "markdown",
   "metadata": {},
   "source": [
    "### Precision-Recall Curve"
   ]
  },
  {
   "cell_type": "code",
   "execution_count": 23,
   "metadata": {},
   "outputs": [
    {
     "data": {
      "text/plain": [
       "0.5962947051828825"
      ]
     },
     "execution_count": 23,
     "metadata": {},
     "output_type": "execute_result"
    }
   ],
   "source": [
    "precision, recall, thresholds = precision_recall_curve(y_train, y_train_prob)\n",
    "auc(recall, precision)"
   ]
  },
  {
   "cell_type": "code",
   "execution_count": 24,
   "metadata": {},
   "outputs": [
    {
     "data": {
      "text/plain": [
       "0.5856284475476635"
      ]
     },
     "execution_count": 24,
     "metadata": {},
     "output_type": "execute_result"
    }
   ],
   "source": [
    "precision, recall, thresholds = precision_recall_curve(y_val, y_val_prob)\n",
    "auc(recall, precision)"
   ]
  },
  {
   "cell_type": "code",
   "execution_count": 12,
   "metadata": {},
   "outputs": [
    {
     "data": {
      "text/plain": [
       "0.5853875632031357"
      ]
     },
     "execution_count": 12,
     "metadata": {},
     "output_type": "execute_result"
    }
   ],
   "source": [
    "precision, recall, thresholds = precision_recall_curve(y_test, y_test_prob)\n",
    "auc(recall, precision)"
   ]
  }
 ],
 "metadata": {
  "kernelspec": {
   "display_name": "flightstatus",
   "language": "python",
   "name": "flightstatus"
  },
  "language_info": {
   "codemirror_mode": {
    "name": "ipython",
    "version": 3
   },
   "file_extension": ".py",
   "mimetype": "text/x-python",
   "name": "python",
   "nbconvert_exporter": "python",
   "pygments_lexer": "ipython3",
   "version": "3.8.3"
  }
 },
 "nbformat": 4,
 "nbformat_minor": 2
}
