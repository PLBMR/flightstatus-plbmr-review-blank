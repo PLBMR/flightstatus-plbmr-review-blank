{
 "cells": [
  {
   "cell_type": "code",
   "execution_count": 15,
   "metadata": {},
   "outputs": [],
   "source": [
    "import numpy as np\n",
    "import pandas as pd\n",
    "import warnings\n",
    "warnings.filterwarnings('ignore')\n",
    "from keras.models import Sequential, load_model\n",
    "from keras.layers.core import Dense, Dropout, Activation\n",
    "from keras.optimizers import SGD\n",
    "from keras.callbacks import EarlyStopping\n",
    "from sklearn.metrics import fbeta_score, precision_recall_curve, auc, roc_curve\n",
    "from modeling_helper import transform_xy\n",
    "from sklearn.preprocessing import StandardScaler\n",
    "import tensorflow as tf"
   ]
  },
  {
   "cell_type": "code",
   "execution_count": 2,
   "metadata": {},
   "outputs": [],
   "source": [
    "flights = pd.read_csv('/Users/user/Documents/Github/flightstatus/data/dev/flights_processed.csv')"
   ]
  },
  {
   "cell_type": "markdown",
   "metadata": {},
   "source": [
    "The dataset includes US flights in 2015. We will use flights \n",
    "- from January to June for training\n",
    "- from July to September for validation\n",
    "- October to December for test."
   ]
  },
  {
   "cell_type": "code",
   "execution_count": 3,
   "metadata": {},
   "outputs": [],
   "source": [
    "datatrain = flights[flights.MONTH<=6]\n",
    "dataval = flights[(flights.MONTH>=7)&(flights.MONTH<=9)]\n",
    "datatest = flights[flights.MONTH<=10]"
   ]
  },
  {
   "cell_type": "code",
   "execution_count": 4,
   "metadata": {},
   "outputs": [],
   "source": [
    "X_train, y_train = transform_xy(datatrain)\n",
    "X_val, y_val = transform_xy(dataval)\n",
    "X_test, y_test = transform_xy(datatest)"
   ]
  },
  {
   "cell_type": "code",
   "execution_count": 5,
   "metadata": {},
   "outputs": [],
   "source": [
    "n_cols = X_train.shape[1]"
   ]
  },
  {
   "cell_type": "code",
   "execution_count": 6,
   "metadata": {},
   "outputs": [],
   "source": [
    "ss = StandardScaler()\n",
    "X_train_s = ss.fit_transform(X_train)\n",
    "X_val_s = ss.transform(X_val)\n",
    "X_test_s = ss.transform(X_test)"
   ]
  },
  {
   "cell_type": "code",
   "execution_count": 7,
   "metadata": {},
   "outputs": [],
   "source": [
    "# set up early stopping and class weight\n",
    "early_stopping_monitor = EarlyStopping(patience=5)\n",
    "spw = (sum(y_train==0) + sum(y_val==0))/(sum(y_train==1)+sum(y_val==1))\n",
    "cw = {0:1., 1:spw[1]} # This gives the positive class 1.9 times the weight of the negative class"
   ]
  },
  {
   "cell_type": "markdown",
   "metadata": {},
   "source": [
    "### Starting model"
   ]
  },
  {
   "cell_type": "code",
   "execution_count": 15,
   "metadata": {},
   "outputs": [
    {
     "name": "stdout",
     "output_type": "stream",
     "text": [
      "Train on 2889506 samples, validate on 1496200 samples\n",
      "Epoch 1/50\n",
      "2889506/2889506 [==============================] - 132s 46us/step - loss: 0.9035 - auc_3: 0.5411 - val_loss: 0.6998 - val_auc_3: 0.5541\n",
      "Epoch 2/50\n",
      "2889506/2889506 [==============================] - 131s 45us/step - loss: 0.8862 - auc_3: 0.5551 - val_loss: 0.6909 - val_auc_3: 0.5636\n",
      "Epoch 3/50\n",
      "2889506/2889506 [==============================] - 133s 46us/step - loss: 0.8813 - auc_3: 0.5662 - val_loss: 0.6863 - val_auc_3: 0.5720\n",
      "Epoch 4/50\n",
      "2889506/2889506 [==============================] - 140s 48us/step - loss: 0.8783 - auc_3: 0.5741 - val_loss: 0.6908 - val_auc_3: 0.5774\n",
      "Epoch 5/50\n",
      "2889506/2889506 [==============================] - 131s 45us/step - loss: 0.8762 - auc_3: 0.5783 - val_loss: 0.6946 - val_auc_3: 0.5806\n",
      "Epoch 6/50\n",
      "2889506/2889506 [==============================] - 118s 41us/step - loss: 0.8745 - auc_3: 0.5808 - val_loss: 0.6957 - val_auc_3: 0.5827\n",
      "Epoch 7/50\n",
      "2889506/2889506 [==============================] - 113s 39us/step - loss: 0.8733 - auc_3: 0.5829 - val_loss: 0.6905 - val_auc_3: 0.5846\n",
      "Epoch 8/50\n",
      "2889506/2889506 [==============================] - 114s 40us/step - loss: 0.8720 - auc_3: 0.5850 - val_loss: 0.6909 - val_auc_3: 0.5866\n"
     ]
    },
    {
     "data": {
      "text/plain": [
       "<keras.callbacks.callbacks.History at 0x7f7cb8424610>"
      ]
     },
     "execution_count": 15,
     "metadata": {},
     "output_type": "execute_result"
    }
   ],
   "source": [
    "model = Sequential()\n",
    "model.add(Dense(100, activation='relu', input_shape = (n_cols,))) \n",
    "model.add(Dropout(rate = 0.8))\n",
    "model.add(Dense(100, activation='relu'))\n",
    "model.add(Dense(2, activation='softmax'))\n",
    "model.compile(optimizer=SGD(lr=0.001), loss='categorical_crossentropy', metrics=[tf.keras.metrics.AUC(curve='PR')])\n",
    "model.fit(X_train_s, y_train, callbacks = [early_stopping_monitor], validation_data=(X_val_s, y_val),\n",
    "         batch_size=64, class_weight=cw, epochs=50)"
   ]
  },
  {
   "cell_type": "markdown",
   "metadata": {},
   "source": [
    "__Note__: `class_weight` is used for weighting the loss function during training only. Therefore, we see that the validation loss is lower than the train loss."
   ]
  },
  {
   "cell_type": "code",
   "execution_count": 19,
   "metadata": {},
   "outputs": [],
   "source": [
    "y_train_prob = model.predict(X_train_s)[:,1]\n",
    "y_val_prob = model.predict(X_val_s)[:,1]"
   ]
  },
  {
   "cell_type": "code",
   "execution_count": 22,
   "metadata": {},
   "outputs": [
    {
     "data": {
      "text/plain": [
       "0.5043923450759831"
      ]
     },
     "execution_count": 22,
     "metadata": {},
     "output_type": "execute_result"
    }
   ],
   "source": [
    "precision, recall, thresholds = precision_recall_curve(y_train[:,1], y_train_prob)\n",
    "auc(recall, precision)"
   ]
  },
  {
   "cell_type": "code",
   "execution_count": 23,
   "metadata": {},
   "outputs": [
    {
     "data": {
      "text/plain": [
       "0.476082238189684"
      ]
     },
     "execution_count": 23,
     "metadata": {},
     "output_type": "execute_result"
    }
   ],
   "source": [
    "precision, recall, thresholds = precision_recall_curve(y_val[:,1], y_val_prob)\n",
    "auc(recall, precision)"
   ]
  },
  {
   "cell_type": "markdown",
   "metadata": {},
   "source": [
    "### Increase model capacity\n",
    "- adding 2 fully connected layers with 100 nodes"
   ]
  },
  {
   "cell_type": "code",
   "execution_count": 24,
   "metadata": {},
   "outputs": [
    {
     "name": "stdout",
     "output_type": "stream",
     "text": [
      "Train on 2889506 samples, validate on 1496200 samples\n",
      "Epoch 1/50\n",
      "2889506/2889506 [==============================] - 157s 54us/step - loss: 0.9007 - auc_6: 0.5335 - val_loss: 0.6872 - val_auc_6: 0.5565\n",
      "Epoch 2/50\n",
      "2889506/2889506 [==============================] - 142s 49us/step - loss: 0.8877 - auc_6: 0.5613 - val_loss: 0.6811 - val_auc_6: 0.5696\n",
      "Epoch 3/50\n",
      "2889506/2889506 [==============================] - 140s 48us/step - loss: 0.8819 - auc_6: 0.5732 - val_loss: 0.6810 - val_auc_6: 0.5779\n",
      "Epoch 4/50\n",
      "2889506/2889506 [==============================] - 148s 51us/step - loss: 0.8787 - auc_6: 0.5799 - val_loss: 0.6773 - val_auc_6: 0.5834\n",
      "Epoch 5/50\n",
      "2889506/2889506 [==============================] - 122s 42us/step - loss: 0.8764 - auc_6: 0.5850 - val_loss: 0.6771 - val_auc_6: 0.5876\n",
      "Epoch 6/50\n",
      "2889506/2889506 [==============================] - 121s 42us/step - loss: 0.8745 - auc_6: 0.5888 - val_loss: 0.6823 - val_auc_6: 0.5904\n",
      "Epoch 7/50\n",
      "2889506/2889506 [==============================] - 121s 42us/step - loss: 0.8733 - auc_6: 0.5910 - val_loss: 0.6784 - val_auc_6: 0.5926\n",
      "Epoch 8/50\n",
      "2889506/2889506 [==============================] - 121s 42us/step - loss: 0.8721 - auc_6: 0.5931 - val_loss: 0.6789 - val_auc_6: 0.5945\n",
      "Epoch 9/50\n",
      "2889506/2889506 [==============================] - 123s 42us/step - loss: 0.8710 - auc_6: 0.5949 - val_loss: 0.6778 - val_auc_6: 0.5960\n",
      "Epoch 10/50\n",
      "2889506/2889506 [==============================] - 120s 42us/step - loss: 0.8700 - auc_6: 0.5968 - val_loss: 0.6796 - val_auc_6: 0.5975\n"
     ]
    },
    {
     "data": {
      "text/plain": [
       "<keras.callbacks.callbacks.History at 0x7f7cb87a8cd0>"
      ]
     },
     "execution_count": 24,
     "metadata": {},
     "output_type": "execute_result"
    }
   ],
   "source": [
    "model = Sequential()\n",
    "model.add(Dense(100, activation='relu', input_shape = (n_cols,))) \n",
    "model.add(Dropout(rate = 0.8))\n",
    "model.add(Dense(100, activation='relu'))\n",
    "model.add(Dense(100, activation='relu'))\n",
    "model.add(Dense(100, activation='relu'))\n",
    "model.add(Dense(2, activation='softmax'))\n",
    "model.compile(optimizer=SGD(lr=0.001), loss='categorical_crossentropy', metrics=[tf.keras.metrics.AUC(curve='PR')])\n",
    "model.fit(X_train_s, y_train, callbacks = [early_stopping_monitor], validation_data=(X_val_s, y_val),\n",
    "         batch_size=64, class_weight=cw, epochs=50)"
   ]
  },
  {
   "cell_type": "code",
   "execution_count": 25,
   "metadata": {},
   "outputs": [],
   "source": [
    "y_train_prob = model.predict(X_train_s)[:,1]\n",
    "y_val_prob = model.predict(X_val_s)[:,1]"
   ]
  },
  {
   "cell_type": "code",
   "execution_count": 26,
   "metadata": {},
   "outputs": [
    {
     "data": {
      "text/plain": [
       "0.5030946071485047"
      ]
     },
     "execution_count": 26,
     "metadata": {},
     "output_type": "execute_result"
    }
   ],
   "source": [
    "precision, recall, thresholds = precision_recall_curve(y_train[:,1], y_train_prob)\n",
    "auc(recall, precision)"
   ]
  },
  {
   "cell_type": "code",
   "execution_count": 27,
   "metadata": {},
   "outputs": [
    {
     "data": {
      "text/plain": [
       "0.4804807127748579"
      ]
     },
     "execution_count": 27,
     "metadata": {},
     "output_type": "execute_result"
    }
   ],
   "source": [
    "precision, recall, thresholds = precision_recall_curve(y_val[:,1], y_val_prob)\n",
    "auc(recall, precision)"
   ]
  },
  {
   "cell_type": "code",
   "execution_count": 43,
   "metadata": {},
   "outputs": [],
   "source": [
    "model.save('neuralnetwork.h5')"
   ]
  },
  {
   "cell_type": "markdown",
   "metadata": {},
   "source": [
    "### Increase model capacity\n",
    "- adding to 500 nodes in the middle layers"
   ]
  },
  {
   "cell_type": "code",
   "execution_count": 8,
   "metadata": {},
   "outputs": [
    {
     "name": "stdout",
     "output_type": "stream",
     "text": [
      "Train on 2889506 samples, validate on 1496200 samples\n",
      "Epoch 1/50\n",
      "2889506/2889506 [==============================] - 209s 72us/step - loss: 0.8968 - auc: 0.5430 - val_loss: 0.6934 - val_auc: 0.5589\n",
      "Epoch 2/50\n",
      "2889506/2889506 [==============================] - 197s 68us/step - loss: 0.8855 - auc: 0.5600 - val_loss: 0.6878 - val_auc: 0.5679\n",
      "Epoch 3/50\n",
      "2889506/2889506 [==============================] - 172s 59us/step - loss: 0.8801 - auc: 0.5703 - val_loss: 0.6864 - val_auc: 0.5750\n",
      "Epoch 4/50\n",
      "2889506/2889506 [==============================] - 221s 77us/step - loss: 0.8767 - auc: 0.5767 - val_loss: 0.6935 - val_auc: 0.5792\n",
      "Epoch 5/50\n",
      "2889506/2889506 [==============================] - 204s 71us/step - loss: 0.8739 - auc: 0.5796 - val_loss: 0.6900 - val_auc: 0.5820\n",
      "Epoch 6/50\n",
      "2889506/2889506 [==============================] - 185s 64us/step - loss: 0.8722 - auc: 0.5826 - val_loss: 0.6936 - val_auc: 0.5842\n",
      "Epoch 7/50\n",
      "2889506/2889506 [==============================] - 185s 64us/step - loss: 0.8704 - auc: 0.5847 - val_loss: 0.6930 - val_auc: 0.5861\n",
      "Epoch 8/50\n",
      "2889506/2889506 [==============================] - 211s 73us/step - loss: 0.8692 - auc: 0.5864 - val_loss: 0.6922 - val_auc: 0.5876\n"
     ]
    },
    {
     "data": {
      "text/plain": [
       "<keras.callbacks.callbacks.History at 0x7fcd5589fa90>"
      ]
     },
     "execution_count": 8,
     "metadata": {},
     "output_type": "execute_result"
    }
   ],
   "source": [
    "model = Sequential()\n",
    "model.add(Dense(100, activation='relu', input_shape = (n_cols,))) \n",
    "model.add(Dropout(rate = 0.8))\n",
    "model.add(Dense(100, activation='relu'))\n",
    "model.add(Dense(500, activation='relu'))\n",
    "model.add(Dense(100, activation='relu'))\n",
    "model.add(Dense(2, activation='softmax'))\n",
    "model.compile(optimizer=SGD(lr=0.001), loss='categorical_crossentropy', metrics=[tf.keras.metrics.AUC(curve='PR')])\n",
    "model.fit(X_train_s, y_train, callbacks = [early_stopping_monitor], validation_data=(X_val_s, y_val),\n",
    "         batch_size=64, class_weight=cw, epochs=50)"
   ]
  },
  {
   "cell_type": "code",
   "execution_count": 9,
   "metadata": {},
   "outputs": [],
   "source": [
    "y_train_prob = model.predict(X_train_s)[:,1]\n",
    "y_val_prob = model.predict(X_val_s)[:,1]"
   ]
  },
  {
   "cell_type": "code",
   "execution_count": 10,
   "metadata": {},
   "outputs": [
    {
     "data": {
      "text/plain": [
       "0.5052536719926125"
      ]
     },
     "execution_count": 10,
     "metadata": {},
     "output_type": "execute_result"
    }
   ],
   "source": [
    "precision, recall, thresholds = precision_recall_curve(y_train[:,1], y_train_prob)\n",
    "auc(recall, precision)"
   ]
  },
  {
   "cell_type": "code",
   "execution_count": 11,
   "metadata": {},
   "outputs": [
    {
     "data": {
      "text/plain": [
       "0.4749822763163157"
      ]
     },
     "execution_count": 11,
     "metadata": {},
     "output_type": "execute_result"
    }
   ],
   "source": [
    "precision, recall, thresholds = precision_recall_curve(y_val[:,1], y_val_prob)\n",
    "auc(recall, precision)"
   ]
  },
  {
   "cell_type": "code",
   "execution_count": 12,
   "metadata": {},
   "outputs": [],
   "source": [
    "model.save('neuralnetwork.h5')"
   ]
  },
  {
   "cell_type": "markdown",
   "metadata": {},
   "source": [
    "### Increase model capacity\n",
    "- adding 2 more fully connected layers of 500 nodes\n",
    "- increase the middle layer's nodes to 1000"
   ]
  },
  {
   "cell_type": "code",
   "execution_count": 32,
   "metadata": {},
   "outputs": [
    {
     "name": "stdout",
     "output_type": "stream",
     "text": [
      "Train on 2889506 samples, validate on 1496200 samples\n",
      "Epoch 1/50\n",
      "2889506/2889506 [==============================] - 1435s 497us/step - loss: 0.8994 - auc_8: 0.5332 - val_loss: 0.6851 - val_auc_8: 0.5588\n",
      "Epoch 2/50\n",
      "2889506/2889506 [==============================] - 1547s 535us/step - loss: 0.8875 - auc_8: 0.5645 - val_loss: 0.6916 - val_auc_8: 0.5704\n",
      "Epoch 3/50\n",
      "2889506/2889506 [==============================] - 1509s 522us/step - loss: 0.8816 - auc_8: 0.5716 - val_loss: 0.6834 - val_auc_8: 0.5769\n",
      "Epoch 4/50\n",
      "2889506/2889506 [==============================] - 1632s 565us/step - loss: 0.8780 - auc_8: 0.5789 - val_loss: 0.6822 - val_auc_8: 0.5824\n",
      "Epoch 5/50\n",
      "2889506/2889506 [==============================] - 1584s 548us/step - loss: 0.8757 - auc_8: 0.5837 - val_loss: 0.6825 - val_auc_8: 0.5861\n",
      "Epoch 6/50\n",
      "2889506/2889506 [==============================] - 1499s 519us/step - loss: 0.8740 - auc_8: 0.5869 - val_loss: 0.6861 - val_auc_8: 0.5887\n",
      "Epoch 7/50\n",
      "2889506/2889506 [==============================] - 1573s 545us/step - loss: 0.8724 - auc_8: 0.5890 - val_loss: 0.6824 - val_auc_8: 0.5907\n",
      "Epoch 8/50\n",
      "2889506/2889506 [==============================] - 2187s 757us/step - loss: 0.8711 - auc_8: 0.5911 - val_loss: 0.6881 - val_auc_8: 0.5923\n",
      "Epoch 9/50\n",
      "2889506/2889506 [==============================] - 1885s 652us/step - loss: 0.8700 - auc_8: 0.5926 - val_loss: 0.6891 - val_auc_8: 0.5934\n"
     ]
    },
    {
     "data": {
      "text/plain": [
       "<keras.callbacks.callbacks.History at 0x7f7cb8801fa0>"
      ]
     },
     "execution_count": 32,
     "metadata": {},
     "output_type": "execute_result"
    }
   ],
   "source": [
    "model = Sequential()\n",
    "model.add(Dense(100, activation='relu', input_shape = (n_cols,))) \n",
    "model.add(Dropout(rate = 0.8))\n",
    "model.add(Dense(100, activation='relu'))\n",
    "model.add(Dense(500, activation='relu'))\n",
    "model.add(Dense(1000, activation='relu'))\n",
    "model.add(Dense(500, activation='relu'))\n",
    "model.add(Dense(100, activation='relu'))\n",
    "model.add(Dense(2, activation='softmax'))\n",
    "model.compile(optimizer=SGD(lr=0.001), loss='categorical_crossentropy', metrics=[tf.keras.metrics.AUC(curve='PR')])\n",
    "model.fit(X_train_s, y_train, callbacks = [early_stopping_monitor], validation_data=(X_val_s, y_val),\n",
    "         batch_size=64, class_weight=cw, epochs=50)"
   ]
  },
  {
   "cell_type": "code",
   "execution_count": 33,
   "metadata": {},
   "outputs": [],
   "source": [
    "yy_train_prob = model.predict(X_train_s)[:,1]\n",
    "y_val_prob = model.predict(X_val_s)[:,1]"
   ]
  },
  {
   "cell_type": "code",
   "execution_count": 34,
   "metadata": {},
   "outputs": [
    {
     "data": {
      "text/plain": [
       "0.5024298687072728"
      ]
     },
     "execution_count": 34,
     "metadata": {},
     "output_type": "execute_result"
    }
   ],
   "source": [
    "precision, recall, thresholds = precision_recall_curve(y_train[:,1], y_train_prob)\n",
    "auc(recall, precision)"
   ]
  },
  {
   "cell_type": "code",
   "execution_count": 35,
   "metadata": {},
   "outputs": [
    {
     "data": {
      "text/plain": [
       "0.4766038409793225"
      ]
     },
     "execution_count": 35,
     "metadata": {},
     "output_type": "execute_result"
    }
   ],
   "source": [
    "precision, recall, thresholds = precision_recall_curve(y_val[:,1], y_val_prob)\n",
    "auc(recall, precision)"
   ]
  },
  {
   "cell_type": "markdown",
   "metadata": {},
   "source": [
    "**The validation loss did not improve in the last round. We will decrease the model capacity by removing a layer.**"
   ]
  },
  {
   "cell_type": "code",
   "execution_count": 36,
   "metadata": {},
   "outputs": [
    {
     "name": "stdout",
     "output_type": "stream",
     "text": [
      "Train on 2889506 samples, validate on 1496200 samples\n",
      "Epoch 1/50\n",
      "2889506/2889506 [==============================] - 1061s 367us/step - loss: 0.8984 - auc_9: 0.5411 - val_loss: 0.7021 - val_auc_9: 0.5547\n",
      "Epoch 2/50\n",
      "2889506/2889506 [==============================] - 723s 250us/step - loss: 0.8875 - auc_9: 0.5532 - val_loss: 0.7024 - val_auc_9: 0.5608\n",
      "Epoch 3/50\n",
      "2889506/2889506 [==============================] - 763s 264us/step - loss: 0.8823 - auc_9: 0.5613 - val_loss: 0.6999 - val_auc_9: 0.5663\n",
      "Epoch 4/50\n",
      "2889506/2889506 [==============================] - 933s 323us/step - loss: 0.8790 - auc_9: 0.5673 - val_loss: 0.6967 - val_auc_9: 0.5711\n",
      "Epoch 5/50\n",
      "2889506/2889506 [==============================] - 908s 314us/step - loss: 0.8764 - auc_9: 0.5720 - val_loss: 0.6938 - val_auc_9: 0.5749\n",
      "Epoch 6/50\n",
      "2889506/2889506 [==============================] - 776s 269us/step - loss: 0.8747 - auc_9: 0.5760 - val_loss: 0.6934 - val_auc_9: 0.5782\n",
      "Epoch 7/50\n",
      "2889506/2889506 [==============================] - 990s 343us/step - loss: 0.8731 - auc_9: 0.5789 - val_loss: 0.6930 - val_auc_9: 0.5807\n",
      "Epoch 8/50\n",
      "2889506/2889506 [==============================] - 841s 291us/step - loss: 0.8721 - auc_9: 0.5813 - val_loss: 0.6949 - val_auc_9: 0.5827\n",
      "Epoch 9/50\n",
      "2889506/2889506 [==============================] - 920s 318us/step - loss: 0.8708 - auc_9: 0.5831 - val_loss: 0.6946 - val_auc_9: 0.5843\n",
      "Epoch 10/50\n",
      "2889506/2889506 [==============================] - 770s 267us/step - loss: 0.8699 - auc_9: 0.5849 - val_loss: 0.6936 - val_auc_9: 0.5858\n",
      "Epoch 11/50\n",
      "2889506/2889506 [==============================] - 914s 316us/step - loss: 0.8690 - auc_9: 0.5861 - val_loss: 0.6938 - val_auc_9: 0.5871\n",
      "Epoch 12/50\n",
      "2889506/2889506 [==============================] - 1015s 351us/step - loss: 0.8683 - auc_9: 0.5873 - val_loss: 0.6970 - val_auc_9: 0.5881\n"
     ]
    },
    {
     "data": {
      "text/plain": [
       "<keras.callbacks.callbacks.History at 0x7f7cb887ce80>"
      ]
     },
     "execution_count": 36,
     "metadata": {},
     "output_type": "execute_result"
    }
   ],
   "source": [
    "model = Sequential()\n",
    "model.add(Dense(100, activation='relu', input_shape = (n_cols,))) \n",
    "model.add(Dropout(rate = 0.8))\n",
    "model.add(Dense(100, activation='relu'))\n",
    "model.add(Dense(500, activation='relu'))\n",
    "model.add(Dense(500, activation='relu'))\n",
    "model.add(Dense(100, activation='relu'))\n",
    "model.add(Dense(2, activation='softmax'))\n",
    "model.compile(optimizer=SGD(lr=0.001), loss='categorical_crossentropy', metrics=[tf.keras.metrics.AUC(curve='PR')])\n",
    "model.fit(X_train_s, y_train, callbacks = [early_stopping_monitor], validation_data=(X_val_s, y_val),\n",
    "         batch_size=64, class_weight=cw, epochs=50)"
   ]
  },
  {
   "cell_type": "markdown",
   "metadata": {},
   "source": [
    "### Make predictions"
   ]
  },
  {
   "cell_type": "code",
   "execution_count": 13,
   "metadata": {},
   "outputs": [],
   "source": [
    "y_train_prob = model.predict(X_train_s)[:,1]\n",
    "y_val_prob = model.predict(X_val_s)[:,1]\n",
    "y_test_prob = model.predict(X_test_s)[:,1]"
   ]
  },
  {
   "cell_type": "markdown",
   "metadata": {},
   "source": [
    "### ROC"
   ]
  },
  {
   "cell_type": "code",
   "execution_count": 16,
   "metadata": {},
   "outputs": [
    {
     "data": {
      "text/plain": [
       "0.6633633772331589"
      ]
     },
     "execution_count": 16,
     "metadata": {},
     "output_type": "execute_result"
    }
   ],
   "source": [
    "fpr, tpr, thresholds = roc_curve(y_train[:,1], y_train_prob)\n",
    "auc(fpr, tpr)"
   ]
  },
  {
   "cell_type": "code",
   "execution_count": 17,
   "metadata": {},
   "outputs": [
    {
     "data": {
      "text/plain": [
       "0.6622402962712145"
      ]
     },
     "execution_count": 17,
     "metadata": {},
     "output_type": "execute_result"
    }
   ],
   "source": [
    "fpr, tpr, thresholds = roc_curve(y_val[:,1], y_val_prob)\n",
    "auc(fpr, tpr)"
   ]
  },
  {
   "cell_type": "code",
   "execution_count": 18,
   "metadata": {},
   "outputs": [
    {
     "data": {
      "text/plain": [
       "0.6628200490374877"
      ]
     },
     "execution_count": 18,
     "metadata": {},
     "output_type": "execute_result"
    }
   ],
   "source": [
    "fpr, tpr, thresholds = roc_curve(y_test[:,1], y_test_prob)\n",
    "auc(fpr, tpr)"
   ]
  },
  {
   "cell_type": "markdown",
   "metadata": {},
   "source": [
    "### Precision-Recall Curve"
   ]
  },
  {
   "cell_type": "code",
   "execution_count": 19,
   "metadata": {},
   "outputs": [
    {
     "data": {
      "text/plain": [
       "0.5052536719926125"
      ]
     },
     "execution_count": 19,
     "metadata": {},
     "output_type": "execute_result"
    }
   ],
   "source": [
    "precision, recall, thresholds = precision_recall_curve(y_train[:,1], y_train_prob)\n",
    "auc(recall, precision)"
   ]
  },
  {
   "cell_type": "code",
   "execution_count": 20,
   "metadata": {},
   "outputs": [
    {
     "data": {
      "text/plain": [
       "0.4749822763163157"
      ]
     },
     "execution_count": 20,
     "metadata": {},
     "output_type": "execute_result"
    }
   ],
   "source": [
    "precision, recall, thresholds = precision_recall_curve(y_val[:,1], y_val_prob)\n",
    "auc(recall, precision)"
   ]
  },
  {
   "cell_type": "code",
   "execution_count": 21,
   "metadata": {},
   "outputs": [
    {
     "data": {
      "text/plain": [
       "0.49407089543558397"
      ]
     },
     "execution_count": 21,
     "metadata": {},
     "output_type": "execute_result"
    }
   ],
   "source": [
    "precision, recall, thresholds = precision_recall_curve(y_test[:,1], y_test_prob)\n",
    "auc(recall, precision)"
   ]
  },
  {
   "cell_type": "markdown",
   "metadata": {},
   "source": [
    "### Reload the final model"
   ]
  },
  {
   "cell_type": "code",
   "execution_count": 6,
   "metadata": {},
   "outputs": [],
   "source": [
    "#reload the model\n",
    "m_nn = load_model('neuralnetwork.h5')"
   ]
  }
 ],
 "metadata": {
  "kernelspec": {
   "display_name": "flightstatus",
   "language": "python",
   "name": "flightstatus"
  },
  "language_info": {
   "codemirror_mode": {
    "name": "ipython",
    "version": 3
   },
   "file_extension": ".py",
   "mimetype": "text/x-python",
   "name": "python",
   "nbconvert_exporter": "python",
   "pygments_lexer": "ipython3",
   "version": "3.8.3"
  }
 },
 "nbformat": 4,
 "nbformat_minor": 2
}
