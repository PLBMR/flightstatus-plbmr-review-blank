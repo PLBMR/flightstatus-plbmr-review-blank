{
 "cells": [
  {
   "cell_type": "code",
   "execution_count": 95,
   "metadata": {},
   "outputs": [
    {
     "ename": "ModuleNotFoundError",
     "evalue": "No module named 'model_training'",
     "output_type": "error",
     "traceback": [
      "\u001b[0;31m---------------------------------------------------------------------------\u001b[0m",
      "\u001b[0;31mModuleNotFoundError\u001b[0m                       Traceback (most recent call last)",
      "\u001b[0;32m<ipython-input-95-7c4ea28a03bb>\u001b[0m in \u001b[0;36m<module>\u001b[0;34m\u001b[0m\n\u001b[1;32m     15\u001b[0m \u001b[0;32mfrom\u001b[0m \u001b[0msklearn\u001b[0m\u001b[0;34m.\u001b[0m\u001b[0mutils\u001b[0m \u001b[0;32mimport\u001b[0m \u001b[0mresample\u001b[0m\u001b[0;34m\u001b[0m\u001b[0;34m\u001b[0m\u001b[0m\n\u001b[1;32m     16\u001b[0m \u001b[0;32mfrom\u001b[0m \u001b[0msklearn\u001b[0m\u001b[0;34m.\u001b[0m\u001b[0mmetrics\u001b[0m \u001b[0;32mimport\u001b[0m \u001b[0mclassification_report\u001b[0m\u001b[0;34m,\u001b[0m \u001b[0mSCORERS\u001b[0m\u001b[0;34m,\u001b[0m \u001b[0mroc_curve\u001b[0m\u001b[0;34m,\u001b[0m \u001b[0mauc\u001b[0m\u001b[0;34m\u001b[0m\u001b[0;34m\u001b[0m\u001b[0m\n\u001b[0;32m---> 17\u001b[0;31m \u001b[0;32mfrom\u001b[0m \u001b[0mmodel_training\u001b[0m \u001b[0;32mimport\u001b[0m \u001b[0;34m*\u001b[0m\u001b[0;34m\u001b[0m\u001b[0;34m\u001b[0m\u001b[0m\n\u001b[0m",
      "\u001b[0;31mModuleNotFoundError\u001b[0m: No module named 'model_training'"
     ]
    }
   ],
   "source": [
    "import numpy as np\n",
    "import pandas as pd\n",
    "from sklearn.model_selection import train_test_split\n",
    "from xgboost.sklearn import XGBClassifier\n",
    "from sklearn.model_selection import GridSearchCV, RandomizedSearchCV\n",
    "import joblib\n",
    "import warnings\n",
    "warnings.filterwarnings('ignore')\n",
    "from sklearn.feature_selection import RFE\n",
    "import matplotlib.pyplot as pyplot\n",
    "from sklearn.metrics import roc_curve, auc\n",
    "from sklearn.feature_selection import VarianceThreshold\n",
    "from pandas.api.types import is_numeric_dtype, is_categorical_dtype, is_string_dtype\n",
    "from datapreparation import *\n",
    "from sklearn.utils import resample\n",
    "from sklearn.metrics import classification_report, SCORERS, roc_curve, auc\n",
    "from model_training import *"
   ]
  },
  {
   "cell_type": "code",
   "execution_count": 34,
   "metadata": {},
   "outputs": [],
   "source": [
    "flights = pd.read_csv('/Users/user/Documents/Github/flightstatus/data/dev/flights_processed.csv')"
   ]
  },
  {
   "cell_type": "code",
   "execution_count": 49,
   "metadata": {},
   "outputs": [],
   "source": [
    "datatrain = flights[flights.MONTH<=6]\n",
    "dataval = flights[(flights.MONTH>=7)&(flights.MONTH<=9)]\n",
    "datatest = flights[flights.MONTH<=10]"
   ]
  },
  {
   "cell_type": "code",
   "execution_count": 65,
   "metadata": {},
   "outputs": [],
   "source": [
    "def create_Xy(data):\n",
    "    return data.drop(['TARGET'], axis=1), data['TARGET']"
   ]
  },
  {
   "cell_type": "code",
   "execution_count": 67,
   "metadata": {},
   "outputs": [],
   "source": [
    "X_train, y_train = create_Xy(datatrain)\n",
    "X_val, y_val = create_Xy(dataval)\n",
    "X_test, y_test = create_Xy(datatest)"
   ]
  },
  {
   "cell_type": "markdown",
   "metadata": {},
   "source": [
    "# One starting model"
   ]
  },
  {
   "cell_type": "code",
   "execution_count": 59,
   "metadata": {},
   "outputs": [
    {
     "name": "stdout",
     "output_type": "stream",
     "text": [
      "[0]\tvalidation_0-logloss:0.677648\tvalidation_1-logloss:0.678281\n",
      "Multiple eval metrics have been passed: 'validation_1-logloss' will be used for early stopping.\n",
      "\n",
      "Will train until validation_1-logloss hasn't improved in 5 rounds.\n",
      "[1]\tvalidation_0-logloss:0.668023\tvalidation_1-logloss:0.664569\n",
      "[2]\tvalidation_0-logloss:0.657405\tvalidation_1-logloss:0.653934\n",
      "[3]\tvalidation_0-logloss:0.649599\tvalidation_1-logloss:0.645305\n",
      "[4]\tvalidation_0-logloss:0.642113\tvalidation_1-logloss:0.637939\n",
      "[5]\tvalidation_0-logloss:0.637189\tvalidation_1-logloss:0.631063\n",
      "[6]\tvalidation_0-logloss:0.632017\tvalidation_1-logloss:0.625779\n",
      "[7]\tvalidation_0-logloss:0.627993\tvalidation_1-logloss:0.62101\n",
      "[8]\tvalidation_0-logloss:0.62461\tvalidation_1-logloss:0.617323\n",
      "[9]\tvalidation_0-logloss:0.62163\tvalidation_1-logloss:0.61377\n",
      "[10]\tvalidation_0-logloss:0.619126\tvalidation_1-logloss:0.611997\n",
      "[11]\tvalidation_0-logloss:0.616873\tvalidation_1-logloss:0.609529\n",
      "[12]\tvalidation_0-logloss:0.615217\tvalidation_1-logloss:0.607385\n",
      "[13]\tvalidation_0-logloss:0.613442\tvalidation_1-logloss:0.60585\n",
      "[14]\tvalidation_0-logloss:0.612042\tvalidation_1-logloss:0.604379\n",
      "[15]\tvalidation_0-logloss:0.610816\tvalidation_1-logloss:0.602942\n",
      "[16]\tvalidation_0-logloss:0.60954\tvalidation_1-logloss:0.601688\n",
      "[17]\tvalidation_0-logloss:0.608366\tvalidation_1-logloss:0.600371\n",
      "[18]\tvalidation_0-logloss:0.607513\tvalidation_1-logloss:0.599234\n",
      "[19]\tvalidation_0-logloss:0.606625\tvalidation_1-logloss:0.598756\n",
      "[20]\tvalidation_0-logloss:0.605337\tvalidation_1-logloss:0.598763\n",
      "[21]\tvalidation_0-logloss:0.604559\tvalidation_1-logloss:0.598102\n",
      "[22]\tvalidation_0-logloss:0.603368\tvalidation_1-logloss:0.597939\n",
      "[23]\tvalidation_0-logloss:0.602823\tvalidation_1-logloss:0.597509\n",
      "[24]\tvalidation_0-logloss:0.602242\tvalidation_1-logloss:0.596967\n",
      "[25]\tvalidation_0-logloss:0.601718\tvalidation_1-logloss:0.596859\n",
      "[26]\tvalidation_0-logloss:0.601356\tvalidation_1-logloss:0.596444\n",
      "[27]\tvalidation_0-logloss:0.60094\tvalidation_1-logloss:0.596084\n",
      "[28]\tvalidation_0-logloss:0.600431\tvalidation_1-logloss:0.595922\n",
      "[29]\tvalidation_0-logloss:0.599958\tvalidation_1-logloss:0.59593\n",
      "[30]\tvalidation_0-logloss:0.59961\tvalidation_1-logloss:0.59565\n",
      "[31]\tvalidation_0-logloss:0.599223\tvalidation_1-logloss:0.595433\n",
      "[32]\tvalidation_0-logloss:0.598924\tvalidation_1-logloss:0.595434\n",
      "[33]\tvalidation_0-logloss:0.598615\tvalidation_1-logloss:0.59525\n",
      "[34]\tvalidation_0-logloss:0.598189\tvalidation_1-logloss:0.595086\n",
      "[35]\tvalidation_0-logloss:0.597725\tvalidation_1-logloss:0.594395\n",
      "[36]\tvalidation_0-logloss:0.597074\tvalidation_1-logloss:0.59423\n",
      "[37]\tvalidation_0-logloss:0.596692\tvalidation_1-logloss:0.593987\n",
      "[38]\tvalidation_0-logloss:0.596419\tvalidation_1-logloss:0.593859\n",
      "[39]\tvalidation_0-logloss:0.596129\tvalidation_1-logloss:0.593728\n",
      "[40]\tvalidation_0-logloss:0.595755\tvalidation_1-logloss:0.593631\n",
      "[41]\tvalidation_0-logloss:0.595465\tvalidation_1-logloss:0.593475\n",
      "[42]\tvalidation_0-logloss:0.595205\tvalidation_1-logloss:0.593542\n",
      "[43]\tvalidation_0-logloss:0.595045\tvalidation_1-logloss:0.593483\n",
      "[44]\tvalidation_0-logloss:0.594713\tvalidation_1-logloss:0.593501\n",
      "[45]\tvalidation_0-logloss:0.594435\tvalidation_1-logloss:0.593464\n",
      "[46]\tvalidation_0-logloss:0.593791\tvalidation_1-logloss:0.59403\n",
      "[47]\tvalidation_0-logloss:0.593394\tvalidation_1-logloss:0.593868\n",
      "[48]\tvalidation_0-logloss:0.593267\tvalidation_1-logloss:0.593862\n",
      "[49]\tvalidation_0-logloss:0.593041\tvalidation_1-logloss:0.593756\n",
      "[50]\tvalidation_0-logloss:0.592949\tvalidation_1-logloss:0.593754\n",
      "Stopping. Best iteration:\n",
      "[45]\tvalidation_0-logloss:0.594435\tvalidation_1-logloss:0.593464\n",
      "\n"
     ]
    },
    {
     "data": {
      "text/plain": [
       "XGBClassifier(base_score=0.5, booster='gbtree', colsample_bylevel=1,\n",
       "              colsample_bynode=1, colsample_bytree=0.8, gamma=0,\n",
       "              learning_rate=0.1, max_delta_step=0, max_depth=5,\n",
       "              min_child_weight=5, missing=None, n_estimators=999, n_jobs=-1,\n",
       "              nthread=None, objective='binary:logistic', random_state=123,\n",
       "              reg_alpha=0, reg_lambda=0, scale_pos_weight=1, seed=None,\n",
       "              silent=None, subsample=0.8, verbosity=1)"
      ]
     },
     "execution_count": 59,
     "metadata": {},
     "output_type": "execute_result"
    }
   ],
   "source": [
    "m_xgb = XGBClassifier(max_depth=5,\n",
    "                      min_child_weight=5,\n",
    "                      subsample=0.8,\n",
    "                      colsample_bytree=0.8,\n",
    "                      learning_rate = 0.1,\n",
    "                      reg_alpha = 0, reg_lambda = 0, gamma=0,\n",
    "                      objective= 'binary:logistic',\n",
    "                      random_state=123,\n",
    "                      n_jobs=-1, n_estimators = 999)\n",
    "\n",
    "m_xgb.fit(datatrain.drop(['TARGET'], axis=1), datatrain['TARGET'], \n",
    "          eval_set=[(datatrain.drop(['TARGET'], axis=1), datatrain['TARGET']),\n",
    "                   (dataval.drop(['TARGET'], axis=1), dataval['TARGET'])], \n",
    "          eval_metric=['logloss'], early_stopping_rounds=5, verbose=True)"
   ]
  },
  {
   "cell_type": "code",
   "execution_count": 63,
   "metadata": {},
   "outputs": [
    {
     "data": {
      "image/png": "[encoded data removed]",
      "text/plain": [
       "<Figure size 432x288 with 1 Axes>"
      ]
     },
     "metadata": {
      "needs_background": "light"
     },
     "output_type": "display_data"
    }
   ],
   "source": [
    "# retrieve performance metrics\n",
    "results = m_xgb.evals_result()\n",
    "epochs = len(results['validation_0']['logloss'])\n",
    "x_axis = range(0, epochs)\n",
    "# plot log loss\n",
    "fig, ax = pyplot.subplots()\n",
    "ax.plot(x_axis, results['validation_0']['logloss'], label='Train')\n",
    "ax.plot(x_axis, results['validation_1']['logloss'], label='Validation')\n",
    "ax.legend()\n",
    "pyplot.ylabel('Log Loss')\n",
    "pyplot.title('XGBoost Log Loss')\n",
    "pyplot.show()"
   ]
  },
  {
   "cell_type": "code",
   "execution_count": 61,
   "metadata": {},
   "outputs": [
    {
     "name": "stdout",
     "output_type": "stream",
     "text": [
      "              precision    recall  f1-score   support\n",
      "\n",
      "           0       0.72      0.86      0.79   1004446\n",
      "           1       0.54      0.33      0.41    491754\n",
      "\n",
      "    accuracy                           0.69   1496200\n",
      "   macro avg       0.63      0.59      0.60   1496200\n",
      "weighted avg       0.66      0.69      0.66   1496200\n",
      "\n"
     ]
    }
   ],
   "source": [
    "print(classification_report(dataval['TARGET'], m_xgb.predict(dataval.drop(['TARGET'],axis=1))))"
   ]
  },
  {
   "cell_type": "markdown",
   "metadata": {},
   "source": [
    "# Hyperparameter Tuning: Random Search"
   ]
  },
  {
   "cell_type": "code",
   "execution_count": 87,
   "metadata": {},
   "outputs": [
    {
     "name": "stdout",
     "output_type": "stream",
     "text": [
      "[0]\tvalidation_0-logloss:0.605341\n",
      "Will train until validation_0-logloss hasn't improved in 5 rounds.\n",
      "[1]\tvalidation_0-logloss:0.600192\n",
      "[2]\tvalidation_0-logloss:0.603095\n",
      "[3]\tvalidation_0-logloss:0.613481\n",
      "[4]\tvalidation_0-logloss:0.614948\n",
      "[5]\tvalidation_0-logloss:0.614856\n",
      "[6]\tvalidation_0-logloss:0.624737\n",
      "Stopping. Best iteration:\n",
      "[1]\tvalidation_0-logloss:0.600192\n",
      "\n"
     ]
    },
    {
     "data": {
      "text/plain": [
       "RandomizedSearchCV(cv=5, error_score='raise-deprecating',\n",
       "                   estimator=XGBClassifier(base_score=0.5, booster='gbtree',\n",
       "                                           colsample_bylevel=1,\n",
       "                                           colsample_bynode=1,\n",
       "                                           colsample_bytree=1, gamma=0,\n",
       "                                           learning_rate=0.1, max_delta_step=0,\n",
       "                                           max_depth=3, min_child_weight=1,\n",
       "                                           missing=None, n_estimators=999,\n",
       "                                           n_jobs=1, nthread=None,\n",
       "                                           objective='binary:logistic',\n",
       "                                           random_state=0, reg_alpha=0...\n",
       "       1.85865657e+00, 1.87884848e+00, 1.89904040e+00, 1.91923232e+00,\n",
       "       1.93942424e+00, 1.95961616e+00, 1.97980808e+00, 2.00000000e+00]),\n",
       "                                        'max_depth': [3, 4, 5, 6, 7, 8, 9, 10,\n",
       "                                                      11, 12, 13, 14, 15, 16,\n",
       "                                                      17, 18, 19],\n",
       "                                        'min_child_weight': [2, 3, 4, 5, 6, 7,\n",
       "                                                             8, 9, 10, 11, 12,\n",
       "                                                             13, 14, 15, 16, 17,\n",
       "                                                             18, 19],\n",
       "                                        'subsample': [0.5, 0.6, 0.7, 0.8, 0.9,\n",
       "                                                      1.0]},\n",
       "                   pre_dispatch='2*n_jobs', random_state=None, refit=True,\n",
       "                   return_train_score=True, scoring='f1', verbose=0)"
      ]
     },
     "execution_count": 87,
     "metadata": {},
     "output_type": "execute_result"
    }
   ],
   "source": [
    "parameter_grid = {\n",
    "    'max_depth' : list(range(3,20)), \n",
    "    'min_child_weight': list(range(2,20)),\n",
    "    'subsample' : [i/10.0 for i in range(5, 11)], \n",
    "    'colsample_bytree' : [i/10.0 for i in range(5, 11)],\n",
    "    'learning_rate' : np.linspace(0.001,2,100)\n",
    "}\n",
    "\n",
    "number_models = 50\n",
    "random_XGB_class = RandomizedSearchCV(estimator = XGBClassifier(objective= 'binary:logistic', n_estimators = 999), \n",
    "                                      param_distributions = parameter_grid, n_iter = number_models, \n",
    "                                      scoring='f1', cv = 5, refit=True, return_train_score = True,\n",
    "                                      n_jobs=-1)\n",
    "random_XGB_class.fit(X_train, y_train, eval_set= [(X_val, y_val)], eval_metric='logloss', early_stopping_rounds=5)"
   ]
  },
  {
   "cell_type": "code",
   "execution_count": 85,
   "metadata": {},
   "outputs": [],
   "source": [
    "def search_result(searchcv):\n",
    "    result = pd.DataFrame.from_dict(searchcv.cv_results_['params'])\n",
    "    result['mean_score'] = searchcv.cv_results_['mean_test_score']\n",
    "    result['std_score'] = searchcv.cv_results_['std_test_score']\n",
    "    return result.sort_values('mean_score', ascending=False)"
   ]
  },
  {
   "cell_type": "code",
   "execution_count": 89,
   "metadata": {},
   "outputs": [],
   "source": [
    "# t = search_result(random_XGB_class)\n",
    "# t.to_csv('randomsearch.csv')"
   ]
  },
  {
   "cell_type": "code",
   "execution_count": 92,
   "metadata": {},
   "outputs": [],
   "source": [
    "rs_result = pd.read_csv('randomsearch.csv')"
   ]
  },
  {
   "cell_type": "code",
   "execution_count": 93,
   "metadata": {},
   "outputs": [
    {
     "data": {
      "text/html": [
       "<div>\n",
       "<style scoped>\n",
       "    .dataframe tbody tr th:only-of-type {\n",
       "        vertical-align: middle;\n",
       "    }\n",
       "\n",
       "    .dataframe tbody tr th {\n",
       "        vertical-align: top;\n",
       "    }\n",
       "\n",
       "    .dataframe thead th {\n",
       "        text-align: right;\n",
       "    }\n",
       "</style>\n",
       "<table border=\"1\" class=\"dataframe\">\n",
       "  <thead>\n",
       "    <tr style=\"text-align: right;\">\n",
       "      <th></th>\n",
       "      <th>model</th>\n",
       "      <th>colsample_bytree</th>\n",
       "      <th>learning_rate</th>\n",
       "      <th>max_depth</th>\n",
       "      <th>min_child_weight</th>\n",
       "      <th>subsample</th>\n",
       "      <th>mean_score</th>\n",
       "      <th>std_score</th>\n",
       "    </tr>\n",
       "  </thead>\n",
       "  <tbody>\n",
       "    <tr>\n",
       "      <th>0</th>\n",
       "      <td>11</td>\n",
       "      <td>1.0</td>\n",
       "      <td>1.212515</td>\n",
       "      <td>3</td>\n",
       "      <td>19</td>\n",
       "      <td>0.8</td>\n",
       "      <td>0.399653</td>\n",
       "      <td>0.058687</td>\n",
       "    </tr>\n",
       "    <tr>\n",
       "      <th>1</th>\n",
       "      <td>42</td>\n",
       "      <td>0.7</td>\n",
       "      <td>1.575970</td>\n",
       "      <td>8</td>\n",
       "      <td>2</td>\n",
       "      <td>0.8</td>\n",
       "      <td>0.371139</td>\n",
       "      <td>0.043006</td>\n",
       "    </tr>\n",
       "    <tr>\n",
       "      <th>2</th>\n",
       "      <td>41</td>\n",
       "      <td>0.7</td>\n",
       "      <td>0.970212</td>\n",
       "      <td>19</td>\n",
       "      <td>6</td>\n",
       "      <td>0.6</td>\n",
       "      <td>0.367055</td>\n",
       "      <td>0.053566</td>\n",
       "    </tr>\n",
       "    <tr>\n",
       "      <th>3</th>\n",
       "      <td>8</td>\n",
       "      <td>0.6</td>\n",
       "      <td>1.050980</td>\n",
       "      <td>19</td>\n",
       "      <td>4</td>\n",
       "      <td>0.5</td>\n",
       "      <td>0.363797</td>\n",
       "      <td>0.048048</td>\n",
       "    </tr>\n",
       "    <tr>\n",
       "      <th>4</th>\n",
       "      <td>43</td>\n",
       "      <td>0.9</td>\n",
       "      <td>1.798081</td>\n",
       "      <td>5</td>\n",
       "      <td>7</td>\n",
       "      <td>0.9</td>\n",
       "      <td>0.363560</td>\n",
       "      <td>0.024876</td>\n",
       "    </tr>\n",
       "  </tbody>\n",
       "</table>\n",
       "</div>"
      ],
      "text/plain": [
       "   model  colsample_bytree  learning_rate  max_depth  min_child_weight  \\\n",
       "0     11               1.0       1.212515          3                19   \n",
       "1     42               0.7       1.575970          8                 2   \n",
       "2     41               0.7       0.970212         19                 6   \n",
       "3      8               0.6       1.050980         19                 4   \n",
       "4     43               0.9       1.798081          5                 7   \n",
       "\n",
       "   subsample  mean_score  std_score  \n",
       "0        0.8    0.399653   0.058687  \n",
       "1        0.8    0.371139   0.043006  \n",
       "2        0.6    0.367055   0.053566  \n",
       "3        0.5    0.363797   0.048048  \n",
       "4        0.9    0.363560   0.024876  "
      ]
     },
     "execution_count": 93,
     "metadata": {},
     "output_type": "execute_result"
    }
   ],
   "source": [
    "rs_result.head()"
   ]
  },
  {
   "cell_type": "code",
   "execution_count": null,
   "metadata": {},
   "outputs": [],
   "source": []
  }
 ],
 "metadata": {
  "kernelspec": {
   "display_name": "main_kernel",
   "language": "python",
   "name": "main_kernel"
  },
  "language_info": {
   "codemirror_mode": {
    "name": "ipython",
    "version": 3
   },
   "file_extension": ".py",
   "mimetype": "text/x-python",
   "name": "python",
   "nbconvert_exporter": "python",
   "pygments_lexer": "ipython3",
   "version": "3.7.3"
  }
 },
 "nbformat": 4,
 "nbformat_minor": 2
}
