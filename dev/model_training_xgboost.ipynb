{
 "cells": [
  {
   "cell_type": "code",
   "execution_count": 11,
   "metadata": {},
   "outputs": [],
   "source": [
    "import numpy as np\n",
    "import pandas as pd\n",
    "from sklearn.model_selection import train_test_split\n",
    "from xgboost.sklearn import XGBClassifier\n",
    "from sklearn.model_selection import GridSearchCV\n",
    "import joblib\n",
    "import warnings\n",
    "warnings.filterwarnings('ignore')\n",
    "from sklearn.feature_selection import RFE\n",
    "import matplotlib.pyplot as pyplot\n",
    "from sklearn.metrics import roc_curve, auc\n",
    "from sklearn.feature_selection import VarianceThreshold\n",
    "from pandas.api.types import is_string_dtype\n",
    "from pandas.api.types import is_numeric_dtype"
   ]
  },
  {
   "cell_type": "code",
   "execution_count": 4,
   "metadata": {},
   "outputs": [
    {
     "data": {
      "text/plain": [
       "(5819079, 58)"
      ]
     },
     "execution_count": 4,
     "metadata": {},
     "output_type": "execute_result"
    }
   ],
   "source": [
    "data = pd.read_csv('/Users/user/Documents/Github/flightstatus/data/dev/flights_processed.csv')\n",
    "data.shape"
   ]
  },
  {
   "cell_type": "code",
   "execution_count": 5,
   "metadata": {},
   "outputs": [
    {
     "data": {
      "text/plain": [
       "0    0.662225\n",
       "1    0.337775\n",
       "Name: TARGET, dtype: float64"
      ]
     },
     "execution_count": 5,
     "metadata": {},
     "output_type": "execute_result"
    }
   ],
   "source": [
    "data['TARGET'].value_counts()/len(data)"
   ]
  },
  {
   "cell_type": "code",
   "execution_count": 20,
   "metadata": {},
   "outputs": [
    {
     "data": {
      "text/plain": [
       "0    5819079\n",
       "Name: ORIGIN_AIRPORT_INTL, dtype: int64"
      ]
     },
     "execution_count": 20,
     "metadata": {},
     "output_type": "execute_result"
    }
   ],
   "source": [
    "data['ORIGIN_AIRPORT_INTL'].value_counts()"
   ]
  },
  {
   "cell_type": "code",
   "execution_count": 23,
   "metadata": {},
   "outputs": [
    {
     "data": {
      "text/html": [
       "<div>\n",
       "<style scoped>\n",
       "    .dataframe tbody tr th:only-of-type {\n",
       "        vertical-align: middle;\n",
       "    }\n",
       "\n",
       "    .dataframe tbody tr th {\n",
       "        vertical-align: top;\n",
       "    }\n",
       "\n",
       "    .dataframe thead th {\n",
       "        text-align: right;\n",
       "    }\n",
       "</style>\n",
       "<table border=\"1\" class=\"dataframe\">\n",
       "  <thead>\n",
       "    <tr style=\"text-align: right;\">\n",
       "      <th></th>\n",
       "      <th>ORIGIN_AIRPORT_INTL</th>\n",
       "      <th>ORIGIN_AIRPORT</th>\n",
       "      <th>AIRPORT_ORIGIN</th>\n",
       "    </tr>\n",
       "  </thead>\n",
       "  <tbody>\n",
       "    <tr>\n",
       "      <th>5819074</th>\n",
       "      <td>0</td>\n",
       "      <td>LAX</td>\n",
       "      <td>Los Angeles International Airport</td>\n",
       "    </tr>\n",
       "    <tr>\n",
       "      <th>5819075</th>\n",
       "      <td>0</td>\n",
       "      <td>JFK</td>\n",
       "      <td>John F. Kennedy International Airport (New Yor...</td>\n",
       "    </tr>\n",
       "    <tr>\n",
       "      <th>5819076</th>\n",
       "      <td>0</td>\n",
       "      <td>JFK</td>\n",
       "      <td>John F. Kennedy International Airport (New Yor...</td>\n",
       "    </tr>\n",
       "    <tr>\n",
       "      <th>5819077</th>\n",
       "      <td>0</td>\n",
       "      <td>MCO</td>\n",
       "      <td>Orlando International Airport</td>\n",
       "    </tr>\n",
       "    <tr>\n",
       "      <th>5819078</th>\n",
       "      <td>0</td>\n",
       "      <td>JFK</td>\n",
       "      <td>John F. Kennedy International Airport (New Yor...</td>\n",
       "    </tr>\n",
       "  </tbody>\n",
       "</table>\n",
       "</div>"
      ],
      "text/plain": [
       "         ORIGIN_AIRPORT_INTL ORIGIN_AIRPORT  \\\n",
       "5819074                    0            LAX   \n",
       "5819075                    0            JFK   \n",
       "5819076                    0            JFK   \n",
       "5819077                    0            MCO   \n",
       "5819078                    0            JFK   \n",
       "\n",
       "                                            AIRPORT_ORIGIN  \n",
       "5819074                  Los Angeles International Airport  \n",
       "5819075  John F. Kennedy International Airport (New Yor...  \n",
       "5819076  John F. Kennedy International Airport (New Yor...  \n",
       "5819077                      Orlando International Airport  \n",
       "5819078  John F. Kennedy International Airport (New Yor...  "
      ]
     },
     "execution_count": 23,
     "metadata": {},
     "output_type": "execute_result"
    }
   ],
   "source": [
    "data[['ORIGIN_AIRPORT_INTL', 'ORIGIN_AIRPORT', 'AIRPORT_ORIGIN']].tail()"
   ]
  },
  {
   "cell_type": "code",
   "execution_count": 8,
   "metadata": {},
   "outputs": [
    {
     "data": {
      "text/html": [
       "<div>\n",
       "<style scoped>\n",
       "    .dataframe tbody tr th:only-of-type {\n",
       "        vertical-align: middle;\n",
       "    }\n",
       "\n",
       "    .dataframe tbody tr th {\n",
       "        vertical-align: top;\n",
       "    }\n",
       "\n",
       "    .dataframe thead th {\n",
       "        text-align: right;\n",
       "    }\n",
       "</style>\n",
       "<table border=\"1\" class=\"dataframe\">\n",
       "  <thead>\n",
       "    <tr style=\"text-align: right;\">\n",
       "      <th></th>\n",
       "      <th>YEAR</th>\n",
       "      <th>MONTH</th>\n",
       "      <th>DAY</th>\n",
       "      <th>DAY_OF_WEEK</th>\n",
       "      <th>AIRLINE</th>\n",
       "      <th>FLIGHT_NUMBER</th>\n",
       "      <th>TAIL_NUMBER</th>\n",
       "      <th>ORIGIN_AIRPORT</th>\n",
       "      <th>DESTINATION_AIRPORT</th>\n",
       "      <th>SCHEDULED_DEPARTURE</th>\n",
       "      <th>...</th>\n",
       "      <th>DATE</th>\n",
       "      <th>DATE_TRAFFIC</th>\n",
       "      <th>MONTH_TRAFFIC</th>\n",
       "      <th>AIRLINE_TRAFFIC</th>\n",
       "      <th>ORIGIN_AIRPORT_INTL</th>\n",
       "      <th>ORIGIN_AIRPORT_TRAFFIC</th>\n",
       "      <th>DESTINATION_AIRPORT_INTL</th>\n",
       "      <th>DESTINATION_AIRPORT_TRAFFIC</th>\n",
       "      <th>LONGITUDE_DIF</th>\n",
       "      <th>LATITUDE_DIF</th>\n",
       "    </tr>\n",
       "  </thead>\n",
       "  <tbody>\n",
       "    <tr>\n",
       "      <th>0</th>\n",
       "      <td>2015</td>\n",
       "      <td>1</td>\n",
       "      <td>1</td>\n",
       "      <td>4</td>\n",
       "      <td>AS</td>\n",
       "      <td>98</td>\n",
       "      <td>N407AS</td>\n",
       "      <td>ANC</td>\n",
       "      <td>SEA</td>\n",
       "      <td>5</td>\n",
       "      <td>...</td>\n",
       "      <td>2015-01-01</td>\n",
       "      <td>13950</td>\n",
       "      <td>469968</td>\n",
       "      <td>172521</td>\n",
       "      <td>0</td>\n",
       "      <td>32006.0</td>\n",
       "      <td>0</td>\n",
       "      <td>221806.0</td>\n",
       "      <td>-27.68688</td>\n",
       "      <td>13.72534</td>\n",
       "    </tr>\n",
       "    <tr>\n",
       "      <th>1</th>\n",
       "      <td>2015</td>\n",
       "      <td>1</td>\n",
       "      <td>1</td>\n",
       "      <td>4</td>\n",
       "      <td>AA</td>\n",
       "      <td>2336</td>\n",
       "      <td>N3KUAA</td>\n",
       "      <td>LAX</td>\n",
       "      <td>PBI</td>\n",
       "      <td>10</td>\n",
       "      <td>...</td>\n",
       "      <td>2015-01-01</td>\n",
       "      <td>13950</td>\n",
       "      <td>469968</td>\n",
       "      <td>725984</td>\n",
       "      <td>0</td>\n",
       "      <td>389369.0</td>\n",
       "      <td>0</td>\n",
       "      <td>45147.0</td>\n",
       "      <td>-38.31248</td>\n",
       "      <td>7.25938</td>\n",
       "    </tr>\n",
       "    <tr>\n",
       "      <th>2</th>\n",
       "      <td>2015</td>\n",
       "      <td>1</td>\n",
       "      <td>1</td>\n",
       "      <td>4</td>\n",
       "      <td>US</td>\n",
       "      <td>840</td>\n",
       "      <td>N171US</td>\n",
       "      <td>SFO</td>\n",
       "      <td>CLT</td>\n",
       "      <td>20</td>\n",
       "      <td>...</td>\n",
       "      <td>2015-01-01</td>\n",
       "      <td>13950</td>\n",
       "      <td>469968</td>\n",
       "      <td>198715</td>\n",
       "      <td>0</td>\n",
       "      <td>295974.0</td>\n",
       "      <td>0</td>\n",
       "      <td>200646.0</td>\n",
       "      <td>-41.43171</td>\n",
       "      <td>2.40499</td>\n",
       "    </tr>\n",
       "    <tr>\n",
       "      <th>3</th>\n",
       "      <td>2015</td>\n",
       "      <td>1</td>\n",
       "      <td>1</td>\n",
       "      <td>4</td>\n",
       "      <td>AA</td>\n",
       "      <td>258</td>\n",
       "      <td>N3HYAA</td>\n",
       "      <td>LAX</td>\n",
       "      <td>MIA</td>\n",
       "      <td>20</td>\n",
       "      <td>...</td>\n",
       "      <td>2015-01-01</td>\n",
       "      <td>13950</td>\n",
       "      <td>469968</td>\n",
       "      <td>725984</td>\n",
       "      <td>0</td>\n",
       "      <td>389369.0</td>\n",
       "      <td>0</td>\n",
       "      <td>138665.0</td>\n",
       "      <td>-38.11751</td>\n",
       "      <td>8.14929</td>\n",
       "    </tr>\n",
       "    <tr>\n",
       "      <th>4</th>\n",
       "      <td>2015</td>\n",
       "      <td>1</td>\n",
       "      <td>1</td>\n",
       "      <td>4</td>\n",
       "      <td>AS</td>\n",
       "      <td>135</td>\n",
       "      <td>N527AS</td>\n",
       "      <td>SEA</td>\n",
       "      <td>ANC</td>\n",
       "      <td>25</td>\n",
       "      <td>...</td>\n",
       "      <td>2015-01-01</td>\n",
       "      <td>13950</td>\n",
       "      <td>469968</td>\n",
       "      <td>172521</td>\n",
       "      <td>0</td>\n",
       "      <td>221806.0</td>\n",
       "      <td>0</td>\n",
       "      <td>32006.0</td>\n",
       "      <td>27.68688</td>\n",
       "      <td>-13.72534</td>\n",
       "    </tr>\n",
       "  </tbody>\n",
       "</table>\n",
       "<p>5 rows × 58 columns</p>\n",
       "</div>"
      ],
      "text/plain": [
       "   YEAR  MONTH  DAY  DAY_OF_WEEK AIRLINE  FLIGHT_NUMBER TAIL_NUMBER  \\\n",
       "0  2015      1    1            4      AS             98      N407AS   \n",
       "1  2015      1    1            4      AA           2336      N3KUAA   \n",
       "2  2015      1    1            4      US            840      N171US   \n",
       "3  2015      1    1            4      AA            258      N3HYAA   \n",
       "4  2015      1    1            4      AS            135      N527AS   \n",
       "\n",
       "  ORIGIN_AIRPORT DESTINATION_AIRPORT  SCHEDULED_DEPARTURE  ...        DATE  \\\n",
       "0            ANC                 SEA                    5  ...  2015-01-01   \n",
       "1            LAX                 PBI                   10  ...  2015-01-01   \n",
       "2            SFO                 CLT                   20  ...  2015-01-01   \n",
       "3            LAX                 MIA                   20  ...  2015-01-01   \n",
       "4            SEA                 ANC                   25  ...  2015-01-01   \n",
       "\n",
       "   DATE_TRAFFIC  MONTH_TRAFFIC  AIRLINE_TRAFFIC  ORIGIN_AIRPORT_INTL  \\\n",
       "0         13950         469968           172521                    0   \n",
       "1         13950         469968           725984                    0   \n",
       "2         13950         469968           198715                    0   \n",
       "3         13950         469968           725984                    0   \n",
       "4         13950         469968           172521                    0   \n",
       "\n",
       "   ORIGIN_AIRPORT_TRAFFIC  DESTINATION_AIRPORT_INTL  \\\n",
       "0                 32006.0                         0   \n",
       "1                389369.0                         0   \n",
       "2                295974.0                         0   \n",
       "3                389369.0                         0   \n",
       "4                221806.0                         0   \n",
       "\n",
       "   DESTINATION_AIRPORT_TRAFFIC  LONGITUDE_DIF  LATITUDE_DIF  \n",
       "0                     221806.0      -27.68688      13.72534  \n",
       "1                      45147.0      -38.31248       7.25938  \n",
       "2                     200646.0      -41.43171       2.40499  \n",
       "3                     138665.0      -38.11751       8.14929  \n",
       "4                      32006.0       27.68688     -13.72534  \n",
       "\n",
       "[5 rows x 58 columns]"
      ]
     },
     "execution_count": 8,
     "metadata": {},
     "output_type": "execute_result"
    }
   ],
   "source": [
    "data.head()"
   ]
  },
  {
   "cell_type": "code",
   "execution_count": 9,
   "metadata": {},
   "outputs": [
    {
     "data": {
      "text/plain": [
       "Index(['YEAR', 'MONTH', 'DAY', 'DAY_OF_WEEK', 'AIRLINE', 'FLIGHT_NUMBER',\n",
       "       'TAIL_NUMBER', 'ORIGIN_AIRPORT', 'DESTINATION_AIRPORT',\n",
       "       'SCHEDULED_DEPARTURE', 'DEPARTURE_TIME', 'DEPARTURE_DELAY', 'TAXI_OUT',\n",
       "       'WHEELS_OFF', 'SCHEDULED_TIME', 'ELAPSED_TIME', 'AIR_TIME', 'DISTANCE',\n",
       "       'WHEELS_ON', 'TAXI_IN', 'SCHEDULED_ARRIVAL', 'ARRIVAL_TIME',\n",
       "       'ARRIVAL_DELAY', 'DIVERTED', 'CANCELLED', 'CANCELLATION_REASON',\n",
       "       'AIR_SYSTEM_DELAY', 'SECURITY_DELAY', 'AIRLINE_DELAY',\n",
       "       'LATE_AIRCRAFT_DELAY', 'WEATHER_DELAY', 'AIRPORT_ORIGIN', 'CITY_ORIGIN',\n",
       "       'STATE_ORIGIN', 'LATITUDE_ORIGIN', 'LONGITUDE_ORIGIN',\n",
       "       'AIRPORT_DESTINATION', 'CITY_DESTINATION', 'STATE_DESTINATION',\n",
       "       'LATITUDE_DESTINATION', 'LONGITUDE_DESTINATION', 'HOLIDAY', 'TARGET',\n",
       "       'AIRLINE_CAT', 'ORIGIN_AIRPORT_CAT', 'DESTINATION_AIRPORT_CAT',\n",
       "       'HOLIDAY_FLAG', 'WEEKEND', 'DATE', 'DATE_TRAFFIC', 'MONTH_TRAFFIC',\n",
       "       'AIRLINE_TRAFFIC', 'ORIGIN_AIRPORT_INTL', 'ORIGIN_AIRPORT_TRAFFIC',\n",
       "       'DESTINATION_AIRPORT_INTL', 'DESTINATION_AIRPORT_TRAFFIC',\n",
       "       'LONGITUDE_DIF', 'LATITUDE_DIF'],\n",
       "      dtype='object')"
      ]
     },
     "execution_count": 9,
     "metadata": {},
     "output_type": "execute_result"
    }
   ],
   "source": [
    "data.columns"
   ]
  },
  {
   "cell_type": "code",
   "execution_count": null,
   "metadata": {},
   "outputs": [],
   "source": [
    "NOT_USED = ['SCHEDULED_TIME', 'WEATHER_DELAY', 'CANCELLATION_REASON', 'CANCELLED', 'ORIGIN_STATE', 'WEATHER_DELAY_CNT', 'WEATHER_DELAY_FLAG']"
   ]
  },
  {
   "cell_type": "code",
   "execution_count": 12,
   "metadata": {},
   "outputs": [],
   "source": [
    "NUM_VAR = [v for v in data.columns if is_numeric_dtype(data[v])]"
   ]
  },
  {
   "cell_type": "code",
   "execution_count": 13,
   "metadata": {},
   "outputs": [
    {
     "data": {
      "text/plain": [
       "['YEAR',\n",
       " 'MONTH',\n",
       " 'DAY',\n",
       " 'DAY_OF_WEEK',\n",
       " 'FLIGHT_NUMBER',\n",
       " 'SCHEDULED_DEPARTURE',\n",
       " 'DEPARTURE_TIME',\n",
       " 'DEPARTURE_DELAY',\n",
       " 'TAXI_OUT',\n",
       " 'WHEELS_OFF',\n",
       " 'SCHEDULED_TIME',\n",
       " 'ELAPSED_TIME',\n",
       " 'AIR_TIME',\n",
       " 'DISTANCE',\n",
       " 'WHEELS_ON',\n",
       " 'TAXI_IN',\n",
       " 'SCHEDULED_ARRIVAL',\n",
       " 'ARRIVAL_TIME',\n",
       " 'ARRIVAL_DELAY',\n",
       " 'DIVERTED',\n",
       " 'CANCELLED',\n",
       " 'AIR_SYSTEM_DELAY',\n",
       " 'SECURITY_DELAY',\n",
       " 'AIRLINE_DELAY',\n",
       " 'LATE_AIRCRAFT_DELAY',\n",
       " 'WEATHER_DELAY',\n",
       " 'LATITUDE_ORIGIN',\n",
       " 'LONGITUDE_ORIGIN',\n",
       " 'LATITUDE_DESTINATION',\n",
       " 'LONGITUDE_DESTINATION',\n",
       " 'TARGET',\n",
       " 'AIRLINE_CAT',\n",
       " 'ORIGIN_AIRPORT_CAT',\n",
       " 'DESTINATION_AIRPORT_CAT',\n",
       " 'HOLIDAY_FLAG',\n",
       " 'WEEKEND',\n",
       " 'DATE_TRAFFIC',\n",
       " 'MONTH_TRAFFIC',\n",
       " 'AIRLINE_TRAFFIC',\n",
       " 'ORIGIN_AIRPORT_INTL',\n",
       " 'ORIGIN_AIRPORT_TRAFFIC',\n",
       " 'DESTINATION_AIRPORT_INTL',\n",
       " 'DESTINATION_AIRPORT_TRAFFIC',\n",
       " 'LONGITUDE_DIF',\n",
       " 'LATITUDE_DIF']"
      ]
     },
     "execution_count": 13,
     "metadata": {},
     "output_type": "execute_result"
    }
   ],
   "source": [
    "NUM_VAR"
   ]
  },
  {
   "cell_type": "code",
   "execution_count": 10,
   "metadata": {},
   "outputs": [
    {
     "data": {
      "text/plain": [
       "dtype('float64')"
      ]
     },
     "execution_count": 10,
     "metadata": {},
     "output_type": "execute_result"
    }
   ],
   "source": [
    "data['SCHEDULED_TIME'].dtype == "
   ]
  },
  {
   "cell_type": "code",
   "execution_count": null,
   "metadata": {},
   "outputs": [],
   "source": [
    "df_train, df_test = train_test_split(data, stratify = data['TARGET'], test_size=0.3, random_state=12)"
   ]
  },
  {
   "cell_type": "code",
   "execution_count": 15,
   "metadata": {},
   "outputs": [
    {
     "data": {
      "text/plain": [
       "VarianceThreshold(threshold=0.0)"
      ]
     },
     "execution_count": 15,
     "metadata": {},
     "output_type": "execute_result"
    }
   ],
   "source": [
    "selector = VarianceThreshold()\n",
    "selector.fit(data[NUM_VAR].fillna(-1))"
   ]
  },
  {
   "cell_type": "code",
   "execution_count": null,
   "metadata": {},
   "outputs": [],
   "source": [
    "variance_sel = pd.DataFrame({'feature': data.drop(['target', 'experiancustomerid_orig'], axis=1).columns,\n",
    "                             'selected': selector.get_support()})\n",
    "cols = variance_sel[variance_sel['selected']]['feature'].tolist()\n",
    "len(cols)"
   ]
  },
  {
   "cell_type": "code",
   "execution_count": 16,
   "metadata": {},
   "outputs": [
    {
     "data": {
      "text/plain": [
       "array([False,  True,  True,  True,  True,  True,  True,  True,  True,\n",
       "        True,  True,  True,  True,  True,  True,  True,  True,  True,\n",
       "        True,  True,  True,  True,  True,  True,  True,  True,  True,\n",
       "        True,  True,  True,  True,  True,  True,  True,  True,  True,\n",
       "        True,  True,  True, False,  True, False,  True,  True,  True])"
      ]
     },
     "execution_count": 16,
     "metadata": {},
     "output_type": "execute_result"
    }
   ],
   "source": [
    "selector.get_support()"
   ]
  },
  {
   "cell_type": "code",
   "execution_count": 19,
   "metadata": {},
   "outputs": [
    {
     "data": {
      "text/plain": [
       "['MONTH',\n",
       " 'DAY',\n",
       " 'DAY_OF_WEEK',\n",
       " 'FLIGHT_NUMBER',\n",
       " 'SCHEDULED_DEPARTURE',\n",
       " 'DEPARTURE_TIME',\n",
       " 'DEPARTURE_DELAY',\n",
       " 'TAXI_OUT',\n",
       " 'WHEELS_OFF',\n",
       " 'SCHEDULED_TIME',\n",
       " 'ELAPSED_TIME',\n",
       " 'AIR_TIME',\n",
       " 'DISTANCE',\n",
       " 'WHEELS_ON',\n",
       " 'TAXI_IN',\n",
       " 'SCHEDULED_ARRIVAL',\n",
       " 'ARRIVAL_TIME',\n",
       " 'ARRIVAL_DELAY',\n",
       " 'DIVERTED',\n",
       " 'CANCELLED',\n",
       " 'AIR_SYSTEM_DELAY',\n",
       " 'SECURITY_DELAY',\n",
       " 'AIRLINE_DELAY',\n",
       " 'LATE_AIRCRAFT_DELAY',\n",
       " 'WEATHER_DELAY',\n",
       " 'LATITUDE_ORIGIN',\n",
       " 'LONGITUDE_ORIGIN',\n",
       " 'LATITUDE_DESTINATION',\n",
       " 'LONGITUDE_DESTINATION',\n",
       " 'TARGET',\n",
       " 'AIRLINE_CAT',\n",
       " 'ORIGIN_AIRPORT_CAT',\n",
       " 'DESTINATION_AIRPORT_CAT',\n",
       " 'HOLIDAY_FLAG',\n",
       " 'WEEKEND',\n",
       " 'DATE_TRAFFIC',\n",
       " 'MONTH_TRAFFIC',\n",
       " 'AIRLINE_TRAFFIC',\n",
       " 'ORIGIN_AIRPORT_TRAFFIC',\n",
       " 'DESTINATION_AIRPORT_TRAFFIC',\n",
       " 'LONGITUDE_DIF',\n",
       " 'LATITUDE_DIF']"
      ]
     },
     "execution_count": 19,
     "metadata": {},
     "output_type": "execute_result"
    }
   ],
   "source": [
    "NUM_VAR_SELECTED = [NUM_VAR[i] for i in range(len(NUM_VAR)) if selector.get_support()[i]]\n",
    "NUM_VAR_SELECTED"
   ]
  },
  {
   "cell_type": "code",
   "execution_count": 18,
   "metadata": {},
   "outputs": [
    {
     "data": {
      "text/plain": [
       "['YEAR',\n",
       " 'MONTH',\n",
       " 'DAY',\n",
       " 'DAY_OF_WEEK',\n",
       " 'FLIGHT_NUMBER',\n",
       " 'SCHEDULED_DEPARTURE',\n",
       " 'DEPARTURE_TIME',\n",
       " 'DEPARTURE_DELAY',\n",
       " 'TAXI_OUT',\n",
       " 'WHEELS_OFF',\n",
       " 'SCHEDULED_TIME',\n",
       " 'ELAPSED_TIME',\n",
       " 'AIR_TIME',\n",
       " 'DISTANCE',\n",
       " 'WHEELS_ON',\n",
       " 'TAXI_IN',\n",
       " 'SCHEDULED_ARRIVAL',\n",
       " 'ARRIVAL_TIME',\n",
       " 'ARRIVAL_DELAY',\n",
       " 'DIVERTED',\n",
       " 'CANCELLED',\n",
       " 'AIR_SYSTEM_DELAY',\n",
       " 'SECURITY_DELAY',\n",
       " 'AIRLINE_DELAY',\n",
       " 'LATE_AIRCRAFT_DELAY',\n",
       " 'WEATHER_DELAY',\n",
       " 'LATITUDE_ORIGIN',\n",
       " 'LONGITUDE_ORIGIN',\n",
       " 'LATITUDE_DESTINATION',\n",
       " 'LONGITUDE_DESTINATION',\n",
       " 'TARGET',\n",
       " 'AIRLINE_CAT',\n",
       " 'ORIGIN_AIRPORT_CAT',\n",
       " 'DESTINATION_AIRPORT_CAT',\n",
       " 'HOLIDAY_FLAG',\n",
       " 'WEEKEND',\n",
       " 'DATE_TRAFFIC',\n",
       " 'MONTH_TRAFFIC',\n",
       " 'AIRLINE_TRAFFIC',\n",
       " 'ORIGIN_AIRPORT_INTL',\n",
       " 'ORIGIN_AIRPORT_TRAFFIC',\n",
       " 'DESTINATION_AIRPORT_INTL',\n",
       " 'DESTINATION_AIRPORT_TRAFFIC',\n",
       " 'LONGITUDE_DIF',\n",
       " 'LATITUDE_DIF']"
      ]
     },
     "execution_count": 18,
     "metadata": {},
     "output_type": "execute_result"
    }
   ],
   "source": [
    "NUM_VAR"
   ]
  },
  {
   "cell_type": "code",
   "execution_count": null,
   "metadata": {},
   "outputs": [],
   "source": []
  }
 ],
 "metadata": {
  "kernelspec": {
   "display_name": "main_kernel",
   "language": "python",
   "name": "main_kernel"
  },
  "language_info": {
   "codemirror_mode": {
    "name": "ipython",
    "version": 3
   },
   "file_extension": ".py",
   "mimetype": "text/x-python",
   "name": "python",
   "nbconvert_exporter": "python",
   "pygments_lexer": "ipython3",
   "version": "3.7.3"
  }
 },
 "nbformat": 4,
 "nbformat_minor": 2
}
