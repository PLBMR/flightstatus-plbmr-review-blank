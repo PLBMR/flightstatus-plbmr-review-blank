{
 "cells": [
  {
   "cell_type": "code",
   "execution_count": 22,
   "metadata": {},
   "outputs": [],
   "source": [
    "import numpy as np\n",
    "import pandas as pd\n",
    "from sklearn.metrics import fbeta_score, precision_recall_curve, auc, classification_report\n",
    "from modeling_helper import create_xy"
   ]
  },
  {
   "cell_type": "code",
   "execution_count": 2,
   "metadata": {},
   "outputs": [],
   "source": [
    "flights = pd.read_csv('/Users/user/Documents/Github/flightstatus/data/dev/flights_processed.csv')"
   ]
  },
  {
   "cell_type": "code",
   "execution_count": 29,
   "metadata": {},
   "outputs": [
    {
     "data": {
      "text/html": [
       "<div>\n",
       "<style scoped>\n",
       "    .dataframe tbody tr th:only-of-type {\n",
       "        vertical-align: middle;\n",
       "    }\n",
       "\n",
       "    .dataframe tbody tr th {\n",
       "        vertical-align: top;\n",
       "    }\n",
       "\n",
       "    .dataframe thead th {\n",
       "        text-align: right;\n",
       "    }\n",
       "</style>\n",
       "<table border=\"1\" class=\"dataframe\">\n",
       "  <thead>\n",
       "    <tr style=\"text-align: right;\">\n",
       "      <th></th>\n",
       "      <th>MONTH</th>\n",
       "      <th>DAY</th>\n",
       "      <th>DAY_OF_WEEK</th>\n",
       "      <th>FLIGHT_NUMBER</th>\n",
       "      <th>SCHEDULED_DEPARTURE</th>\n",
       "      <th>SCHEDULED_TIME</th>\n",
       "      <th>DISTANCE</th>\n",
       "      <th>SCHEDULED_ARRIVAL</th>\n",
       "      <th>LATITUDE_ORIGIN</th>\n",
       "      <th>LONGITUDE_ORIGIN</th>\n",
       "      <th>...</th>\n",
       "      <th>LATITUDE_DIF</th>\n",
       "      <th>AIRLINE_CAT</th>\n",
       "      <th>TAIL_NUMBER_CAT</th>\n",
       "      <th>ORIGIN_AIRPORT_CAT</th>\n",
       "      <th>DESTINATION_AIRPORT_CAT</th>\n",
       "      <th>CITY_ORIGIN_CAT</th>\n",
       "      <th>STATE_ORIGIN_CAT</th>\n",
       "      <th>CITY_DESTINATION_CAT</th>\n",
       "      <th>STATE_DESTINATION_CAT</th>\n",
       "      <th>HOLIDAY_CAT</th>\n",
       "    </tr>\n",
       "  </thead>\n",
       "  <tbody>\n",
       "    <tr>\n",
       "      <th>0</th>\n",
       "      <td>1</td>\n",
       "      <td>1</td>\n",
       "      <td>4</td>\n",
       "      <td>98</td>\n",
       "      <td>5</td>\n",
       "      <td>205.0</td>\n",
       "      <td>1448</td>\n",
       "      <td>430</td>\n",
       "      <td>61.17432</td>\n",
       "      <td>-149.99619</td>\n",
       "      <td>...</td>\n",
       "      <td>13.72534</td>\n",
       "      <td>2</td>\n",
       "      <td>1623</td>\n",
       "      <td>18</td>\n",
       "      <td>278</td>\n",
       "      <td>13</td>\n",
       "      <td>1</td>\n",
       "      <td>267</td>\n",
       "      <td>51</td>\n",
       "      <td>8</td>\n",
       "    </tr>\n",
       "    <tr>\n",
       "      <th>1</th>\n",
       "      <td>1</td>\n",
       "      <td>1</td>\n",
       "      <td>4</td>\n",
       "      <td>2336</td>\n",
       "      <td>10</td>\n",
       "      <td>280.0</td>\n",
       "      <td>2330</td>\n",
       "      <td>750</td>\n",
       "      <td>33.94254</td>\n",
       "      <td>-118.40807</td>\n",
       "      <td>...</td>\n",
       "      <td>7.25938</td>\n",
       "      <td>1</td>\n",
       "      <td>1557</td>\n",
       "      <td>177</td>\n",
       "      <td>236</td>\n",
       "      <td>174</td>\n",
       "      <td>6</td>\n",
       "      <td>296</td>\n",
       "      <td>10</td>\n",
       "      <td>8</td>\n",
       "    </tr>\n",
       "    <tr>\n",
       "      <th>2</th>\n",
       "      <td>1</td>\n",
       "      <td>1</td>\n",
       "      <td>4</td>\n",
       "      <td>840</td>\n",
       "      <td>20</td>\n",
       "      <td>286.0</td>\n",
       "      <td>2296</td>\n",
       "      <td>806</td>\n",
       "      <td>37.61900</td>\n",
       "      <td>-122.37484</td>\n",
       "      <td>...</td>\n",
       "      <td>2.40499</td>\n",
       "      <td>12</td>\n",
       "      <td>422</td>\n",
       "      <td>279</td>\n",
       "      <td>67</td>\n",
       "      <td>256</td>\n",
       "      <td>6</td>\n",
       "      <td>54</td>\n",
       "      <td>29</td>\n",
       "      <td>8</td>\n",
       "    </tr>\n",
       "    <tr>\n",
       "      <th>3</th>\n",
       "      <td>1</td>\n",
       "      <td>1</td>\n",
       "      <td>4</td>\n",
       "      <td>258</td>\n",
       "      <td>20</td>\n",
       "      <td>285.0</td>\n",
       "      <td>2342</td>\n",
       "      <td>805</td>\n",
       "      <td>33.94254</td>\n",
       "      <td>-118.40807</td>\n",
       "      <td>...</td>\n",
       "      <td>8.14929</td>\n",
       "      <td>1</td>\n",
       "      <td>1517</td>\n",
       "      <td>177</td>\n",
       "      <td>204</td>\n",
       "      <td>174</td>\n",
       "      <td>6</td>\n",
       "      <td>188</td>\n",
       "      <td>10</td>\n",
       "      <td>8</td>\n",
       "    </tr>\n",
       "    <tr>\n",
       "      <th>4</th>\n",
       "      <td>1</td>\n",
       "      <td>1</td>\n",
       "      <td>4</td>\n",
       "      <td>135</td>\n",
       "      <td>25</td>\n",
       "      <td>235.0</td>\n",
       "      <td>1448</td>\n",
       "      <td>320</td>\n",
       "      <td>47.44898</td>\n",
       "      <td>-122.30931</td>\n",
       "      <td>...</td>\n",
       "      <td>-13.72534</td>\n",
       "      <td>2</td>\n",
       "      <td>2132</td>\n",
       "      <td>278</td>\n",
       "      <td>18</td>\n",
       "      <td>267</td>\n",
       "      <td>51</td>\n",
       "      <td>13</td>\n",
       "      <td>1</td>\n",
       "      <td>8</td>\n",
       "    </tr>\n",
       "  </tbody>\n",
       "</table>\n",
       "<p>5 rows × 33 columns</p>\n",
       "</div>"
      ],
      "text/plain": [
       "   MONTH  DAY  DAY_OF_WEEK  FLIGHT_NUMBER  SCHEDULED_DEPARTURE  \\\n",
       "0      1    1            4             98                    5   \n",
       "1      1    1            4           2336                   10   \n",
       "2      1    1            4            840                   20   \n",
       "3      1    1            4            258                   20   \n",
       "4      1    1            4            135                   25   \n",
       "\n",
       "   SCHEDULED_TIME  DISTANCE  SCHEDULED_ARRIVAL  LATITUDE_ORIGIN  \\\n",
       "0           205.0      1448                430         61.17432   \n",
       "1           280.0      2330                750         33.94254   \n",
       "2           286.0      2296                806         37.61900   \n",
       "3           285.0      2342                805         33.94254   \n",
       "4           235.0      1448                320         47.44898   \n",
       "\n",
       "   LONGITUDE_ORIGIN  ...  LATITUDE_DIF  AIRLINE_CAT  TAIL_NUMBER_CAT  \\\n",
       "0        -149.99619  ...      13.72534            2             1623   \n",
       "1        -118.40807  ...       7.25938            1             1557   \n",
       "2        -122.37484  ...       2.40499           12              422   \n",
       "3        -118.40807  ...       8.14929            1             1517   \n",
       "4        -122.30931  ...     -13.72534            2             2132   \n",
       "\n",
       "   ORIGIN_AIRPORT_CAT  DESTINATION_AIRPORT_CAT  CITY_ORIGIN_CAT  \\\n",
       "0                  18                      278               13   \n",
       "1                 177                      236              174   \n",
       "2                 279                       67              256   \n",
       "3                 177                      204              174   \n",
       "4                 278                       18              267   \n",
       "\n",
       "   STATE_ORIGIN_CAT  CITY_DESTINATION_CAT  STATE_DESTINATION_CAT  HOLIDAY_CAT  \n",
       "0                 1                   267                     51            8  \n",
       "1                 6                   296                     10            8  \n",
       "2                 6                    54                     29            8  \n",
       "3                 6                   188                     10            8  \n",
       "4                51                    13                      1            8  \n",
       "\n",
       "[5 rows x 33 columns]"
      ]
     },
     "execution_count": 29,
     "metadata": {},
     "output_type": "execute_result"
    }
   ],
   "source": [
    "flights.head()"
   ]
  },
  {
   "cell_type": "code",
   "execution_count": 3,
   "metadata": {},
   "outputs": [],
   "source": [
    "datatrain = flights[flights.MONTH<=6]\n",
    "dataval = flights[(flights.MONTH>=7)&(flights.MONTH<=9)]\n",
    "datatest = flights[flights.MONTH<=10]"
   ]
  },
  {
   "cell_type": "code",
   "execution_count": 6,
   "metadata": {},
   "outputs": [],
   "source": [
    "X_train, y_train = create_xy(datatrain)\n",
    "X_val, y_val = create_xy(dataval)\n",
    "X_test, y_test = create_xy(datatest)"
   ]
  },
  {
   "cell_type": "code",
   "execution_count": 8,
   "metadata": {},
   "outputs": [
    {
     "data": {
      "text/plain": [
       "0    1862556\n",
       "1    1026950\n",
       "Name: TARGET, dtype: int64"
      ]
     },
     "execution_count": 8,
     "metadata": {},
     "output_type": "execute_result"
    }
   ],
   "source": [
    "y_train.value_counts()"
   ]
  },
  {
   "cell_type": "markdown",
   "metadata": {},
   "source": [
    "As the false negatives are more costly, our baseline model will predict that all flights are delayed or cancelled."
   ]
  },
  {
   "cell_type": "markdown",
   "metadata": {},
   "source": [
    "### Get Precision-Recall AUC"
   ]
  },
  {
   "cell_type": "code",
   "execution_count": 15,
   "metadata": {},
   "outputs": [
    {
     "data": {
      "text/plain": [
       "0.6777033859767033"
      ]
     },
     "execution_count": 15,
     "metadata": {},
     "output_type": "execute_result"
    }
   ],
   "source": [
    "precision, recall, thresholds = precision_recall_curve(y_train, np.ones(y_train.shape[0]))\n",
    "auc(recall, precision)"
   ]
  },
  {
   "cell_type": "code",
   "execution_count": 26,
   "metadata": {},
   "outputs": [
    {
     "data": {
      "text/plain": [
       "0.6643343135944393"
      ]
     },
     "execution_count": 26,
     "metadata": {},
     "output_type": "execute_result"
    }
   ],
   "source": [
    "precision, recall, thresholds = precision_recall_curve(y_val, np.ones(y_val.shape[0]))\n",
    "auc(recall, precision)"
   ]
  },
  {
   "cell_type": "code",
   "execution_count": 17,
   "metadata": {},
   "outputs": [
    {
     "data": {
      "text/plain": [
       "0.6731424769466992"
      ]
     },
     "execution_count": 17,
     "metadata": {},
     "output_type": "execute_result"
    }
   ],
   "source": [
    "precision, recall, thresholds = precision_recall_curve(y_test, np.ones(y_test.shape[0]))\n",
    "auc(recall, precision)"
   ]
  },
  {
   "cell_type": "markdown",
   "metadata": {},
   "source": [
    "### Get F2-measure"
   ]
  },
  {
   "cell_type": "code",
   "execution_count": 12,
   "metadata": {},
   "outputs": [
    {
     "data": {
      "text/plain": [
       "0.7338181294343852"
      ]
     },
     "execution_count": 12,
     "metadata": {},
     "output_type": "execute_result"
    }
   ],
   "source": [
    "fbeta_score(y_train, np.ones(y_train.shape[0]), beta=2)"
   ]
  },
  {
   "cell_type": "code",
   "execution_count": 13,
   "metadata": {},
   "outputs": [
    {
     "data": {
      "text/plain": [
       "0.7099672674184919"
      ]
     },
     "execution_count": 13,
     "metadata": {},
     "output_type": "execute_result"
    }
   ],
   "source": [
    "fbeta_score(y_val, np.ones(y_val.shape[0]), beta=2)"
   ]
  },
  {
   "cell_type": "code",
   "execution_count": 14,
   "metadata": {},
   "outputs": [
    {
     "data": {
      "text/plain": [
       "0.7259217083048054"
      ]
     },
     "execution_count": 14,
     "metadata": {},
     "output_type": "execute_result"
    }
   ],
   "source": [
    "fbeta_score(y_test, np.ones(y_test.shape[0]), beta=2)"
   ]
  }
 ],
 "metadata": {
  "kernelspec": {
   "display_name": "flightstatus",
   "language": "python",
   "name": "flightstatus"
  },
  "language_info": {
   "codemirror_mode": {
    "name": "ipython",
    "version": 3
   },
   "file_extension": ".py",
   "mimetype": "text/x-python",
   "name": "python",
   "nbconvert_exporter": "python",
   "pygments_lexer": "ipython3",
   "version": "3.8.3"
  }
 },
 "nbformat": 4,
 "nbformat_minor": 2
}
