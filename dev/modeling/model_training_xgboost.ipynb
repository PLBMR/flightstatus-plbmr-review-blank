{
 "cells": [
  {
   "cell_type": "code",
   "execution_count": 17,
   "metadata": {},
   "outputs": [],
   "source": [
    "import numpy as np\n",
    "import pandas as pd\n",
    "import warnings\n",
    "warnings.filterwarnings('ignore')\n",
    "from sklearn.linear_model import LinearRegression\n",
    "from sklearn.model_selection import GridSearchCV, RandomizedSearchCV\n",
    "from sklearn.metrics import fbeta_score, make_scorer, precision_recall_curve, auc\n",
    "from xgboost.sklearn import XGBClassifier\n",
    "import joblib\n",
    "from modeling_helper import create_xy, search_result, get_important_feature\n",
    "import matplotlib.pyplot as plt"
   ]
  },
  {
   "cell_type": "code",
   "execution_count": 2,
   "metadata": {},
   "outputs": [],
   "source": [
    "flights = pd.read_csv('/Users/user/Documents/Github/flightstatus/data/dev/flights_processed.csv')"
   ]
  },
  {
   "cell_type": "markdown",
   "metadata": {},
   "source": [
    "The dataset includes US flights in 2015. We will use flights \n",
    "- from January to June for training\n",
    "- from July to September for validation\n",
    "- October to December for test."
   ]
  },
  {
   "cell_type": "code",
   "execution_count": 3,
   "metadata": {},
   "outputs": [],
   "source": [
    "datatrain = flights[flights.MONTH<=6]\n",
    "dataval = flights[(flights.MONTH>=7)&(flights.MONTH<=9)]\n",
    "datatest = flights[flights.MONTH<=10]"
   ]
  },
  {
   "cell_type": "code",
   "execution_count": 4,
   "metadata": {},
   "outputs": [],
   "source": [
    "X_train, y_train = create_xy(datatrain)\n",
    "X_val, y_val = create_xy(dataval)\n",
    "X_test, y_test = create_xy(datatest)"
   ]
  },
  {
   "cell_type": "code",
   "execution_count": 5,
   "metadata": {},
   "outputs": [],
   "source": [
    "ftwo_scorer = make_scorer(fbeta_score, beta=2)"
   ]
  },
  {
   "cell_type": "markdown",
   "metadata": {},
   "source": [
    "## Starting model\n",
    "\n",
    "`scale_pos_weight` is the ratio of number of negative class to the positive class. "
   ]
  },
  {
   "cell_type": "code",
   "execution_count": 12,
   "metadata": {},
   "outputs": [],
   "source": [
    "spw = (sum(y_train==0) + sum(y_val==0))/(sum(y_train==1)+sum(y_val==1)) # 1.9\n",
    "metric='aucpr'"
   ]
  },
  {
   "cell_type": "code",
   "execution_count": 13,
   "metadata": {},
   "outputs": [
    {
     "name": "stdout",
     "output_type": "stream",
     "text": [
      "[0]\tvalidation_0-aucpr:0.499499\tvalidation_1-aucpr:0.46866\n",
      "Multiple eval metrics have been passed: 'validation_1-aucpr' will be used for early stopping.\n",
      "\n",
      "Will train until validation_1-aucpr hasn't improved in 5 rounds.\n",
      "[1]\tvalidation_0-aucpr:0.516719\tvalidation_1-aucpr:0.483693\n",
      "[2]\tvalidation_0-aucpr:0.524325\tvalidation_1-aucpr:0.483053\n",
      "[3]\tvalidation_0-aucpr:0.536689\tvalidation_1-aucpr:0.486077\n",
      "[4]\tvalidation_0-aucpr:0.539496\tvalidation_1-aucpr:0.486111\n",
      "[5]\tvalidation_0-aucpr:0.547487\tvalidation_1-aucpr:0.482417\n",
      "[6]\tvalidation_0-aucpr:0.551756\tvalidation_1-aucpr:0.486662\n",
      "[7]\tvalidation_0-aucpr:0.554639\tvalidation_1-aucpr:0.489461\n",
      "[8]\tvalidation_0-aucpr:0.555768\tvalidation_1-aucpr:0.490691\n",
      "[9]\tvalidation_0-aucpr:0.558394\tvalidation_1-aucpr:0.491071\n",
      "[10]\tvalidation_0-aucpr:0.559318\tvalidation_1-aucpr:0.490686\n",
      "[11]\tvalidation_0-aucpr:0.563541\tvalidation_1-aucpr:0.485125\n",
      "[12]\tvalidation_0-aucpr:0.566115\tvalidation_1-aucpr:0.487531\n",
      "[13]\tvalidation_0-aucpr:0.568793\tvalidation_1-aucpr:0.490083\n",
      "[14]\tvalidation_0-aucpr:0.570342\tvalidation_1-aucpr:0.489441\n",
      "Stopping. Best iteration:\n",
      "[9]\tvalidation_0-aucpr:0.558394\tvalidation_1-aucpr:0.491071\n",
      "\n"
     ]
    },
    {
     "data": {
      "text/plain": [
       "XGBClassifier(base_score=0.5, booster='gbtree', colsample_bylevel=1,\n",
       "              colsample_bynode=1, colsample_bytree=0.8, gamma=0,\n",
       "              learning_rate=1, max_delta_step=0, max_depth=5,\n",
       "              min_child_weight=5, missing=None, n_estimators=999, n_jobs=-1,\n",
       "              nthread=None, objective='binary:logistic', random_state=123,\n",
       "              reg_alpha=0, reg_lambda=0, scale_pos_weight=1.8877951200497267,\n",
       "              seed=None, silent=None, subsample=0.8, verbosity=1)"
      ]
     },
     "execution_count": 13,
     "metadata": {},
     "output_type": "execute_result"
    }
   ],
   "source": [
    "m_xgb = XGBClassifier(max_depth=5,\n",
    "                      min_child_weight=5,\n",
    "                      subsample=0.8,\n",
    "                      colsample_bytree=0.8,\n",
    "                      learning_rate = 1,\n",
    "                      reg_alpha = 0, reg_lambda = 0, gamma=0,\n",
    "                      scale_pos_weight=spw,\n",
    "                      objective= 'binary:logistic',\n",
    "                      random_state=123,\n",
    "                      n_jobs=-1, n_estimators = 999)\n",
    "\n",
    "m_xgb.fit(X_train, y_train, eval_set=[(X_train, y_train), (X_val, y_val)], \n",
    "          eval_metric=[metric], early_stopping_rounds=5, verbose=True)"
   ]
  },
  {
   "cell_type": "code",
   "execution_count": 19,
   "metadata": {},
   "outputs": [
    {
     "data": {
      "image/png": "[encoded data removed]",
      "text/plain": [
       "<Figure size 432x288 with 1 Axes>"
      ]
     },
     "metadata": {
      "needs_background": "light"
     },
     "output_type": "display_data"
    }
   ],
   "source": [
    "# retrieve performance metrics\n",
    "results = m_xgb.evals_result()\n",
    "epochs = len(results['validation_0'][metric])\n",
    "x_axis = range(0, epochs)\n",
    "fig, ax = plt.subplots()\n",
    "ax.plot(x_axis, results['validation_0'][metric], label='Train')\n",
    "ax.plot(x_axis, results['validation_1'][metric], label='Validation')\n",
    "ax.legend()\n",
    "plt.ylabel(metric)\n",
    "plt.title('XGBoost '+metric)\n",
    "plt.show()"
   ]
  },
  {
   "cell_type": "markdown",
   "metadata": {},
   "source": [
    "## Hyperparameter Tuning: Random Search"
   ]
  },
  {
   "cell_type": "code",
   "execution_count": 22,
   "metadata": {},
   "outputs": [
    {
     "name": "stdout",
     "output_type": "stream",
     "text": [
      "[0]\tvalidation_0-aucpr:0.449992\n",
      "Will train until validation_0-aucpr hasn't improved in 5 rounds.\n",
      "[1]\tvalidation_0-aucpr:0.43587\n",
      "[2]\tvalidation_0-aucpr:0.451038\n",
      "[3]\tvalidation_0-aucpr:0.463404\n",
      "[4]\tvalidation_0-aucpr:0.458177\n",
      "[5]\tvalidation_0-aucpr:0.462092\n",
      "[6]\tvalidation_0-aucpr:0.471135\n",
      "[7]\tvalidation_0-aucpr:0.455461\n",
      "[8]\tvalidation_0-aucpr:0.457856\n",
      "[9]\tvalidation_0-aucpr:0.459778\n",
      "[10]\tvalidation_0-aucpr:0.459502\n",
      "[11]\tvalidation_0-aucpr:0.457401\n",
      "Stopping. Best iteration:\n",
      "[6]\tvalidation_0-aucpr:0.471135\n",
      "\n"
     ]
    },
    {
     "data": {
      "text/plain": [
       "RandomizedSearchCV(cv=10, error_score=nan,\n",
       "                   estimator=XGBClassifier(base_score=0.5, booster='gbtree',\n",
       "                                           colsample_bylevel=1,\n",
       "                                           colsample_bynode=1,\n",
       "                                           colsample_bytree=0.8, gamma=0,\n",
       "                                           learning_rate=1, max_delta_step=0,\n",
       "                                           max_depth=5, min_child_weight=5,\n",
       "                                           missing=None, n_estimators=999,\n",
       "                                           n_jobs=-1, nthread=None,\n",
       "                                           objective='binary:logistic',\n",
       "                                           random_state=123, reg_alpha=0,\n",
       "                                           reg_lambda=...\n",
       "                                           subsample=0.8, verbosity=1),\n",
       "                   iid='deprecated', n_iter=5, n_jobs=-1,\n",
       "                   param_distributions={'colsample_bytree': [0.8, 0.9],\n",
       "                                        'learning_rate': array([0.5  , 0.875, 1.25 , 1.625, 2.   ]),\n",
       "                                        'max_depth': [3, 4, 5],\n",
       "                                        'min_child_weight': [2, 3, 4, 5, 6],\n",
       "                                        'subsample': [0.8, 0.9]},\n",
       "                   pre_dispatch='2*n_jobs', random_state=None, refit=True,\n",
       "                   return_train_score=True, scoring='average_precision',\n",
       "                   verbose=0)"
      ]
     },
     "execution_count": 22,
     "metadata": {},
     "output_type": "execute_result"
    }
   ],
   "source": [
    "parameter_grid = {\n",
    "    'max_depth' : list(range(3,6)), \n",
    "    'min_child_weight': list(range(2,7)),\n",
    "    'subsample' : [i/10.0 for i in range(8, 10)], \n",
    "    'colsample_bytree' : [i/10.0 for i in range(8, 10)],\n",
    "    'learning_rate' : np.linspace(0.5,2,5)\n",
    "}\n",
    "\n",
    "number_models = 5\n",
    "random_XGB_class = RandomizedSearchCV(estimator = XGBClassifier(max_depth=5,\n",
    "                                      min_child_weight=5,\n",
    "                                      subsample=0.8,\n",
    "                                      colsample_bytree=0.8,\n",
    "                                      learning_rate = 1,\n",
    "                                      reg_alpha = 0, reg_lambda = 0, gamma=0,\n",
    "                                      scale_pos_weight=spw,\n",
    "                                      objective= 'binary:logistic',\n",
    "                                      random_state=123,\n",
    "                                      n_jobs=-1, n_estimators = 999), \n",
    "                                      \n",
    "                                      param_distributions = parameter_grid, n_iter = number_models, \n",
    "                                      scoring='average_precision', cv = 10, return_train_score = False,\n",
    "                                      n_jobs=-1)\n",
    "random_XGB_class.fit(X_train, y_train, eval_set= [(X_val, y_val)], eval_metric=metric, early_stopping_rounds=5)"
   ]
  },
  {
   "cell_type": "code",
   "execution_count": 23,
   "metadata": {},
   "outputs": [
    {
     "data": {
      "text/html": [
       "<div>\n",
       "<style scoped>\n",
       "    .dataframe tbody tr th:only-of-type {\n",
       "        vertical-align: middle;\n",
       "    }\n",
       "\n",
       "    .dataframe tbody tr th {\n",
       "        vertical-align: top;\n",
       "    }\n",
       "\n",
       "    .dataframe thead th {\n",
       "        text-align: right;\n",
       "    }\n",
       "</style>\n",
       "<table border=\"1\" class=\"dataframe\">\n",
       "  <thead>\n",
       "    <tr style=\"text-align: right;\">\n",
       "      <th></th>\n",
       "      <th>subsample</th>\n",
       "      <th>min_child_weight</th>\n",
       "      <th>max_depth</th>\n",
       "      <th>learning_rate</th>\n",
       "      <th>colsample_bytree</th>\n",
       "      <th>mean_score</th>\n",
       "      <th>std_score</th>\n",
       "    </tr>\n",
       "  </thead>\n",
       "  <tbody>\n",
       "    <tr>\n",
       "      <th>2</th>\n",
       "      <td>0.8</td>\n",
       "      <td>6</td>\n",
       "      <td>3</td>\n",
       "      <td>1.625</td>\n",
       "      <td>0.9</td>\n",
       "      <td>0.452064</td>\n",
       "      <td>0.035071</td>\n",
       "    </tr>\n",
       "    <tr>\n",
       "      <th>4</th>\n",
       "      <td>0.9</td>\n",
       "      <td>6</td>\n",
       "      <td>4</td>\n",
       "      <td>0.875</td>\n",
       "      <td>0.9</td>\n",
       "      <td>0.428589</td>\n",
       "      <td>0.067398</td>\n",
       "    </tr>\n",
       "    <tr>\n",
       "      <th>3</th>\n",
       "      <td>0.8</td>\n",
       "      <td>3</td>\n",
       "      <td>4</td>\n",
       "      <td>0.875</td>\n",
       "      <td>0.9</td>\n",
       "      <td>0.426026</td>\n",
       "      <td>0.061418</td>\n",
       "    </tr>\n",
       "    <tr>\n",
       "      <th>0</th>\n",
       "      <td>0.9</td>\n",
       "      <td>4</td>\n",
       "      <td>3</td>\n",
       "      <td>0.875</td>\n",
       "      <td>0.8</td>\n",
       "      <td>0.421398</td>\n",
       "      <td>0.052723</td>\n",
       "    </tr>\n",
       "    <tr>\n",
       "      <th>1</th>\n",
       "      <td>0.9</td>\n",
       "      <td>3</td>\n",
       "      <td>5</td>\n",
       "      <td>1.250</td>\n",
       "      <td>0.9</td>\n",
       "      <td>0.405512</td>\n",
       "      <td>0.060550</td>\n",
       "    </tr>\n",
       "  </tbody>\n",
       "</table>\n",
       "</div>"
      ],
      "text/plain": [
       "   subsample  min_child_weight  max_depth  learning_rate  colsample_bytree  \\\n",
       "2        0.8                 6          3          1.625               0.9   \n",
       "4        0.9                 6          4          0.875               0.9   \n",
       "3        0.8                 3          4          0.875               0.9   \n",
       "0        0.9                 4          3          0.875               0.8   \n",
       "1        0.9                 3          5          1.250               0.9   \n",
       "\n",
       "   mean_score  std_score  \n",
       "2    0.452064   0.035071  \n",
       "4    0.428589   0.067398  \n",
       "3    0.426026   0.061418  \n",
       "0    0.421398   0.052723  \n",
       "1    0.405512   0.060550  "
      ]
     },
     "execution_count": 23,
     "metadata": {},
     "output_type": "execute_result"
    }
   ],
   "source": [
    "rs_result = search_result(random_XGB_class)\n",
    "rs_result"
   ]
  },
  {
   "cell_type": "markdown",
   "metadata": {},
   "source": [
    "## Hyperparameter Tuning: Grid Search"
   ]
  },
  {
   "cell_type": "code",
   "execution_count": 25,
   "metadata": {},
   "outputs": [
    {
     "name": "stdout",
     "output_type": "stream",
     "text": [
      "[0]\tvalidation_0-aucpr:0.449992\n",
      "Will train until validation_0-aucpr hasn't improved in 5 rounds.\n",
      "[1]\tvalidation_0-aucpr:0.442973\n",
      "[2]\tvalidation_0-aucpr:0.450722\n",
      "[3]\tvalidation_0-aucpr:0.447204\n",
      "[4]\tvalidation_0-aucpr:0.462898\n",
      "[5]\tvalidation_0-aucpr:0.461719\n",
      "[6]\tvalidation_0-aucpr:0.465116\n",
      "[7]\tvalidation_0-aucpr:0.462842\n",
      "[8]\tvalidation_0-aucpr:0.465202\n",
      "[9]\tvalidation_0-aucpr:0.463726\n",
      "[10]\tvalidation_0-aucpr:0.464053\n",
      "[11]\tvalidation_0-aucpr:0.46357\n",
      "[12]\tvalidation_0-aucpr:0.464984\n",
      "[13]\tvalidation_0-aucpr:0.469835\n",
      "[14]\tvalidation_0-aucpr:0.467747\n",
      "[15]\tvalidation_0-aucpr:0.46347\n",
      "[16]\tvalidation_0-aucpr:0.465378\n",
      "[17]\tvalidation_0-aucpr:0.471766\n",
      "[18]\tvalidation_0-aucpr:0.473913\n",
      "[19]\tvalidation_0-aucpr:0.468671\n",
      "[20]\tvalidation_0-aucpr:0.471647\n",
      "[21]\tvalidation_0-aucpr:0.472408\n",
      "[22]\tvalidation_0-aucpr:0.472931\n",
      "[23]\tvalidation_0-aucpr:0.474577\n",
      "[24]\tvalidation_0-aucpr:0.478664\n",
      "[25]\tvalidation_0-aucpr:0.479537\n",
      "[26]\tvalidation_0-aucpr:0.475672\n",
      "[27]\tvalidation_0-aucpr:0.477369\n",
      "[28]\tvalidation_0-aucpr:0.47774\n",
      "[29]\tvalidation_0-aucpr:0.476758\n",
      "[30]\tvalidation_0-aucpr:0.481604\n",
      "[31]\tvalidation_0-aucpr:0.475852\n",
      "[32]\tvalidation_0-aucpr:0.475961\n",
      "[33]\tvalidation_0-aucpr:0.476609\n",
      "[34]\tvalidation_0-aucpr:0.475973\n",
      "[35]\tvalidation_0-aucpr:0.47639\n",
      "Stopping. Best iteration:\n",
      "[30]\tvalidation_0-aucpr:0.481604\n",
      "\n"
     ]
    },
    {
     "data": {
      "text/plain": [
       "GridSearchCV(cv=10, error_score=nan,\n",
       "             estimator=XGBClassifier(base_score=0.5, booster='gbtree',\n",
       "                                     colsample_bylevel=1, colsample_bynode=1,\n",
       "                                     colsample_bytree=0.8, gamma=0,\n",
       "                                     learning_rate=1, max_delta_step=0,\n",
       "                                     max_depth=5, min_child_weight=5,\n",
       "                                     missing=None, n_estimators=999, n_jobs=-1,\n",
       "                                     nthread=None, objective='binary:logistic',\n",
       "                                     random_state=123, reg_alpha=0,\n",
       "                                     reg_lambda=0,\n",
       "                                     scale_pos_weight=1.8877951200497267,\n",
       "                                     seed=None, silent=None, subsample=0.8,\n",
       "                                     verbosity=1),\n",
       "             iid='deprecated', n_jobs=-1,\n",
       "             param_grid={'learning_rate': [1.0, 1.5], 'max_depth': [3, 4, 5]},\n",
       "             pre_dispatch='2*n_jobs', refit=True, return_train_score=False,\n",
       "             scoring='average_precision', verbose=0)"
      ]
     },
     "execution_count": 25,
     "metadata": {},
     "output_type": "execute_result"
    }
   ],
   "source": [
    "parameter_grid = {\n",
    "    'max_depth' : [3, 4, 5], \n",
    "    'learning_rate' : [1.0, 1.5]\n",
    "}\n",
    "\n",
    "grid_XGB_class = GridSearchCV(estimator = XGBClassifier(max_depth=5,\n",
    "                                      min_child_weight=5,\n",
    "                                      subsample=0.8,\n",
    "                                      colsample_bytree=0.8,\n",
    "                                      learning_rate = 1,\n",
    "                                      reg_alpha = 0, reg_lambda = 0, gamma=0,\n",
    "                                      scale_pos_weight=spw,\n",
    "                                      objective= 'binary:logistic',\n",
    "                                      random_state=123,\n",
    "                                      n_jobs=-1, n_estimators = 999),\n",
    "                                                        \n",
    "                                      param_grid = parameter_grid, \n",
    "                                      scoring='average_precision', cv = 10, return_train_score = False,\n",
    "                                      n_jobs=-1)\n",
    "grid_XGB_class.fit(X_train, y_train, eval_set= [(X_val, y_val)], eval_metric=metric, early_stopping_rounds=5)"
   ]
  },
  {
   "cell_type": "code",
   "execution_count": 26,
   "metadata": {},
   "outputs": [
    {
     "data": {
      "text/plain": [
       "<bound method XGBModel.get_params of XGBClassifier(base_score=0.5, booster='gbtree', colsample_bylevel=1,\n",
       "              colsample_bynode=1, colsample_bytree=0.8, gamma=0,\n",
       "              learning_rate=1.5, max_delta_step=0, max_depth=3,\n",
       "              min_child_weight=5, missing=None, n_estimators=999, n_jobs=-1,\n",
       "              nthread=None, objective='binary:logistic', random_state=123,\n",
       "              reg_alpha=0, reg_lambda=0, scale_pos_weight=1.8877951200497267,\n",
       "              seed=None, silent=None, subsample=0.8, verbosity=1)>"
      ]
     },
     "execution_count": 26,
     "metadata": {},
     "output_type": "execute_result"
    }
   ],
   "source": [
    "grid_XGB_class.best_estimator_.get_params"
   ]
  },
  {
   "cell_type": "code",
   "execution_count": 27,
   "metadata": {},
   "outputs": [
    {
     "data": {
      "text/plain": [
       "['grid_XGB_class']"
      ]
     },
     "execution_count": 27,
     "metadata": {},
     "output_type": "execute_result"
    }
   ],
   "source": [
    "joblib.dump(grid_XGB_class, 'grid_XGB_class')\n",
    "# grid_XGB_class = joblib.load('grid_XGB_class')"
   ]
  },
  {
   "cell_type": "code",
   "execution_count": 28,
   "metadata": {},
   "outputs": [
    {
     "data": {
      "text/html": [
       "<div>\n",
       "<style scoped>\n",
       "    .dataframe tbody tr th:only-of-type {\n",
       "        vertical-align: middle;\n",
       "    }\n",
       "\n",
       "    .dataframe tbody tr th {\n",
       "        vertical-align: top;\n",
       "    }\n",
       "\n",
       "    .dataframe thead th {\n",
       "        text-align: right;\n",
       "    }\n",
       "</style>\n",
       "<table border=\"1\" class=\"dataframe\">\n",
       "  <thead>\n",
       "    <tr style=\"text-align: right;\">\n",
       "      <th></th>\n",
       "      <th>learning_rate</th>\n",
       "      <th>max_depth</th>\n",
       "      <th>mean_score</th>\n",
       "      <th>std_score</th>\n",
       "    </tr>\n",
       "  </thead>\n",
       "  <tbody>\n",
       "    <tr>\n",
       "      <th>3</th>\n",
       "      <td>1.5</td>\n",
       "      <td>3</td>\n",
       "      <td>0.453492</td>\n",
       "      <td>0.037809</td>\n",
       "    </tr>\n",
       "    <tr>\n",
       "      <th>5</th>\n",
       "      <td>1.5</td>\n",
       "      <td>5</td>\n",
       "      <td>0.448990</td>\n",
       "      <td>0.032411</td>\n",
       "    </tr>\n",
       "    <tr>\n",
       "      <th>1</th>\n",
       "      <td>1.0</td>\n",
       "      <td>4</td>\n",
       "      <td>0.446787</td>\n",
       "      <td>0.056759</td>\n",
       "    </tr>\n",
       "    <tr>\n",
       "      <th>0</th>\n",
       "      <td>1.0</td>\n",
       "      <td>3</td>\n",
       "      <td>0.443686</td>\n",
       "      <td>0.036347</td>\n",
       "    </tr>\n",
       "    <tr>\n",
       "      <th>4</th>\n",
       "      <td>1.5</td>\n",
       "      <td>4</td>\n",
       "      <td>0.435008</td>\n",
       "      <td>0.061617</td>\n",
       "    </tr>\n",
       "    <tr>\n",
       "      <th>2</th>\n",
       "      <td>1.0</td>\n",
       "      <td>5</td>\n",
       "      <td>0.432688</td>\n",
       "      <td>0.054995</td>\n",
       "    </tr>\n",
       "  </tbody>\n",
       "</table>\n",
       "</div>"
      ],
      "text/plain": [
       "   learning_rate  max_depth  mean_score  std_score\n",
       "3            1.5          3    0.453492   0.037809\n",
       "5            1.5          5    0.448990   0.032411\n",
       "1            1.0          4    0.446787   0.056759\n",
       "0            1.0          3    0.443686   0.036347\n",
       "4            1.5          4    0.435008   0.061617\n",
       "2            1.0          5    0.432688   0.054995"
      ]
     },
     "execution_count": 28,
     "metadata": {},
     "output_type": "execute_result"
    }
   ],
   "source": [
    "gs = search_result(grid_XGB_class)\n",
    "gs"
   ]
  },
  {
   "cell_type": "markdown",
   "metadata": {},
   "source": [
    "### Get feature importance"
   ]
  },
  {
   "cell_type": "code",
   "execution_count": 30,
   "metadata": {},
   "outputs": [
    {
     "data": {
      "text/html": [
       "<div>\n",
       "<style scoped>\n",
       "    .dataframe tbody tr th:only-of-type {\n",
       "        vertical-align: middle;\n",
       "    }\n",
       "\n",
       "    .dataframe tbody tr th {\n",
       "        vertical-align: top;\n",
       "    }\n",
       "\n",
       "    .dataframe thead th {\n",
       "        text-align: right;\n",
       "    }\n",
       "</style>\n",
       "<table border=\"1\" class=\"dataframe\">\n",
       "  <thead>\n",
       "    <tr style=\"text-align: right;\">\n",
       "      <th></th>\n",
       "      <th>feature</th>\n",
       "      <th>importance_score</th>\n",
       "    </tr>\n",
       "  </thead>\n",
       "  <tbody>\n",
       "    <tr>\n",
       "      <th>7</th>\n",
       "      <td>SCHEDULED_ARRIVAL</td>\n",
       "      <td>0.191419</td>\n",
       "    </tr>\n",
       "    <tr>\n",
       "      <th>23</th>\n",
       "      <td>AIRLINE_CAT</td>\n",
       "      <td>0.074473</td>\n",
       "    </tr>\n",
       "    <tr>\n",
       "      <th>15</th>\n",
       "      <td>MONTH_TRAFFIC</td>\n",
       "      <td>0.069163</td>\n",
       "    </tr>\n",
       "    <tr>\n",
       "      <th>24</th>\n",
       "      <td>TAIL_NUMBER_CAT</td>\n",
       "      <td>0.054796</td>\n",
       "    </tr>\n",
       "    <tr>\n",
       "      <th>1</th>\n",
       "      <td>DAY</td>\n",
       "      <td>0.052258</td>\n",
       "    </tr>\n",
       "    <tr>\n",
       "      <th>17</th>\n",
       "      <td>ORIGIN_AIRPORT_TRAFFIC</td>\n",
       "      <td>0.048312</td>\n",
       "    </tr>\n",
       "    <tr>\n",
       "      <th>21</th>\n",
       "      <td>LONGITUDE_DIF</td>\n",
       "      <td>0.046650</td>\n",
       "    </tr>\n",
       "    <tr>\n",
       "      <th>16</th>\n",
       "      <td>AIRLINE_TRAFFIC</td>\n",
       "      <td>0.044344</td>\n",
       "    </tr>\n",
       "    <tr>\n",
       "      <th>9</th>\n",
       "      <td>LONGITUDE_ORIGIN</td>\n",
       "      <td>0.041617</td>\n",
       "    </tr>\n",
       "    <tr>\n",
       "      <th>2</th>\n",
       "      <td>DAY_OF_WEEK</td>\n",
       "      <td>0.039831</td>\n",
       "    </tr>\n",
       "    <tr>\n",
       "      <th>18</th>\n",
       "      <td>DESTINATION_AIRPORT_TRAFFIC</td>\n",
       "      <td>0.039555</td>\n",
       "    </tr>\n",
       "    <tr>\n",
       "      <th>4</th>\n",
       "      <td>SCHEDULED_DEPARTURE</td>\n",
       "      <td>0.036369</td>\n",
       "    </tr>\n",
       "    <tr>\n",
       "      <th>14</th>\n",
       "      <td>DATE_TRAFFIC</td>\n",
       "      <td>0.036326</td>\n",
       "    </tr>\n",
       "    <tr>\n",
       "      <th>0</th>\n",
       "      <td>MONTH</td>\n",
       "      <td>0.034332</td>\n",
       "    </tr>\n",
       "    <tr>\n",
       "      <th>8</th>\n",
       "      <td>LATITUDE_ORIGIN</td>\n",
       "      <td>0.029069</td>\n",
       "    </tr>\n",
       "    <tr>\n",
       "      <th>3</th>\n",
       "      <td>FLIGHT_NUMBER</td>\n",
       "      <td>0.024069</td>\n",
       "    </tr>\n",
       "    <tr>\n",
       "      <th>6</th>\n",
       "      <td>DISTANCE</td>\n",
       "      <td>0.023491</td>\n",
       "    </tr>\n",
       "    <tr>\n",
       "      <th>11</th>\n",
       "      <td>LONGITUDE_DESTINATION</td>\n",
       "      <td>0.019998</td>\n",
       "    </tr>\n",
       "    <tr>\n",
       "      <th>5</th>\n",
       "      <td>SCHEDULED_TIME</td>\n",
       "      <td>0.019810</td>\n",
       "    </tr>\n",
       "    <tr>\n",
       "      <th>28</th>\n",
       "      <td>STATE_ORIGIN_CAT</td>\n",
       "      <td>0.014988</td>\n",
       "    </tr>\n",
       "    <tr>\n",
       "      <th>10</th>\n",
       "      <td>LATITUDE_DESTINATION</td>\n",
       "      <td>0.014062</td>\n",
       "    </tr>\n",
       "    <tr>\n",
       "      <th>29</th>\n",
       "      <td>CITY_DESTINATION_CAT</td>\n",
       "      <td>0.012851</td>\n",
       "    </tr>\n",
       "    <tr>\n",
       "      <th>30</th>\n",
       "      <td>STATE_DESTINATION_CAT</td>\n",
       "      <td>0.011112</td>\n",
       "    </tr>\n",
       "    <tr>\n",
       "      <th>25</th>\n",
       "      <td>ORIGIN_AIRPORT_CAT</td>\n",
       "      <td>0.010597</td>\n",
       "    </tr>\n",
       "    <tr>\n",
       "      <th>27</th>\n",
       "      <td>CITY_ORIGIN_CAT</td>\n",
       "      <td>0.010510</td>\n",
       "    </tr>\n",
       "    <tr>\n",
       "      <th>26</th>\n",
       "      <td>DESTINATION_AIRPORT_CAT</td>\n",
       "      <td>0.000000</td>\n",
       "    </tr>\n",
       "    <tr>\n",
       "      <th>13</th>\n",
       "      <td>WEEKEND</td>\n",
       "      <td>0.000000</td>\n",
       "    </tr>\n",
       "    <tr>\n",
       "      <th>12</th>\n",
       "      <td>HOLIDAY_FLAG</td>\n",
       "      <td>0.000000</td>\n",
       "    </tr>\n",
       "    <tr>\n",
       "      <th>22</th>\n",
       "      <td>LATITUDE_DIF</td>\n",
       "      <td>0.000000</td>\n",
       "    </tr>\n",
       "    <tr>\n",
       "      <th>20</th>\n",
       "      <td>AIRPORT_DESTINATION_INTL</td>\n",
       "      <td>0.000000</td>\n",
       "    </tr>\n",
       "    <tr>\n",
       "      <th>19</th>\n",
       "      <td>AIRPORT_ORIGIN_INTL</td>\n",
       "      <td>0.000000</td>\n",
       "    </tr>\n",
       "    <tr>\n",
       "      <th>31</th>\n",
       "      <td>HOLIDAY_CAT</td>\n",
       "      <td>0.000000</td>\n",
       "    </tr>\n",
       "  </tbody>\n",
       "</table>\n",
       "</div>"
      ],
      "text/plain": [
       "                        feature  importance_score\n",
       "7             SCHEDULED_ARRIVAL          0.191419\n",
       "23                  AIRLINE_CAT          0.074473\n",
       "15                MONTH_TRAFFIC          0.069163\n",
       "24              TAIL_NUMBER_CAT          0.054796\n",
       "1                           DAY          0.052258\n",
       "17       ORIGIN_AIRPORT_TRAFFIC          0.048312\n",
       "21                LONGITUDE_DIF          0.046650\n",
       "16              AIRLINE_TRAFFIC          0.044344\n",
       "9              LONGITUDE_ORIGIN          0.041617\n",
       "2                   DAY_OF_WEEK          0.039831\n",
       "18  DESTINATION_AIRPORT_TRAFFIC          0.039555\n",
       "4           SCHEDULED_DEPARTURE          0.036369\n",
       "14                 DATE_TRAFFIC          0.036326\n",
       "0                         MONTH          0.034332\n",
       "8               LATITUDE_ORIGIN          0.029069\n",
       "3                 FLIGHT_NUMBER          0.024069\n",
       "6                      DISTANCE          0.023491\n",
       "11        LONGITUDE_DESTINATION          0.019998\n",
       "5                SCHEDULED_TIME          0.019810\n",
       "28             STATE_ORIGIN_CAT          0.014988\n",
       "10         LATITUDE_DESTINATION          0.014062\n",
       "29         CITY_DESTINATION_CAT          0.012851\n",
       "30        STATE_DESTINATION_CAT          0.011112\n",
       "25           ORIGIN_AIRPORT_CAT          0.010597\n",
       "27              CITY_ORIGIN_CAT          0.010510\n",
       "26      DESTINATION_AIRPORT_CAT          0.000000\n",
       "13                      WEEKEND          0.000000\n",
       "12                 HOLIDAY_FLAG          0.000000\n",
       "22                 LATITUDE_DIF          0.000000\n",
       "20     AIRPORT_DESTINATION_INTL          0.000000\n",
       "19          AIRPORT_ORIGIN_INTL          0.000000\n",
       "31                  HOLIDAY_CAT          0.000000"
      ]
     },
     "execution_count": 30,
     "metadata": {},
     "output_type": "execute_result"
    }
   ],
   "source": [
    "imp_feat = get_important_feature(X_train.columns, grid_XGB_class.best_estimator_.feature_importances_)\n",
    "imp_feat"
   ]
  },
  {
   "cell_type": "markdown",
   "metadata": {},
   "source": [
    "## Final model \n",
    "- with important features only\n",
    "- it can be a loop"
   ]
  },
  {
   "cell_type": "code",
   "execution_count": 36,
   "metadata": {},
   "outputs": [
    {
     "data": {
      "text/plain": [
       "17"
      ]
     },
     "execution_count": 36,
     "metadata": {},
     "output_type": "execute_result"
    }
   ],
   "source": [
    "final_feat = imp_feat.loc[imp_feat['importance_score']>0, 'feature'].tolist()\n",
    "len(final_feat)"
   ]
  },
  {
   "cell_type": "code",
   "execution_count": 37,
   "metadata": {},
   "outputs": [],
   "source": [
    "X_train_new = X_train[final_feat]\n",
    "X_val_new = X_val[final_feat]\n",
    "X_test_new = X_test[final_feat]"
   ]
  },
  {
   "cell_type": "code",
   "execution_count": 38,
   "metadata": {},
   "outputs": [
    {
     "name": "stdout",
     "output_type": "stream",
     "text": [
      "[0]\tvalidation_0-aucpr:0.474375\tvalidation_1-aucpr:0.440825\n",
      "Multiple eval metrics have been passed: 'validation_1-aucpr' will be used for early stopping.\n",
      "\n",
      "Will train until validation_1-aucpr hasn't improved in 5 rounds.\n",
      "[1]\tvalidation_0-aucpr:0.483529\tvalidation_1-aucpr:0.443526\n",
      "[2]\tvalidation_0-aucpr:0.501333\tvalidation_1-aucpr:0.46886\n",
      "[3]\tvalidation_0-aucpr:0.508626\tvalidation_1-aucpr:0.477173\n",
      "[4]\tvalidation_0-aucpr:0.515974\tvalidation_1-aucpr:0.478062\n",
      "[5]\tvalidation_0-aucpr:0.520197\tvalidation_1-aucpr:0.481458\n",
      "[6]\tvalidation_0-aucpr:0.52178\tvalidation_1-aucpr:0.482108\n",
      "[7]\tvalidation_0-aucpr:0.523852\tvalidation_1-aucpr:0.485119\n",
      "[8]\tvalidation_0-aucpr:0.527732\tvalidation_1-aucpr:0.485921\n",
      "[9]\tvalidation_0-aucpr:0.53267\tvalidation_1-aucpr:0.485506\n",
      "[10]\tvalidation_0-aucpr:0.53287\tvalidation_1-aucpr:0.485623\n",
      "[11]\tvalidation_0-aucpr:0.536214\tvalidation_1-aucpr:0.486768\n",
      "[12]\tvalidation_0-aucpr:0.536687\tvalidation_1-aucpr:0.485945\n",
      "[13]\tvalidation_0-aucpr:0.5377\tvalidation_1-aucpr:0.483774\n",
      "[14]\tvalidation_0-aucpr:0.539273\tvalidation_1-aucpr:0.48687\n",
      "[15]\tvalidation_0-aucpr:0.542634\tvalidation_1-aucpr:0.481025\n",
      "[16]\tvalidation_0-aucpr:0.544272\tvalidation_1-aucpr:0.47479\n",
      "[17]\tvalidation_0-aucpr:0.546156\tvalidation_1-aucpr:0.471766\n",
      "[18]\tvalidation_0-aucpr:0.545971\tvalidation_1-aucpr:0.469858\n",
      "[19]\tvalidation_0-aucpr:0.547551\tvalidation_1-aucpr:0.471562\n",
      "Stopping. Best iteration:\n",
      "[14]\tvalidation_0-aucpr:0.539273\tvalidation_1-aucpr:0.48687\n",
      "\n"
     ]
    },
    {
     "data": {
      "text/plain": [
       "XGBClassifier(base_score=0.5, booster='gbtree', colsample_bylevel=1,\n",
       "              colsample_bynode=1, colsample_bytree=0.8, gamma=0,\n",
       "              learning_rate=1.5, max_delta_step=0, max_depth=3,\n",
       "              min_child_weight=5, missing=None, n_estimators=999, n_jobs=-1,\n",
       "              nthread=None, objective='binary:logistic', random_state=123,\n",
       "              reg_alpha=0, reg_lambda=0, scale_pos_weight=1, seed=None,\n",
       "              silent=None, subsample=0.8, verbosity=1)"
      ]
     },
     "execution_count": 38,
     "metadata": {},
     "output_type": "execute_result"
    }
   ],
   "source": [
    "m_xgb = XGBClassifier(max_depth=3,\n",
    "                      min_child_weight=5,\n",
    "                      subsample=0.8,\n",
    "                      colsample_bytree=0.8,\n",
    "                      learning_rate = 1.5,\n",
    "                      reg_alpha = 0, reg_lambda = 0, gamma=0,\n",
    "                      objective= 'binary:logistic',\n",
    "                      random_state=123,\n",
    "                      n_jobs=-1, n_estimators = 999)\n",
    "\n",
    "m_xgb.fit(X_train_new, y_train, eval_set=[(X_train_new, y_train), (X_val_new, y_val)], \n",
    "          eval_metric=metric, early_stopping_rounds=5, verbose=True)"
   ]
  },
  {
   "cell_type": "code",
   "execution_count": 39,
   "metadata": {
    "scrolled": false
   },
   "outputs": [
    {
     "data": {
      "text/html": [
       "<div>\n",
       "<style scoped>\n",
       "    .dataframe tbody tr th:only-of-type {\n",
       "        vertical-align: middle;\n",
       "    }\n",
       "\n",
       "    .dataframe tbody tr th {\n",
       "        vertical-align: top;\n",
       "    }\n",
       "\n",
       "    .dataframe thead th {\n",
       "        text-align: right;\n",
       "    }\n",
       "</style>\n",
       "<table border=\"1\" class=\"dataframe\">\n",
       "  <thead>\n",
       "    <tr style=\"text-align: right;\">\n",
       "      <th></th>\n",
       "      <th>feature</th>\n",
       "      <th>importance_score</th>\n",
       "    </tr>\n",
       "  </thead>\n",
       "  <tbody>\n",
       "    <tr>\n",
       "      <th>0</th>\n",
       "      <td>SCHEDULED_DEPARTURE</td>\n",
       "      <td>0.216075</td>\n",
       "    </tr>\n",
       "    <tr>\n",
       "      <th>3</th>\n",
       "      <td>AIRLINE_TRAFFIC</td>\n",
       "      <td>0.096657</td>\n",
       "    </tr>\n",
       "    <tr>\n",
       "      <th>2</th>\n",
       "      <td>AIRLINE_CAT</td>\n",
       "      <td>0.095982</td>\n",
       "    </tr>\n",
       "    <tr>\n",
       "      <th>6</th>\n",
       "      <td>SCHEDULED_TIME</td>\n",
       "      <td>0.089969</td>\n",
       "    </tr>\n",
       "    <tr>\n",
       "      <th>1</th>\n",
       "      <td>TAIL_NUMBER_CAT</td>\n",
       "      <td>0.084002</td>\n",
       "    </tr>\n",
       "    <tr>\n",
       "      <th>11</th>\n",
       "      <td>MONTH</td>\n",
       "      <td>0.053548</td>\n",
       "    </tr>\n",
       "    <tr>\n",
       "      <th>10</th>\n",
       "      <td>ORIGIN_AIRPORT_TRAFFIC</td>\n",
       "      <td>0.043240</td>\n",
       "    </tr>\n",
       "    <tr>\n",
       "      <th>9</th>\n",
       "      <td>LONGITUDE_ORIGIN</td>\n",
       "      <td>0.042855</td>\n",
       "    </tr>\n",
       "    <tr>\n",
       "      <th>7</th>\n",
       "      <td>DATE_TRAFFIC</td>\n",
       "      <td>0.041202</td>\n",
       "    </tr>\n",
       "    <tr>\n",
       "      <th>16</th>\n",
       "      <td>LONGITUDE_DESTINATION</td>\n",
       "      <td>0.039844</td>\n",
       "    </tr>\n",
       "    <tr>\n",
       "      <th>8</th>\n",
       "      <td>SCHEDULED_ARRIVAL</td>\n",
       "      <td>0.033631</td>\n",
       "    </tr>\n",
       "    <tr>\n",
       "      <th>13</th>\n",
       "      <td>DAY_OF_WEEK</td>\n",
       "      <td>0.032969</td>\n",
       "    </tr>\n",
       "    <tr>\n",
       "      <th>5</th>\n",
       "      <td>DAY</td>\n",
       "      <td>0.029073</td>\n",
       "    </tr>\n",
       "    <tr>\n",
       "      <th>4</th>\n",
       "      <td>MONTH_TRAFFIC</td>\n",
       "      <td>0.027615</td>\n",
       "    </tr>\n",
       "    <tr>\n",
       "      <th>15</th>\n",
       "      <td>DESTINATION_AIRPORT_TRAFFIC</td>\n",
       "      <td>0.024738</td>\n",
       "    </tr>\n",
       "    <tr>\n",
       "      <th>14</th>\n",
       "      <td>LATITUDE_ORIGIN</td>\n",
       "      <td>0.024714</td>\n",
       "    </tr>\n",
       "    <tr>\n",
       "      <th>12</th>\n",
       "      <td>FLIGHT_NUMBER</td>\n",
       "      <td>0.023885</td>\n",
       "    </tr>\n",
       "  </tbody>\n",
       "</table>\n",
       "</div>"
      ],
      "text/plain": [
       "                        feature  importance_score\n",
       "0           SCHEDULED_DEPARTURE          0.216075\n",
       "3               AIRLINE_TRAFFIC          0.096657\n",
       "2                   AIRLINE_CAT          0.095982\n",
       "6                SCHEDULED_TIME          0.089969\n",
       "1               TAIL_NUMBER_CAT          0.084002\n",
       "11                        MONTH          0.053548\n",
       "10       ORIGIN_AIRPORT_TRAFFIC          0.043240\n",
       "9              LONGITUDE_ORIGIN          0.042855\n",
       "7                  DATE_TRAFFIC          0.041202\n",
       "16        LONGITUDE_DESTINATION          0.039844\n",
       "8             SCHEDULED_ARRIVAL          0.033631\n",
       "13                  DAY_OF_WEEK          0.032969\n",
       "5                           DAY          0.029073\n",
       "4                 MONTH_TRAFFIC          0.027615\n",
       "15  DESTINATION_AIRPORT_TRAFFIC          0.024738\n",
       "14              LATITUDE_ORIGIN          0.024714\n",
       "12                FLIGHT_NUMBER          0.023885"
      ]
     },
     "execution_count": 39,
     "metadata": {},
     "output_type": "execute_result"
    }
   ],
   "source": [
    "imp_feat = get_important_feature(X_train_new.columns, m_xgb.feature_importances_)\n",
    "imp_feat"
   ]
  },
  {
   "cell_type": "markdown",
   "metadata": {},
   "source": [
    "If we still see some variables with zero important score, remove them and retrain the model."
   ]
  },
  {
   "cell_type": "markdown",
   "metadata": {},
   "source": [
    "### Make predictions"
   ]
  },
  {
   "cell_type": "code",
   "execution_count": 40,
   "metadata": {},
   "outputs": [],
   "source": [
    "y_train_prob = m_xgb.predict_proba(X_train_new)[:,1]\n",
    "y_val_prob = m_xgb.predict_proba(X_val_new)[:,1]\n",
    "y_test_prob = m_xgb.predict_proba(X_test_new)[:,1]"
   ]
  },
  {
   "cell_type": "markdown",
   "metadata": {},
   "source": [
    "### Get Precision-Recall AUC"
   ]
  },
  {
   "cell_type": "code",
   "execution_count": 41,
   "metadata": {},
   "outputs": [
    {
     "data": {
      "text/plain": [
       "0.5392735036298114"
      ]
     },
     "execution_count": 41,
     "metadata": {},
     "output_type": "execute_result"
    }
   ],
   "source": [
    "precision, recall, thresholds = precision_recall_curve(y_train, y_train_prob)\n",
    "auc(recall, precision)"
   ]
  },
  {
   "cell_type": "code",
   "execution_count": 42,
   "metadata": {},
   "outputs": [
    {
     "data": {
      "text/plain": [
       "0.48687715787870856"
      ]
     },
     "execution_count": 42,
     "metadata": {},
     "output_type": "execute_result"
    }
   ],
   "source": [
    "precision, recall, thresholds = precision_recall_curve(y_val, y_val_prob)\n",
    "auc(recall, precision)"
   ]
  },
  {
   "cell_type": "code",
   "execution_count": 43,
   "metadata": {},
   "outputs": [
    {
     "data": {
      "text/plain": [
       "0.5202309334114632"
      ]
     },
     "execution_count": 43,
     "metadata": {},
     "output_type": "execute_result"
    }
   ],
   "source": [
    "precision, recall, thresholds = precision_recall_curve(y_test, y_test_prob)\n",
    "auc(recall, precision)"
   ]
  }
 ],
 "metadata": {
  "kernelspec": {
   "display_name": "flightstatus",
   "language": "python",
   "name": "flightstatus"
  },
  "language_info": {
   "codemirror_mode": {
    "name": "ipython",
    "version": 3
   },
   "file_extension": ".py",
   "mimetype": "text/x-python",
   "name": "python",
   "nbconvert_exporter": "python",
   "pygments_lexer": "ipython3",
   "version": "3.8.3"
  }
 },
 "nbformat": 4,
 "nbformat_minor": 2
}
