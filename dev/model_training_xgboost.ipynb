{
 "cells": [
  {
   "cell_type": "code",
   "execution_count": 55,
   "metadata": {},
   "outputs": [],
   "source": [
    "import numpy as np\n",
    "import pandas as pd\n",
    "from sklearn.model_selection import train_test_split\n",
    "from xgboost.sklearn import XGBClassifier\n",
    "from sklearn.model_selection import GridSearchCV\n",
    "import joblib\n",
    "import warnings\n",
    "warnings.filterwarnings('ignore')\n",
    "from sklearn.feature_selection import RFE\n",
    "import matplotlib.pyplot as pyplot\n",
    "from sklearn.metrics import roc_curve, auc\n",
    "from sklearn.feature_selection import VarianceThreshold\n",
    "from pandas.api.types import is_numeric_dtype, is_categorical_dtype, is_string_dtype\n",
    "from datapreparation import *\n",
    "from sklearn.utils import resample\n",
    "from sklearn.metrics import classification_report, SCORERS, roc_curve, auc"
   ]
  },
  {
   "cell_type": "code",
   "execution_count": 34,
   "metadata": {},
   "outputs": [],
   "source": [
    "flights = pd.read_csv('/Users/user/Documents/Github/flightstatus/data/dev/flights_processed.csv')"
   ]
  },
  {
   "cell_type": "code",
   "execution_count": 49,
   "metadata": {},
   "outputs": [],
   "source": [
    "datatrain = flights[flights.MONTH<=6]\n",
    "dataval = flights[(flights.MONTH>=7)&(flights.MONTH<=9)]\n",
    "datatest = flights[flights.MONTH<=10]"
   ]
  },
  {
   "cell_type": "code",
   "execution_count": 54,
   "metadata": {},
   "outputs": [
    {
     "name": "stdout",
     "output_type": "stream",
     "text": [
      "[0]\tvalidation_0-logloss:0.718347\tvalidation_1-logloss:0.724912\n",
      "Multiple eval metrics have been passed: 'validation_1-logloss' will be used for early stopping.\n",
      "\n",
      "Will train until validation_1-logloss hasn't improved in 15 rounds.\n",
      "[1]\tvalidation_0-logloss:0.751014\tvalidation_1-logloss:0.760862\n",
      "[2]\tvalidation_0-logloss:0.785375\tvalidation_1-logloss:0.799037\n",
      "[3]\tvalidation_0-logloss:0.821795\tvalidation_1-logloss:0.839015\n",
      "[4]\tvalidation_0-logloss:0.858892\tvalidation_1-logloss:0.880382\n",
      "[5]\tvalidation_0-logloss:0.897089\tvalidation_1-logloss:0.922237\n",
      "[6]\tvalidation_0-logloss:0.937083\tvalidation_1-logloss:0.964683\n",
      "[7]\tvalidation_0-logloss:0.975692\tvalidation_1-logloss:1.00752\n",
      "[8]\tvalidation_0-logloss:1.01498\tvalidation_1-logloss:1.0496\n",
      "[9]\tvalidation_0-logloss:1.0542\tvalidation_1-logloss:1.09106\n",
      "[10]\tvalidation_0-logloss:1.09242\tvalidation_1-logloss:1.13268\n",
      "[11]\tvalidation_0-logloss:1.13114\tvalidation_1-logloss:1.1745\n",
      "[12]\tvalidation_0-logloss:1.16971\tvalidation_1-logloss:1.21357\n",
      "[13]\tvalidation_0-logloss:1.20512\tvalidation_1-logloss:1.25417\n",
      "[14]\tvalidation_0-logloss:1.23961\tvalidation_1-logloss:1.29199\n",
      "[15]\tvalidation_0-logloss:1.27419\tvalidation_1-logloss:1.32885\n",
      "Stopping. Best iteration:\n",
      "[0]\tvalidation_0-logloss:0.718347\tvalidation_1-logloss:0.724912\n",
      "\n"
     ]
    },
    {
     "data": {
      "text/plain": [
       "XGBClassifier(base_score=0.5, booster='gbtree', colsample_bylevel=1,\n",
       "              colsample_bynode=1, colsample_bytree=0.8, gamma=0,\n",
       "              learning_rate=0.1, max_delta_step=0, max_depth=6,\n",
       "              min_child_weight=6, missing=None, n_estimators=999, n_jobs=-1,\n",
       "              nthread=None, objective='binary:logistic', random_state=123,\n",
       "              reg_alpha=0, reg_lambda=0, scale_pos_weight=35, seed=None,\n",
       "              silent=None, subsample=0.8, verbosity=1)"
      ]
     },
     "execution_count": 54,
     "metadata": {},
     "output_type": "execute_result"
    }
   ],
   "source": [
    "best_md =6; best_mcw =6; best_g =0; best_s =0.8; best_cb =0.8; best_l1 = 0; best_l2 =0; best_lr =0.1;\n",
    "best_estimators = 999;\n",
    "m_xgb = XGBClassifier(max_depth=best_md,\n",
    "                      min_child_weight=best_mcw,\n",
    "                      gamma=best_g,\n",
    "                      subsample=best_s,\n",
    "                      colsample_bytree=best_cb,\n",
    "                      learning_rate = best_lr,\n",
    "                      reg_alpha = best_l1, reg_lambda = best_l2,\n",
    "                      scale_pos_weight=35,\n",
    "                      objective= 'binary:logistic',\n",
    "                      random_state=123,\n",
    "                      n_jobs=-1, n_estimators = best_estimators)\n",
    "eval_set = [(datatrain.drop(['TARGET'], axis=1), datatrain['TARGET']),\n",
    "           (dataval.drop(['TARGET'], axis=1), dataval['TARGET'])]\n",
    "m_xgb.fit(datatrain.drop(['TARGET'], axis=1), datatrain['TARGET'], \n",
    "          eval_set=eval_set, eval_metric=['logloss'], early_stopping_rounds=15, verbose=True)"
   ]
  },
  {
   "cell_type": "code",
   "execution_count": 53,
   "metadata": {},
   "outputs": [
    {
     "data": {
      "image/png": "[encoded data removed]",
      "text/plain": [
       "<Figure size 432x288 with 1 Axes>"
      ]
     },
     "metadata": {
      "needs_background": "light"
     },
     "output_type": "display_data"
    }
   ],
   "source": [
    "# retrieve performance metrics\n",
    "results = m_xgb.evals_result()\n",
    "epochs = len(results['validation_0']['logloss'])\n",
    "x_axis = range(0, epochs)\n",
    "# plot log loss\n",
    "fig, ax = pyplot.subplots()\n",
    "ax.plot(x_axis, results['validation_0']['logloss'], label='Train')\n",
    "ax.plot(x_axis, results['validation_1']['logloss'], label='Test')\n",
    "ax.legend()\n",
    "pyplot.ylabel('Log Loss')\n",
    "pyplot.title('XGBoost Log Loss')\n",
    "pyplot.show()"
   ]
  },
  {
   "cell_type": "code",
   "execution_count": 56,
   "metadata": {},
   "outputs": [
    {
     "name": "stdout",
     "output_type": "stream",
     "text": [
      "              precision    recall  f1-score   support\n",
      "\n",
      "           0       0.98      0.00      0.01   2867002\n",
      "           1       0.35      1.00      0.52   1518704\n",
      "\n",
      "    accuracy                           0.35   4385706\n",
      "   macro avg       0.67      0.50      0.26   4385706\n",
      "weighted avg       0.76      0.35      0.18   4385706\n",
      "\n"
     ]
    }
   ],
   "source": [
    "print(classification_report(datatest['TARGET'], m_xgb.predict(datatest.drop(['TARGET'],axis=1))))"
   ]
  },
  {
   "cell_type": "code",
   "execution_count": null,
   "metadata": {},
   "outputs": [],
   "source": []
  }
 ],
 "metadata": {
  "kernelspec": {
   "display_name": "main_kernel",
   "language": "python",
   "name": "main_kernel"
  },
  "language_info": {
   "codemirror_mode": {
    "name": "ipython",
    "version": 3
   },
   "file_extension": ".py",
   "mimetype": "text/x-python",
   "name": "python",
   "nbconvert_exporter": "python",
   "pygments_lexer": "ipython3",
   "version": "3.7.3"
  }
 },
 "nbformat": 4,
 "nbformat_minor": 2
}
