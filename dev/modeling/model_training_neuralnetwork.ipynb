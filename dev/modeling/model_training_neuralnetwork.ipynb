{
 "cells": [
  {
   "cell_type": "code",
   "execution_count": 40,
   "metadata": {},
   "outputs": [],
   "source": [
    "import numpy as np\n",
    "import pandas as pd\n",
    "import warnings\n",
    "warnings.filterwarnings('ignore')\n",
    "from keras.models import Sequential\n",
    "from keras.layers.core import Dense, Dropout, Activation\n",
    "from keras.optimizers import SGD\n",
    "from keras.callbacks import EarlyStopping\n",
    "from sklearn.metrics import classification_report\n",
    "from modeling_helper import transform_xy\n",
    "from sklearn.preprocessing import StandardScaler"
   ]
  },
  {
   "cell_type": "code",
   "execution_count": 4,
   "metadata": {},
   "outputs": [],
   "source": [
    "flights = pd.read_csv('/Users/user/Documents/Github/flightstatus/data/dev/flights_processed.csv')"
   ]
  },
  {
   "cell_type": "code",
   "execution_count": 5,
   "metadata": {},
   "outputs": [],
   "source": [
    "datatrain = flights[flights.MONTH<=6]\n",
    "dataval = flights[(flights.MONTH>=7)&(flights.MONTH<=9)]\n",
    "datatest = flights[flights.MONTH<=10]"
   ]
  },
  {
   "cell_type": "code",
   "execution_count": 6,
   "metadata": {},
   "outputs": [],
   "source": [
    "X_train, y_train = transform_xy(datatrain)\n",
    "X_val, y_val = transform_xy(dataval)\n",
    "X_test, y_test = transform_xy(datatest)"
   ]
  },
  {
   "cell_type": "code",
   "execution_count": 33,
   "metadata": {},
   "outputs": [],
   "source": [
    "n_cols = X_train.shape[1]"
   ]
  },
  {
   "cell_type": "code",
   "execution_count": 42,
   "metadata": {},
   "outputs": [],
   "source": [
    "ss = StandardScaler()\n",
    "X_train_s = ss.fit_transform(X_train)\n",
    "X_val_s = ss.transform(X_val)\n",
    "X_test_s = ss.transform(X_test)"
   ]
  },
  {
   "cell_type": "markdown",
   "metadata": {},
   "source": [
    "## Starting model"
   ]
  },
  {
   "cell_type": "code",
   "execution_count": 49,
   "metadata": {},
   "outputs": [
    {
     "name": "stdout",
     "output_type": "stream",
     "text": [
      "Train on 2889506 samples, validate on 1496200 samples\n",
      "Epoch 1/10\n",
      "2889506/2889506 [==============================] - 146s - loss: 0.9850 - val_loss: 0.7380\n",
      "Epoch 2/10\n",
      "2889506/2889506 [==============================] - 130s - loss: 0.9372 - val_loss: 0.7300\n",
      "Epoch 3/10\n",
      "2889506/2889506 [==============================] - 131s - loss: 0.9285 - val_loss: 0.7256\n",
      "Epoch 4/10\n",
      "2889506/2889506 [==============================] - 126s - loss: 0.9242 - val_loss: 0.7199\n",
      "Epoch 5/10\n",
      "2889506/2889506 [==============================] - 125s - loss: 0.9212 - val_loss: 0.7182\n",
      "Epoch 6/10\n",
      "2889506/2889506 [==============================] - 120s - loss: 0.9189 - val_loss: 0.7162\n",
      "Epoch 7/10\n",
      "2889506/2889506 [==============================] - 110s - loss: 0.9172 - val_loss: 0.7145\n",
      "Epoch 8/10\n",
      "2889506/2889506 [==============================] - 110s - loss: 0.9158 - val_loss: 0.7134\n",
      "Epoch 9/10\n",
      "2889506/2889506 [==============================] - 110s - loss: 0.9145 - val_loss: 0.7123\n",
      "Epoch 10/10\n",
      "2889506/2889506 [==============================] - 113s - loss: 0.9136 - val_loss: 0.7106\n"
     ]
    },
    {
     "data": {
      "text/plain": [
       "<keras.callbacks.History at 0x7ffb39ea8630>"
      ]
     },
     "execution_count": 49,
     "metadata": {},
     "output_type": "execute_result"
    }
   ],
   "source": [
    "model = Sequential()\n",
    "model.add(Dense(100, activation='relu', input_shape = (n_cols,))) \n",
    "model.add(Dropout(rate = 0.8))\n",
    "model.add(Dense(100, activation='relu'))\n",
    "model.add(Dense(2, activation='softmax'))\n",
    "model.compile(optimizer=SGD(lr=0.0001), loss='categorical_crossentropy')\n",
    "model.fit(X_train_s, y_train, callbacks = [early_stopping_monitor], validation_data=(X_val_s, y_val),\n",
    "         batch_size=64, class_weight={0:1., 1:2.})"
   ]
  },
  {
   "cell_type": "markdown",
   "metadata": {},
   "source": [
    "**class_weight**: used for weighting the loss function during training only.   \n",
    "Therefore, we see that the val_loss is lower than the train loss."
   ]
  },
  {
   "cell_type": "code",
   "execution_count": 56,
   "metadata": {},
   "outputs": [
    {
     "name": "stdout",
     "output_type": "stream",
     "text": [
      "             precision    recall  f1-score   support\n",
      "\n",
      "        0.0       0.81      0.33      0.47   1004446\n",
      "        1.0       0.38      0.84      0.52    491754\n",
      "\n",
      "avg / total       0.67      0.50      0.49   1496200\n",
      "\n"
     ]
    }
   ],
   "source": [
    "y_val_pred = model.predict(X_val_s)\n",
    "y_val_pred_abs = (y_val_pred[:,1] > 0.5)*1\n",
    "print(classification_report(y_val[:,1], y_val_pred_abs))"
   ]
  },
  {
   "cell_type": "markdown",
   "metadata": {},
   "source": [
    "## Increase model capacity: more layers"
   ]
  },
  {
   "cell_type": "code",
   "execution_count": 57,
   "metadata": {},
   "outputs": [
    {
     "name": "stdout",
     "output_type": "stream",
     "text": [
      "Train on 2889506 samples, validate on 1496200 samples\n",
      "Epoch 1/10\n",
      "2889506/2889506 [==============================] - 163s - loss: 0.9459 - val_loss: 0.6917\n",
      "Epoch 2/10\n",
      "2889506/2889506 [==============================] - 152s - loss: 0.9328 - val_loss: 0.6922\n",
      "Epoch 3/10\n",
      "2889506/2889506 [==============================] - 149s - loss: 0.9282 - val_loss: 0.6926\n",
      "Epoch 4/10\n",
      "2889506/2889506 [==============================] - 134s - loss: 0.9253 - val_loss: 0.6934\n"
     ]
    },
    {
     "data": {
      "text/plain": [
       "<keras.callbacks.History at 0x7ffb7e49f7b8>"
      ]
     },
     "execution_count": 57,
     "metadata": {},
     "output_type": "execute_result"
    }
   ],
   "source": [
    "model = Sequential()\n",
    "model.add(Dense(100, activation='relu', input_shape = (n_cols,))) \n",
    "model.add(Dropout(rate = 0.8))\n",
    "model.add(Dense(100, activation='relu'))\n",
    "model.add(Dense(100, activation='relu'))\n",
    "model.add(Dense(50, activation='relu'))\n",
    "model.add(Dense(2, activation='softmax'))\n",
    "model.compile(optimizer=SGD(lr=0.0001), loss='categorical_crossentropy')\n",
    "model.fit(X_train_s, y_train, callbacks = [early_stopping_monitor], validation_data=(X_val_s, y_val),\n",
    "         batch_size=64, class_weight={0:1., 1:2.})"
   ]
  },
  {
   "cell_type": "code",
   "execution_count": 58,
   "metadata": {},
   "outputs": [
    {
     "name": "stdout",
     "output_type": "stream",
     "text": [
      "             precision    recall  f1-score   support\n",
      "\n",
      "        0.0       0.78      0.39      0.52   1004446\n",
      "        1.0       0.39      0.78      0.52    491754\n",
      "\n",
      "avg / total       0.65      0.52      0.52   1496200\n",
      "\n"
     ]
    }
   ],
   "source": [
    "y_val_pred = model.predict(X_val_s)\n",
    "y_val_pred_abs = (y_val_pred[:,1] > 0.5)*1\n",
    "print(classification_report(y_val[:,1], y_val_pred_abs))"
   ]
  },
  {
   "cell_type": "markdown",
   "metadata": {},
   "source": [
    "## Increase model capacity: more nodes"
   ]
  },
  {
   "cell_type": "code",
   "execution_count": 61,
   "metadata": {},
   "outputs": [
    {
     "name": "stdout",
     "output_type": "stream",
     "text": [
      "Train on 2889506 samples, validate on 1496200 samples\n",
      "Epoch 1/50\n",
      "2889506/2889506 [==============================] - 468s - loss: 0.9332 - val_loss: 0.6965\n",
      "Epoch 2/50\n",
      "2889506/2889506 [==============================] - 463s - loss: 0.9237 - val_loss: 0.6965\n",
      "Epoch 3/50\n",
      "2889506/2889506 [==============================] - 454s - loss: 0.9208 - val_loss: 0.6977\n",
      "Epoch 4/50\n",
      "2889506/2889506 [==============================] - 435s - loss: 0.9187 - val_loss: 0.6960\n",
      "Epoch 5/50\n",
      "2889506/2889506 [==============================] - 438s - loss: 0.9171 - val_loss: 0.6958\n",
      "Epoch 6/50\n",
      "2889506/2889506 [==============================] - 429s - loss: 0.9155 - val_loss: 0.6951\n",
      "Epoch 7/50\n",
      "2889506/2889506 [==============================] - 435s - loss: 0.9142 - val_loss: 0.6950\n",
      "Epoch 8/50\n",
      "2889506/2889506 [==============================] - 396s - loss: 0.9130 - val_loss: 0.6924\n",
      "Epoch 9/50\n",
      "2889506/2889506 [==============================] - 386s - loss: 0.9122 - val_loss: 0.6931\n",
      "Epoch 10/50\n",
      "2889506/2889506 [==============================] - 389s - loss: 0.9111 - val_loss: 0.6920\n",
      "Epoch 11/50\n",
      "2889506/2889506 [==============================] - 393s - loss: 0.9099 - val_loss: 0.6918\n",
      "Epoch 12/50\n",
      "2889506/2889506 [==============================] - 383s - loss: 0.9091 - val_loss: 0.6917\n",
      "Epoch 13/50\n",
      "2889506/2889506 [==============================] - 382s - loss: 0.9083 - val_loss: 0.6921\n",
      "Epoch 14/50\n",
      "2889506/2889506 [==============================] - 406s - loss: 0.9078 - val_loss: 0.6910\n",
      "Epoch 15/50\n",
      "2889506/2889506 [==============================] - 403s - loss: 0.9069 - val_loss: 0.6914\n",
      "Epoch 16/50\n",
      "2889506/2889506 [==============================] - 484s - loss: 0.9063 - val_loss: 0.6917\n",
      "Epoch 17/50\n",
      "2889506/2889506 [==============================] - 466s - loss: 0.9056 - val_loss: 0.6915\n"
     ]
    },
    {
     "data": {
      "text/plain": [
       "<keras.callbacks.History at 0x7ffaa7120d68>"
      ]
     },
     "execution_count": 61,
     "metadata": {},
     "output_type": "execute_result"
    }
   ],
   "source": [
    "model = Sequential()\n",
    "model.add(Dense(100, activation='relu', input_shape = (n_cols,))) \n",
    "model.add(Dropout(rate = 0.8))\n",
    "model.add(Dense(1000, activation='relu'))\n",
    "model.add(Dense(200, activation='relu'))\n",
    "model.add(Dense(100, activation='relu'))\n",
    "model.add(Dense(2, activation='softmax'))\n",
    "model.compile(optimizer=SGD(lr=0.0001), loss='categorical_crossentropy')\n",
    "model.fit(X_train_s, y_train, callbacks = [early_stopping_monitor], validation_data=(X_val_s, y_val),\n",
    "         batch_size=64, class_weight={0:1., 1:2.}, epochs=50)"
   ]
  },
  {
   "cell_type": "code",
   "execution_count": 63,
   "metadata": {},
   "outputs": [
    {
     "name": "stdout",
     "output_type": "stream",
     "text": [
      "             precision    recall  f1-score   support\n",
      "\n",
      "        0.0       0.80      0.43      0.56   1004446\n",
      "        1.0       0.40      0.78      0.53    491754\n",
      "\n",
      "avg / total       0.67      0.54      0.55   1496200\n",
      "\n"
     ]
    }
   ],
   "source": [
    "y_val_pred = model.predict(X_val_s)\n",
    "y_val_pred_abs = (y_val_pred[:,1] > 0.5)*1\n",
    "print(classification_report(y_val[:,1], y_val_pred_abs))"
   ]
  },
  {
   "cell_type": "markdown",
   "metadata": {},
   "source": [
    "## Increase model capacity: more layers"
   ]
  },
  {
   "cell_type": "code",
   "execution_count": 65,
   "metadata": {},
   "outputs": [
    {
     "name": "stdout",
     "output_type": "stream",
     "text": [
      "Train on 2889506 samples, validate on 1496200 samples\n",
      "Epoch 1/50\n",
      "2889506/2889506 [==============================] - 799s - loss: 0.9348 - val_loss: 0.7031\n",
      "Epoch 2/50\n",
      "2889506/2889506 [==============================] - 765s - loss: 0.9259 - val_loss: 0.7006\n",
      "Epoch 3/50\n",
      "2889506/2889506 [==============================] - 756s - loss: 0.9224 - val_loss: 0.6995\n",
      "Epoch 4/50\n",
      "2889506/2889506 [==============================] - 913s - loss: 0.9205 - val_loss: 0.6986\n",
      "Epoch 5/50\n",
      "2889506/2889506 [==============================] - 932s - loss: 0.9185 - val_loss: 0.6974\n",
      "Epoch 6/50\n",
      "2889506/2889506 [==============================] - 966s - loss: 0.9171 - val_loss: 0.6997\n",
      "Epoch 7/50\n",
      "2889506/2889506 [==============================] - 904s - loss: 0.9157 - val_loss: 0.6973\n",
      "Epoch 8/50\n",
      "2889506/2889506 [==============================] - 978s - loss: 0.9143 - val_loss: 0.6976\n",
      "Epoch 9/50\n",
      "2889506/2889506 [==============================] - 2568s - loss: 0.9132 - val_loss: 0.6978\n",
      "Epoch 10/50\n",
      "2889506/2889506 [==============================] - 844s - loss: 0.9119 - val_loss: 0.6981\n"
     ]
    },
    {
     "data": {
      "text/plain": [
       "<keras.callbacks.History at 0x7ffaa39840b8>"
      ]
     },
     "execution_count": 65,
     "metadata": {},
     "output_type": "execute_result"
    }
   ],
   "source": [
    "model = Sequential()\n",
    "model.add(Dense(100, activation='relu', input_shape = (n_cols,))) \n",
    "model.add(Dropout(rate = 0.8))\n",
    "model.add(Dense(1000, activation='relu'))\n",
    "model.add(Dense(500, activation='relu'))\n",
    "model.add(Dense(200, activation='relu'))\n",
    "model.add(Dense(100, activation='relu'))\n",
    "model.add(Dense(50, activation='relu'))\n",
    "model.add(Dense(2, activation='softmax'))\n",
    "model.compile(optimizer=SGD(lr=0.0001), loss='categorical_crossentropy')\n",
    "model.fit(X_train_s, y_train, callbacks = [early_stopping_monitor], validation_data=(X_val_s, y_val),\n",
    "         batch_size=64, class_weight={0:1., 1:2.}, epochs=50)"
   ]
  },
  {
   "cell_type": "code",
   "execution_count": 67,
   "metadata": {},
   "outputs": [
    {
     "name": "stdout",
     "output_type": "stream",
     "text": [
      "             precision    recall  f1-score   support\n",
      "\n",
      "        0.0       0.66      0.04      0.08   1004446\n",
      "        1.0       0.33      0.95      0.49    491754\n",
      "\n",
      "avg / total       0.55      0.34      0.21   1496200\n",
      "\n"
     ]
    }
   ],
   "source": [
    "y_val_pred = model.predict(X_val_s)\n",
    "y_val_pred_abs = (y_val_pred[:,1] > 0.5)*1\n",
    "print(classification_report(y_val[:,1], y_val_pred_abs))"
   ]
  },
  {
   "cell_type": "markdown",
   "metadata": {},
   "source": [
    "**The validation loss did not improve in the last round. We will decrease the model capacity**"
   ]
  },
  {
   "cell_type": "code",
   "execution_count": 71,
   "metadata": {},
   "outputs": [
    {
     "name": "stdout",
     "output_type": "stream",
     "text": [
      "Train on 2889506 samples, validate on 1496200 samples\n",
      "Epoch 1/50\n",
      "2889506/2889506 [==============================] - 797s - loss: 0.9312 - val_loss: 0.6905\n",
      "Epoch 2/50\n",
      "2889506/2889506 [==============================] - 745s - loss: 0.9229 - val_loss: 0.6917\n",
      "Epoch 3/50\n",
      "2889506/2889506 [==============================] - 780s - loss: 0.9204 - val_loss: 0.6897\n",
      "Epoch 4/50\n",
      "2889506/2889506 [==============================] - 847s - loss: 0.9186 - val_loss: 0.6914\n",
      "Epoch 5/50\n",
      "2889506/2889506 [==============================] - 757s - loss: 0.9169 - val_loss: 0.6926\n",
      "Epoch 6/50\n",
      "2889506/2889506 [==============================] - 792s - loss: 0.9154 - val_loss: 0.6899\n"
     ]
    },
    {
     "data": {
      "text/plain": [
       "<keras.callbacks.History at 0x7ffaa2413438>"
      ]
     },
     "execution_count": 71,
     "metadata": {},
     "output_type": "execute_result"
    }
   ],
   "source": [
    "model = Sequential()\n",
    "model.add(Dense(100, activation='relu', input_shape = (n_cols,))) \n",
    "model.add(Dropout(rate = 0.8))\n",
    "model.add(Dense(1000, activation='relu'))\n",
    "model.add(Dense(500, activation='relu'))\n",
    "model.add(Dense(100, activation='relu'))\n",
    "model.add(Dense(2, activation='softmax'))\n",
    "model.compile(optimizer=SGD(lr=0.0001), loss='categorical_crossentropy')\n",
    "model.fit(X_train_s, y_train, callbacks = [early_stopping_monitor], validation_data=(X_val_s, y_val),\n",
    "         batch_size=64, class_weight={0:1., 1:2.}, epochs=50)"
   ]
  },
  {
   "cell_type": "code",
   "execution_count": 73,
   "metadata": {},
   "outputs": [
    {
     "name": "stdout",
     "output_type": "stream",
     "text": [
      "             precision    recall  f1-score   support\n",
      "\n",
      "        0.0       0.79      0.44      0.56   1004446\n",
      "        1.0       0.40      0.77      0.53    491754\n",
      "\n",
      "avg / total       0.66      0.54      0.55   1496200\n",
      "\n"
     ]
    }
   ],
   "source": [
    "y_val_pred = model.predict(X_val_s)\n",
    "y_val_pred_abs = (y_val_pred[:,1] > 0.5)*1\n",
    "print(classification_report(y_val[:,1], y_val_pred_abs))"
   ]
  },
  {
   "cell_type": "code",
   "execution_count": null,
   "metadata": {},
   "outputs": [],
   "source": [
    "model.save('neuralnetwork.h5')"
   ]
  }
 ],
 "metadata": {
  "kernelspec": {
   "display_name": "dog-project",
   "language": "python",
   "name": "dog-project"
  },
  "language_info": {
   "codemirror_mode": {
    "name": "ipython",
    "version": 3
   },
   "file_extension": ".py",
   "mimetype": "text/x-python",
   "name": "python",
   "nbconvert_exporter": "python",
   "pygments_lexer": "ipython3",
   "version": "3.5.6"
  }
 },
 "nbformat": 4,
 "nbformat_minor": 2
}
